{
  "cells": [
    {
      "cell_type": "markdown",
      "source": [
        "# Knowledge Distillation with Hint Training: Experiment 1\n",
        "\n",
        "Hint and Guided layer in beginning, middle and end.\n"
      ],
      "metadata": {
        "id": "K9VBTCDfwlVu"
      }
    },
    {
      "cell_type": "code",
      "execution_count": 1,
      "metadata": {
        "id": "6kq6e0HJTtqH"
      },
      "outputs": [],
      "source": [
        "import torch\n",
        "import torch.nn as nn\n",
        "import torch.optim as optim\n",
        "import torchvision.transforms as transforms\n",
        "import torchvision.datasets as datasets\n",
        "\n",
        "# Check if GPU is available, and if not, use the CPU\n",
        "device = torch.device(\"cuda\" if torch.cuda.is_available() else \"cpu\")\n"
      ]
    },
    {
      "cell_type": "code",
      "execution_count": 2,
      "metadata": {
        "colab": {
          "base_uri": "https://localhost:8080/"
        },
        "id": "DnsQXEYXNfWe",
        "outputId": "0ac4dbb9-04b7-4be4-a16e-3ba65263bfaf"
      },
      "outputs": [
        {
          "output_type": "stream",
          "name": "stdout",
          "text": [
            "Downloading https://www.cs.toronto.edu/~kriz/cifar-10-python.tar.gz to ./data/cifar-10-python.tar.gz\n"
          ]
        },
        {
          "output_type": "stream",
          "name": "stderr",
          "text": [
            "100%|██████████| 170498071/170498071 [00:05<00:00, 30284428.27it/s]\n"
          ]
        },
        {
          "output_type": "stream",
          "name": "stdout",
          "text": [
            "Extracting ./data/cifar-10-python.tar.gz to ./data\n",
            "Files already downloaded and verified\n"
          ]
        }
      ],
      "source": [
        "# Below we are preprocessing data for CIFAR-10. We use an arbitrary batch size of 128.\n",
        "transforms_cifar = transforms.Compose([\n",
        "    transforms.ToTensor(),\n",
        "    transforms.Normalize(mean=[0.485, 0.456, 0.406], std=[0.229, 0.224, 0.225]),\n",
        "])\n",
        "\n",
        "# Loading the CIFAR-10 dataset:\n",
        "train_dataset = datasets.CIFAR10(root='./data', train=True, download=True, transform=transforms_cifar)\n",
        "test_dataset = datasets.CIFAR10(root='./data', train=False, download=True, transform=transforms_cifar)"
      ]
    },
    {
      "cell_type": "code",
      "execution_count": 3,
      "metadata": {
        "id": "GoSunRORUXj8"
      },
      "outputs": [],
      "source": [
        "#Dataloaders\n",
        "train_loader = torch.utils.data.DataLoader(train_dataset, batch_size=128, shuffle=True, num_workers=2)\n",
        "test_loader = torch.utils.data.DataLoader(test_dataset, batch_size=128, shuffle=False, num_workers=2)"
      ]
    },
    {
      "cell_type": "markdown",
      "source": [
        "DeepNN(Not actually Deep): Shallow Neural Network but very wide with 3 Convolutional Layers and over 3 million parameters.\n",
        "LightNN: much deeper network with 9 convolutional layers but much thinner with over 140,000 parameters."
      ],
      "metadata": {
        "id": "Jxwv218pNwJ4"
      }
    },
    {
      "cell_type": "code",
      "execution_count": 4,
      "metadata": {
        "id": "JPpZxkpuUXj9"
      },
      "outputs": [],
      "source": [
        "# Wide Shallow neural network class to be used as teacher:\n",
        "# 3 different instantiations where the hint layer parameters are returned, either first, second, or third convolutional layer\n",
        "\n",
        "class DeepNN(nn.Module):\n",
        "    def __init__(self, num_classes=10):\n",
        "        super(DeepNN, self).__init__()\n",
        "        self.features1 = nn.Sequential(\n",
        "            nn.Conv2d(3, 128, kernel_size=3, padding=1),\n",
        "            nn.ReLU(),\n",
        "            nn.MaxPool2d(kernel_size=2, stride=2),\n",
        "        )\n",
        "        self.features2 = nn.Sequential(\n",
        "            nn.Conv2d(128, 356, kernel_size=3, padding=1),\n",
        "            nn.ReLU(),\n",
        "            nn.MaxPool2d(kernel_size=2, stride=2),\n",
        "        )\n",
        "        self.features3 = nn.Sequential(\n",
        "            nn.Conv2d(356, 356, kernel_size=3, padding=1),\n",
        "            nn.ReLU(),\n",
        "            nn.MaxPool2d(kernel_size=4, stride=2),\n",
        "        )\n",
        "        self.classifier = nn.Sequential(\n",
        "            nn.Linear(3204, 512),\n",
        "            nn.ReLU(),\n",
        "            nn.Dropout(0.1),\n",
        "            nn.Linear(512, num_classes)\n",
        "        )\n",
        "\n",
        "    def forward(self, x):\n",
        "        x = self.features1(x)\n",
        "        conv_feature_map = x\n",
        "        x = self.features2(x)\n",
        "        x = self.features3(x)\n",
        "        x = torch.flatten(x, 1)\n",
        "        x = self.classifier(x)\n",
        "        return x, conv_feature_map\n",
        "\n",
        "class DeepNN2(nn.Module):\n",
        "    def __init__(self, num_classes=10):\n",
        "        super(DeepNN2, self).__init__()\n",
        "        self.features1 = nn.Sequential(\n",
        "            nn.Conv2d(3, 128, kernel_size=3, padding=1),\n",
        "            nn.ReLU(),\n",
        "            nn.MaxPool2d(kernel_size=2, stride=2),\n",
        "        )\n",
        "        self.features2 = nn.Sequential(\n",
        "            nn.Conv2d(128, 356, kernel_size=3, padding=1),\n",
        "            nn.ReLU(),\n",
        "            nn.MaxPool2d(kernel_size=2, stride=2),\n",
        "        )\n",
        "        self.features3 = nn.Sequential(\n",
        "            nn.Conv2d(356, 356, kernel_size=3, padding=1),\n",
        "            nn.ReLU(),\n",
        "            nn.MaxPool2d(kernel_size=4, stride=2),\n",
        "        )\n",
        "        self.classifier = nn.Sequential(\n",
        "            nn.Linear(3204, 512),\n",
        "            nn.ReLU(),\n",
        "            nn.Dropout(0.1),\n",
        "            nn.Linear(512, num_classes)\n",
        "        )\n",
        "\n",
        "\n",
        "    def forward(self, x):\n",
        "        x = self.features1(x)\n",
        "        x = self.features2(x)\n",
        "        conv_feature_map = x\n",
        "        x = self.features3(x)\n",
        "        x = torch.flatten(x, 1)\n",
        "        x = self.classifier(x)\n",
        "        return x, conv_feature_map\n",
        "\n",
        "class DeepNN3(nn.Module):\n",
        "    def __init__(self, num_classes=10):\n",
        "        super(DeepNN3, self).__init__()\n",
        "        self.features1 = nn.Sequential(\n",
        "            nn.Conv2d(3, 128, kernel_size=3, padding=1),\n",
        "            nn.ReLU(),\n",
        "            nn.MaxPool2d(kernel_size=2, stride=2),\n",
        "        )\n",
        "        self.features2 = nn.Sequential(\n",
        "            nn.Conv2d(128, 356, kernel_size=3, padding=1),\n",
        "            nn.ReLU(),\n",
        "            nn.MaxPool2d(kernel_size=2, stride=2),\n",
        "        )\n",
        "        self.features3 = nn.Sequential(\n",
        "            nn.Conv2d(356, 356, kernel_size=3, padding=1),\n",
        "            nn.ReLU(),\n",
        "            nn.MaxPool2d(kernel_size=4, stride=2),\n",
        "        )\n",
        "        self.classifier = nn.Sequential(\n",
        "            nn.Linear(3204, 512),\n",
        "            nn.ReLU(),\n",
        "            nn.Dropout(0.1),\n",
        "            nn.Linear(512, num_classes)\n",
        "        )\n",
        "\n",
        "    def forward(self, x):\n",
        "        x = self.features1(x)\n",
        "        x = self.features2(x)\n",
        "        x = self.features3(x)\n",
        "        conv_feature_map = x\n",
        "        x = torch.flatten(x, 1)\n",
        "        x = self.classifier(x)\n",
        "        return x, conv_feature_map\n",
        "\n",
        "\n",
        "\n",
        "# Lightweight neural network class to be used as student, much deeper but thinner network:\n",
        "class LightNN(nn.Module):\n",
        "    def __init__(self, num_classes=10):\n",
        "        super(LightNN, self).__init__()\n",
        "        self.features = nn.Sequential(\n",
        "            nn.Conv2d(3, 16, kernel_size=3, padding=1),\n",
        "            nn.ReLU(),\n",
        "            nn.Conv2d(16, 16, kernel_size=3, padding=1),\n",
        "            nn.ReLU(),\n",
        "            nn.Conv2d(16, 16, kernel_size=3, padding=1),\n",
        "            nn.ReLU(),\n",
        "            nn.MaxPool2d(kernel_size=2, stride=2),\n",
        "            nn.Conv2d(16, 32, kernel_size=3, padding=1),\n",
        "            nn.ReLU(),\n",
        "            nn.Conv2d(32, 32, kernel_size=3, padding=1),\n",
        "            nn.ReLU(),\n",
        "            nn.Conv2d(32, 32, kernel_size=3, padding=1),\n",
        "            nn.ReLU(),\n",
        "            nn.MaxPool2d(kernel_size=2, stride=2),\n",
        "            nn.Conv2d(32, 48, kernel_size=3, padding=1),\n",
        "            nn.ReLU(),\n",
        "            nn.Conv2d(48, 48, kernel_size=3, padding=1),\n",
        "            nn.ReLU(),\n",
        "            nn.Conv2d(48, 48, kernel_size=3, padding=1),\n",
        "            nn.ReLU(),\n",
        "            nn.MaxPool2d(kernel_size=4, stride=2),\n",
        "        )\n",
        "        self.classifier = nn.Sequential(\n",
        "            nn.Linear(432, 128),\n",
        "            nn.ReLU(),\n",
        "            nn.Dropout(0.1),\n",
        "            nn.Linear(128, num_classes)\n",
        "        )\n",
        "\n",
        "    def forward(self, x):\n",
        "        x = self.features(x)\n",
        "        x = torch.flatten(x, 1)\n",
        "        x = self.classifier(x)\n",
        "        return x"
      ]
    },
    {
      "cell_type": "code",
      "execution_count": 5,
      "metadata": {
        "colab": {
          "base_uri": "https://localhost:8080/"
        },
        "id": "7MAd3uGoaZay",
        "outputId": "576b7588-e5f6-4f1a-c726-0a2702f77ecd"
      },
      "outputs": [
        {
          "output_type": "stream",
          "name": "stdout",
          "text": [
            "torch.Size([128, 3, 32, 32])\n",
            "torch.Size([128, 3, 32, 32])\n"
          ]
        }
      ],
      "source": [
        "#checking shape of data\n",
        "for x, y in train_loader:\n",
        "    print(x.shape)\n",
        "    break\n",
        "\n",
        "#checking shape of data\n",
        "for x, y in test_loader:\n",
        "    print(x.shape)\n",
        "    break"
      ]
    },
    {
      "cell_type": "code",
      "execution_count": 6,
      "metadata": {
        "id": "ONtyoauMUXj-"
      },
      "outputs": [],
      "source": [
        "def train(model, train_loader, epochs, learning_rate, device, is_tuple):\n",
        "    criterion = nn.CrossEntropyLoss()\n",
        "    optimizer = optim.Adam(model.parameters(), lr=learning_rate)\n",
        "\n",
        "    model.train()\n",
        "\n",
        "    for epoch in range(epochs):\n",
        "        running_loss = 0.0\n",
        "        for inputs, labels in train_loader:\n",
        "            # inputs: A collection of batch_size images\n",
        "            # labels: A vector of dimensionality batch_size with integers denoting class of each image\n",
        "            inputs, labels = inputs.to(device), labels.to(device)\n",
        "\n",
        "            optimizer.zero_grad()\n",
        "            if is_tuple == True:\n",
        "              outputs, map = model(inputs)\n",
        "            if is_tuple == False:\n",
        "              outputs = model(inputs)\n",
        "\n",
        "            # outputs: Output of the network for the collection of images. A tensor of dimensionality batch_size x num_classes\n",
        "            # labels: The actual labels of the images. Vector of dimensionality batch_size\n",
        "            loss = criterion(outputs, labels)\n",
        "            loss.backward()\n",
        "            optimizer.step()\n",
        "\n",
        "            running_loss += loss.item()\n",
        "\n",
        "        print(f\"Epoch {epoch+1}/{epochs}, Loss: {running_loss / len(train_loader)}\")\n",
        "\n",
        "def test(model, test_loader, device, is_tuple):\n",
        "    model.to(device)\n",
        "    model.eval()\n",
        "\n",
        "    correct = 0\n",
        "    total = 0\n",
        "\n",
        "    with torch.no_grad():\n",
        "        for inputs, labels in test_loader:\n",
        "            inputs, labels = inputs.to(device), labels.to(device)\n",
        "\n",
        "            if is_tuple == True:\n",
        "              outputs, map = model(inputs)\n",
        "            if is_tuple == False:\n",
        "              outputs = model(inputs)\n",
        "\n",
        "            #outputs = model(inputs)\n",
        "            _, predicted = torch.max(outputs.data, 1)\n",
        "\n",
        "            total += labels.size(0)\n",
        "            correct += (predicted == labels).sum().item()\n",
        "\n",
        "    accuracy = 100 * correct / total\n",
        "    print(f\"Test Accuracy: {accuracy:.2f}%\")\n",
        "    return accuracy"
      ]
    },
    {
      "cell_type": "markdown",
      "source": [
        "# Train Teacher Network"
      ],
      "metadata": {
        "id": "9z3H4Aie20Qx"
      }
    },
    {
      "cell_type": "code",
      "execution_count": 7,
      "metadata": {
        "colab": {
          "base_uri": "https://localhost:8080/"
        },
        "id": "jHe-UPD3UXj-",
        "outputId": "282d8b48-1563-4129-c2a7-b3e6002ded94"
      },
      "outputs": [
        {
          "output_type": "stream",
          "name": "stdout",
          "text": [
            "Epoch 1/15, Loss: 1.4520263959989523\n",
            "Epoch 2/15, Loss: 0.9534348714382143\n",
            "Epoch 3/15, Loss: 0.7547467898987138\n",
            "Epoch 4/15, Loss: 0.6344018812527132\n",
            "Epoch 5/15, Loss: 0.5438377241344403\n",
            "Epoch 6/15, Loss: 0.4661091280257915\n",
            "Epoch 7/15, Loss: 0.40139796339032596\n",
            "Epoch 8/15, Loss: 0.3346936466443874\n",
            "Epoch 9/15, Loss: 0.2862583933888799\n",
            "Epoch 10/15, Loss: 0.24660988885652074\n",
            "Epoch 11/15, Loss: 0.21071514782622036\n",
            "Epoch 12/15, Loss: 0.17448605391223107\n",
            "Epoch 13/15, Loss: 0.16270225264532182\n",
            "Epoch 14/15, Loss: 0.13989289174489963\n",
            "Epoch 15/15, Loss: 0.12728366112846243\n",
            "Test Accuracy: 77.22%\n"
          ]
        },
        {
          "output_type": "execute_result",
          "data": {
            "text/plain": [
              "<torch._C.Generator at 0x7e97b4bebcd0>"
            ]
          },
          "metadata": {},
          "execution_count": 7
        }
      ],
      "source": [
        "torch.manual_seed(42)\n",
        "nn_deep = DeepNN(num_classes=10).to(device)\n",
        "train(nn_deep, train_loader, epochs=15, learning_rate=0.001, device=device, is_tuple=True)\n",
        "test_accuracy_deep = test(nn_deep, test_loader, device, is_tuple=True)\n",
        "\n",
        "# Instantiate the lightweight network:\n",
        "torch.manual_seed(42)"
      ]
    },
    {
      "cell_type": "markdown",
      "source": [
        "# Train Student Network"
      ],
      "metadata": {
        "id": "eksGUWG828ht"
      }
    },
    {
      "cell_type": "code",
      "execution_count": 8,
      "metadata": {
        "colab": {
          "base_uri": "https://localhost:8080/"
        },
        "id": "co3GY_DzUXj_",
        "outputId": "bcc1faaa-9cfe-4b29-b82c-0787ba3231d9"
      },
      "outputs": [
        {
          "output_type": "stream",
          "name": "stdout",
          "text": [
            "DeepNN parameters: 3,201,122\n",
            "LightNN parameters: 140,378\n"
          ]
        }
      ],
      "source": [
        "nn_light = LightNN(num_classes=10).to(device)\n",
        "total_params_deep = \"{:,}\".format(sum(p.numel() for p in nn_deep.parameters()))\n",
        "print(f\"DeepNN parameters: {total_params_deep}\")\n",
        "total_params_light = \"{:,}\".format(sum(p.numel() for p in nn_light.parameters()))\n",
        "print(f\"LightNN parameters: {total_params_light}\")"
      ]
    },
    {
      "cell_type": "code",
      "execution_count": 9,
      "metadata": {
        "colab": {
          "base_uri": "https://localhost:8080/"
        },
        "id": "SFx5z8-23onD",
        "outputId": "77eb8011-a7e2-49b5-a1ec-afcc9d53fe7b"
      },
      "outputs": [
        {
          "output_type": "stream",
          "name": "stdout",
          "text": [
            "Epoch 1/15, Loss: 1.8517431895751173\n",
            "Epoch 2/15, Loss: 1.4583035832475824\n",
            "Epoch 3/15, Loss: 1.234693345816239\n",
            "Epoch 4/15, Loss: 1.0854455113715833\n",
            "Epoch 5/15, Loss: 0.977134457329655\n",
            "Epoch 6/15, Loss: 0.8846762924243117\n",
            "Epoch 7/15, Loss: 0.8166822044898177\n",
            "Epoch 8/15, Loss: 0.751284743666344\n",
            "Epoch 9/15, Loss: 0.7037253174025689\n",
            "Epoch 10/15, Loss: 0.6664565334387142\n",
            "Epoch 11/15, Loss: 0.6220652912278919\n",
            "Epoch 12/15, Loss: 0.5970804447408222\n",
            "Epoch 13/15, Loss: 0.5594652122091455\n",
            "Epoch 14/15, Loss: 0.5318591693020842\n",
            "Epoch 15/15, Loss: 0.4972910936683645\n",
            "Test Accuracy: 74.77%\n"
          ]
        }
      ],
      "source": [
        "train(nn_light, train_loader, epochs=15, learning_rate=0.001, device=device, is_tuple=False)\n",
        "test_accuracy_light_ce = test(nn_light, test_loader, device, is_tuple=False)"
      ]
    },
    {
      "cell_type": "code",
      "execution_count": 10,
      "metadata": {
        "id": "himnu42LyBvL"
      },
      "outputs": [],
      "source": [
        "torch.manual_seed(42)\n",
        "new_nn_light = LightNN(num_classes=10).to(device)"
      ]
    },
    {
      "cell_type": "markdown",
      "source": [
        "# Train Student Network with Knowledge Distillation and Cross Entropy from Hinton et. al."
      ],
      "metadata": {
        "id": "2jmtz-_92_1w"
      }
    },
    {
      "cell_type": "code",
      "execution_count": 11,
      "metadata": {
        "colab": {
          "base_uri": "https://localhost:8080/"
        },
        "id": "o-qlFc3xUXkA",
        "outputId": "229fed1c-bdeb-485d-f079-7ec3934c2fef"
      },
      "outputs": [
        {
          "output_type": "stream",
          "name": "stdout",
          "text": [
            "Epoch 1/15, Loss: 3.346776022020813\n",
            "Epoch 2/15, Loss: 2.7153116559128625\n",
            "Epoch 3/15, Loss: 2.349225106446639\n",
            "Epoch 4/15, Loss: 2.117342648298844\n",
            "Epoch 5/15, Loss: 1.9277966824333992\n",
            "Epoch 6/15, Loss: 1.8013699536433305\n",
            "Epoch 7/15, Loss: 1.6828551268028786\n",
            "Epoch 8/15, Loss: 1.5906910091409903\n",
            "Epoch 9/15, Loss: 1.5117233006850532\n",
            "Epoch 10/15, Loss: 1.458070687015953\n",
            "Epoch 11/15, Loss: 1.3901310415219164\n",
            "Epoch 12/15, Loss: 1.3491188313650049\n",
            "Epoch 13/15, Loss: 1.2871591282622588\n",
            "Epoch 14/15, Loss: 1.2514180635552272\n",
            "Epoch 15/15, Loss: 1.2079072280613052\n",
            "Test Accuracy: 73.89%\n",
            "Teacher accuracy: 77.22%\n",
            "Student accuracy without teacher: 74.77%\n",
            "Student accuracy with CE + KD: 73.89%\n"
          ]
        }
      ],
      "source": [
        "def train_knowledge_distillation(teacher, student, train_loader, epochs, learning_rate, T, soft_target_loss_weight, ce_loss_weight, device):\n",
        "    ce_loss = nn.CrossEntropyLoss()\n",
        "    optimizer = optim.Adam(student.parameters(), lr=learning_rate)\n",
        "\n",
        "    teacher.eval()  # Teacher set to evaluation mode\n",
        "    student.train() # Student to train mode\n",
        "\n",
        "    for epoch in range(epochs):\n",
        "        running_loss = 0.0\n",
        "        for inputs, labels in train_loader:\n",
        "            inputs, labels = inputs.to(device), labels.to(device)\n",
        "\n",
        "            optimizer.zero_grad()\n",
        "\n",
        "            # Forward pass with the teacher model - do not save gradients here as we do not change the teacher's weights\n",
        "            with torch.no_grad():\n",
        "                teacher_logits, _ = teacher(inputs)\n",
        "\n",
        "            # Forward pass with the student model\n",
        "            student_logits = student(inputs)\n",
        "\n",
        "            #Soften the student logits by applying softmax first and log() second\n",
        "            soft_targets = nn.functional.softmax(teacher_logits / T, dim=-1)\n",
        "            soft_prob = nn.functional.log_softmax(student_logits / T, dim=-1)\n",
        "\n",
        "            # Calculate the soft targets loss. Scaled by T**2 as suggested by the authors of the paper \"Distilling the knowledge in a neural network\"\n",
        "            soft_targets_loss = -torch.sum(soft_targets * soft_prob) / soft_prob.size()[0] * (T**2)\n",
        "\n",
        "            # Calculate the true label loss\n",
        "            label_loss = ce_loss(student_logits, labels)\n",
        "\n",
        "            # Weighted sum of the two losses\n",
        "            loss = soft_target_loss_weight * soft_targets_loss + ce_loss_weight * label_loss\n",
        "\n",
        "            loss.backward()\n",
        "            optimizer.step()\n",
        "\n",
        "            running_loss += loss.item()\n",
        "\n",
        "        print(f\"Epoch {epoch+1}/{epochs}, Loss: {running_loss / len(train_loader)}\")\n",
        "\n",
        "# Apply ``train_knowledge_distillation`` with a temperature of 2. Arbitrarily set the weights to 0.75 for CE and 0.25 for distillation loss.\n",
        "train_knowledge_distillation(teacher=nn_deep, student=new_nn_light, train_loader=train_loader, epochs=15, learning_rate=0.001, T=2, soft_target_loss_weight=0.25, ce_loss_weight=0.75, device=device)\n",
        "test_accuracy_light_ce_and_kd = test(new_nn_light, test_loader, device, is_tuple=False)\n",
        "\n",
        "# Compare the student test accuracy with and without the teacher, after distillation\n",
        "print(f\"Teacher accuracy: {test_accuracy_deep:.2f}%\")\n",
        "print(f\"Student accuracy without teacher: {test_accuracy_light_ce:.2f}%\")\n",
        "print(f\"Student accuracy with CE + KD: {test_accuracy_light_ce_and_kd:.2f}%\")"
      ]
    },
    {
      "cell_type": "code",
      "execution_count": 12,
      "metadata": {
        "id": "47xuD42KLnV5"
      },
      "outputs": [],
      "source": [
        "sample_input = torch.randn(128, 3, 32, 32).to(device)"
      ]
    },
    {
      "cell_type": "code",
      "execution_count": 13,
      "metadata": {
        "colab": {
          "base_uri": "https://localhost:8080/"
        },
        "id": "leDhmDLoMgpA",
        "outputId": "7d15d732-e389-4bb3-eb57-5570921ef39c"
      },
      "outputs": [
        {
          "output_type": "stream",
          "name": "stdout",
          "text": [
            "Student's feature extractor output shape:  torch.Size([128, 48, 3, 3])\n",
            "Teacher's feature extractor output shape:  torch.Size([128, 128, 16, 16])\n"
          ]
        }
      ],
      "source": [
        "convolutional_fe_output_student = nn_light.features(sample_input)\n",
        "convolutional_fe_output_teacher = nn_deep.features1(sample_input)\n",
        "# Print their shapes\n",
        "print(\"Student's feature extractor output shape: \", convolutional_fe_output_student.shape)\n",
        "print(\"Teacher's feature extractor output shape: \", convolutional_fe_output_teacher.shape)"
      ]
    },
    {
      "cell_type": "markdown",
      "source": [
        "# Modified Networks: Teacher stays the same. Student requires convolutional regressor on top of the Guided Layer. This increases the number of parameters to over 294,000 parameters."
      ],
      "metadata": {
        "id": "kBxRMQ7xU8kU"
      }
    },
    {
      "cell_type": "code",
      "execution_count": 14,
      "metadata": {
        "id": "i3nziVFLUXkD"
      },
      "outputs": [],
      "source": [
        "class ModifiedLightNNRegressor(nn.Module):\n",
        "    def __init__(self, num_classes=10):\n",
        "        super(ModifiedLightNNRegressor, self).__init__()\n",
        "        self.features1 = nn.Sequential(\n",
        "            nn.Conv2d(3, 16, kernel_size=3, padding=1),\n",
        "            nn.ReLU(),\n",
        "            nn.Conv2d(16, 16, kernel_size=3, padding=1),\n",
        "            nn.ReLU(),\n",
        "            nn.Conv2d(16, 16, kernel_size=3, padding=1),\n",
        "            nn.ReLU(),\n",
        "            nn.MaxPool2d(kernel_size=2, stride=2),\n",
        "        )\n",
        "\n",
        "        self.features2 = nn.Sequential(\n",
        "            nn.Conv2d(16, 32, kernel_size=3, padding=1),\n",
        "            nn.ReLU(),\n",
        "            nn.Conv2d(32, 32, kernel_size=3, padding=1),\n",
        "            nn.ReLU(),\n",
        "            nn.Conv2d(32, 32, kernel_size=3, padding=1),\n",
        "            nn.ReLU(),\n",
        "            nn.MaxPool2d(kernel_size=2, stride=2),\n",
        "        )\n",
        "        self.features3= nn.Sequential(\n",
        "            nn.Conv2d(32, 48, kernel_size=3, padding=1),\n",
        "            nn.ReLU(),\n",
        "            nn.Conv2d(48, 48, kernel_size=3, padding=1),\n",
        "            nn.ReLU(),\n",
        "            nn.Conv2d(48, 48, kernel_size=3, padding=1),\n",
        "            nn.ReLU(),\n",
        "            nn.MaxPool2d(kernel_size=4, stride=2),\n",
        "        )\n",
        "\n",
        "        self.regressor = nn.Sequential(\n",
        "            nn.Conv2d(16, 128, kernel_size=3, padding=1)\n",
        "        )\n",
        "\n",
        "        self.classifier = nn.Sequential(\n",
        "            nn.Linear(432, 128),\n",
        "            nn.ReLU(),\n",
        "            nn.Dropout(0.1),\n",
        "            nn.Linear(128, num_classes)\n",
        "        )\n",
        "\n",
        "    def forward(self, x):\n",
        "        x = self.features1(x)\n",
        "        regressor_output = self.regressor(x)\n",
        "        x = self.features2(x)\n",
        "        x = self.features3(x)\n",
        "        x = torch.flatten(x, 1)\n",
        "        x = self.classifier(x)\n",
        "        return x, regressor_output\n",
        "\n",
        "\n",
        "\n",
        "class ModifiedLightNNRegressor2(nn.Module):\n",
        "    def __init__(self, num_classes=10):\n",
        "        super(ModifiedLightNNRegressor2, self).__init__()\n",
        "        self.features1 = nn.Sequential(\n",
        "            nn.Conv2d(3, 16, kernel_size=3, padding=1),\n",
        "            nn.ReLU(),\n",
        "            nn.Conv2d(16, 16, kernel_size=3, padding=1),\n",
        "            nn.ReLU(),\n",
        "            nn.Conv2d(16, 16, kernel_size=3, padding=1),\n",
        "            nn.ReLU(),\n",
        "            nn.MaxPool2d(kernel_size=2, stride=2),\n",
        "        )\n",
        "\n",
        "        self.features2 = nn.Sequential(\n",
        "            nn.Conv2d(16, 32, kernel_size=3, padding=1),\n",
        "            nn.ReLU(),\n",
        "            nn.Conv2d(32, 32, kernel_size=3, padding=1),\n",
        "            nn.ReLU(),\n",
        "            nn.Conv2d(32, 32, kernel_size=3, padding=1),\n",
        "            nn.ReLU(),\n",
        "            nn.MaxPool2d(kernel_size=2, stride=2),\n",
        "        )\n",
        "        self.features3= nn.Sequential(\n",
        "            nn.Conv2d(32, 48, kernel_size=3, padding=1),\n",
        "            nn.ReLU(),\n",
        "            nn.Conv2d(48, 48, kernel_size=3, padding=1),\n",
        "            nn.ReLU(),\n",
        "            nn.Conv2d(48, 48, kernel_size=3, padding=1),\n",
        "            nn.ReLU(),\n",
        "            nn.MaxPool2d(kernel_size=4, stride=2),\n",
        "        )\n",
        "\n",
        "        self.regressor = nn.Sequential(\n",
        "            nn.Conv2d(32, 356, kernel_size=3, padding=1)\n",
        "        )\n",
        "\n",
        "        self.classifier = nn.Sequential(\n",
        "            nn.Linear(432, 128),\n",
        "            nn.ReLU(),\n",
        "            nn.Dropout(0.1),\n",
        "            nn.Linear(128, num_classes)\n",
        "        )\n",
        "\n",
        "    def forward(self, x):\n",
        "        x = self.features1(x)\n",
        "        x = self.features2(x)\n",
        "        regressor_output = self.regressor(x)\n",
        "        x = self.features3(x)\n",
        "        x = torch.flatten(x, 1)\n",
        "        x = self.classifier(x)\n",
        "        return x, regressor_output\n",
        "\n",
        "\n",
        "\n",
        "\n",
        "class ModifiedLightNNRegressor3(nn.Module):\n",
        "    def __init__(self, num_classes=10):\n",
        "        super(ModifiedLightNNRegressor3, self).__init__()\n",
        "        self.features1 = nn.Sequential(\n",
        "            nn.Conv2d(3, 16, kernel_size=3, padding=1),\n",
        "            nn.ReLU(),\n",
        "            nn.Conv2d(16, 16, kernel_size=3, padding=1),\n",
        "            nn.ReLU(),\n",
        "            nn.Conv2d(16, 16, kernel_size=3, padding=1),\n",
        "            nn.ReLU(),\n",
        "            nn.MaxPool2d(kernel_size=2, stride=2),\n",
        "        )\n",
        "\n",
        "        self.features2 = nn.Sequential(\n",
        "            nn.Conv2d(16, 32, kernel_size=3, padding=1),\n",
        "            nn.ReLU(),\n",
        "            nn.Conv2d(32, 32, kernel_size=3, padding=1),\n",
        "            nn.ReLU(),\n",
        "            nn.Conv2d(32, 32, kernel_size=3, padding=1),\n",
        "            nn.ReLU(),\n",
        "            nn.MaxPool2d(kernel_size=2, stride=2),\n",
        "        )\n",
        "        self.features3= nn.Sequential(\n",
        "            nn.Conv2d(32, 48, kernel_size=3, padding=1),\n",
        "            nn.ReLU(),\n",
        "            nn.Conv2d(48, 48, kernel_size=3, padding=1),\n",
        "            nn.ReLU(),\n",
        "            nn.Conv2d(48, 48, kernel_size=3, padding=1),\n",
        "            nn.ReLU(),\n",
        "            nn.MaxPool2d(kernel_size=4, stride=2),\n",
        "        )\n",
        "\n",
        "        self.regressor = nn.Sequential(\n",
        "            nn.Conv2d(48, 356, kernel_size=3, padding=1)\n",
        "        )\n",
        "\n",
        "        self.classifier = nn.Sequential(\n",
        "            nn.Linear(432, 128),\n",
        "            nn.ReLU(),\n",
        "            nn.Dropout(0.1),\n",
        "            nn.Linear(128, num_classes)\n",
        "        )\n",
        "\n",
        "    def forward(self, x):\n",
        "        x = self.features1(x)\n",
        "        x = self.features2(x)\n",
        "        x = self.features3(x)\n",
        "        regressor_output = self.regressor(x)\n",
        "        x = torch.flatten(x, 1)\n",
        "        x = self.classifier(x)\n",
        "        return x, regressor_output"
      ]
    },
    {
      "cell_type": "code",
      "execution_count": 15,
      "metadata": {
        "colab": {
          "base_uri": "https://localhost:8080/"
        },
        "id": "HwleECOhR4f2",
        "outputId": "1305893a-933e-4916-d5e8-5ddf51e88c63"
      },
      "outputs": [
        {
          "output_type": "stream",
          "name": "stdout",
          "text": [
            "Student's feature extractor output shape:  torch.Size([128, 16, 16, 16])\n",
            "Teacher's feature extractor output shape:  torch.Size([128, 128, 16, 16])\n"
          ]
        }
      ],
      "source": [
        "mod_nn_light = ModifiedLightNNRegressor(num_classes=10).to(device)\n",
        "convolutional_fe_output_student = mod_nn_light.features1(sample_input)\n",
        "convolutional_fe_output_teacher = nn_deep.features1(sample_input)\n",
        "# Print their shapes\n",
        "print(\"Student's feature extractor output shape: \", convolutional_fe_output_student.shape)\n",
        "print(\"Teacher's feature extractor output shape: \", convolutional_fe_output_teacher.shape)"
      ]
    },
    {
      "cell_type": "code",
      "execution_count": 16,
      "metadata": {
        "colab": {
          "base_uri": "https://localhost:8080/"
        },
        "id": "TozGrH4wmh8Y",
        "outputId": "f9f6bf44-cff2-4543-c1d0-fd9290fdee8f"
      },
      "outputs": [
        {
          "output_type": "stream",
          "name": "stdout",
          "text": [
            "DeepNN parameters: 3,201,122\n",
            "LightNN parameters: 158,938\n"
          ]
        }
      ],
      "source": [
        "total_params_deep = \"{:,}\".format(sum(p.numel() for p in nn_deep.parameters()))\n",
        "print(f\"DeepNN parameters: {total_params_deep}\")\n",
        "total_params_light = \"{:,}\".format(sum(p.numel() for p in mod_nn_light.parameters()))\n",
        "print(f\"LightNN parameters: {total_params_light}\")"
      ]
    },
    {
      "cell_type": "code",
      "execution_count": 17,
      "metadata": {
        "id": "LC9GhxKx4PL_"
      },
      "outputs": [],
      "source": [
        "def test_multiple_outputs(model, test_loader, device):\n",
        "    model.to(device)\n",
        "    model.eval()\n",
        "\n",
        "    correct = 0\n",
        "    total = 0\n",
        "\n",
        "    with torch.no_grad():\n",
        "        for inputs, labels in test_loader:\n",
        "            inputs, labels = inputs.to(device), labels.to(device)\n",
        "\n",
        "            outputs, _ = model(inputs) # Disregard the second tensor of the tuple\n",
        "            _, predicted = torch.max(outputs.data, 1)\n",
        "\n",
        "            total += labels.size(0)\n",
        "            correct += (predicted == labels).sum().item()\n",
        "\n",
        "    accuracy = 100 * correct / total\n",
        "    print(f\"Test Accuracy: {accuracy:.2f}%\")\n",
        "    return accuracy"
      ]
    },
    {
      "cell_type": "code",
      "execution_count": 18,
      "metadata": {
        "id": "s-EwlFwl9saJ"
      },
      "outputs": [],
      "source": [
        "import torch.nn as nn\n",
        "import torch\n",
        "\n",
        "class CustomLoss(nn.Module):\n",
        "    def __init__(self):\n",
        "        super(CustomLoss, self).__init__()\n",
        "\n",
        "    def forward(self, inputs, targets):\n",
        "        loss = (torch.norm(inputs - targets)**2)*0.5\n",
        "        #loss = -1 * (targets * torch.log(inputs) + (1 - targets) * torch.log(1 - inputs))\n",
        "        return loss.mean()"
      ]
    },
    {
      "cell_type": "markdown",
      "source": [
        "# Start 2-Stage Training:\n",
        "1. MSE Loss between Hint and Guided Layers minimized for 10 epochs.\n",
        "2. Knowledge distillation run where CE loss in combination with KD loss function are weighted and minimized.  "
      ],
      "metadata": {
        "id": "slomhKXfVhTu"
      }
    },
    {
      "cell_type": "code",
      "execution_count": 19,
      "metadata": {
        "colab": {
          "base_uri": "https://localhost:8080/"
        },
        "id": "et5g4-fz3k24",
        "outputId": "13541e36-792d-425a-ff48-cfc9b27c9cdc"
      },
      "outputs": [
        {
          "output_type": "stream",
          "name": "stdout",
          "text": [
            "Epoch 1/10, Loss: 1.892559883234751\n",
            "Epoch 2/10, Loss: 1.5386585500234229\n",
            "Epoch 3/10, Loss: 1.3878256393515545\n",
            "Epoch 4/10, Loss: 1.281129860817014\n",
            "Epoch 5/10, Loss: 1.2000640391388817\n",
            "Epoch 6/10, Loss: 1.128105265710055\n",
            "Epoch 7/10, Loss: 1.063829592274278\n",
            "Epoch 8/10, Loss: 1.0044389043927497\n",
            "Epoch 9/10, Loss: 0.9495981183198406\n",
            "Epoch 10/10, Loss: 0.9041930549894758\n",
            "Epoch 1/10, Loss: 1.94764286935177\n",
            "Epoch 2/10, Loss: 1.6376763310883662\n",
            "Epoch 3/10, Loss: 1.4775052744409312\n",
            "Epoch 4/10, Loss: 1.3662629185430228\n",
            "Epoch 5/10, Loss: 1.2686319573760947\n",
            "Epoch 6/10, Loss: 1.1931388086979957\n",
            "Epoch 7/10, Loss: 1.122466505945796\n",
            "Epoch 8/10, Loss: 1.0584449883921982\n",
            "Epoch 9/10, Loss: 1.0070317500387616\n",
            "Epoch 10/10, Loss: 0.969907849798422\n",
            "Epoch 1/10, Loss: 1.9602105946796935\n",
            "Epoch 2/10, Loss: 1.6109210810697903\n",
            "Epoch 3/10, Loss: 1.4027366940017856\n",
            "Epoch 4/10, Loss: 1.264879050157259\n",
            "Epoch 5/10, Loss: 1.1622212442290751\n",
            "Epoch 6/10, Loss: 1.0828604310979624\n",
            "Epoch 7/10, Loss: 1.0339541429144037\n",
            "Epoch 8/10, Loss: 0.9747603746021495\n",
            "Epoch 9/10, Loss: 0.9389081914406603\n",
            "Epoch 10/10, Loss: 0.9091314604825071\n"
          ]
        }
      ],
      "source": [
        "def train_mse_loss(teacher, student, train_loader, epochs, learning_rate, feature_map_weight, ce_loss_weight, device):\n",
        "    ce_loss = nn.CrossEntropyLoss()\n",
        "    #mse_loss = CustomLoss()\n",
        "    mse_loss = nn.MSELoss()\n",
        "    optimizer = optim.Adam(student.parameters(), lr=learning_rate)\n",
        "\n",
        "    teacher.to(device)\n",
        "    student.to(device)\n",
        "    teacher.eval()  # Teacher set to evaluation mode\n",
        "    student.train() # Student to train mode\n",
        "\n",
        "    for epoch in range(epochs):\n",
        "        running_loss = 0.0\n",
        "        for inputs, labels in train_loader:\n",
        "            inputs, labels = inputs.to(device), labels.to(device)\n",
        "\n",
        "            optimizer.zero_grad()\n",
        "\n",
        "            # Again ignore teacher logits\n",
        "            with torch.no_grad():\n",
        "                _, teacher_feature_map = teacher(inputs)\n",
        "\n",
        "            # Forward pass with the student model\n",
        "            student_logits, regressor_feature_map = student(inputs)\n",
        "\n",
        "            # Calculate the loss\n",
        "            hidden_rep_loss = mse_loss(regressor_feature_map, teacher_feature_map)\n",
        "\n",
        "            # Calculate the true label loss\n",
        "            label_loss = ce_loss(student_logits, labels)\n",
        "\n",
        "            # Only minimize mse loss of teacher and regressor feature maps\n",
        "            loss = label_loss#feature_map_weight * hidden_rep_loss + ce_loss_weight * label_loss\n",
        "\n",
        "            loss.backward()\n",
        "            optimizer.step()\n",
        "\n",
        "            running_loss += loss.item()\n",
        "\n",
        "        print(f\"Epoch {epoch+1}/{epochs}, Loss: {running_loss / len(train_loader)}\")\n",
        "\n",
        "# Notice how our test function remains the same here with the one we used in our previous case. We only care about the actual outputs because we measure accuracy.\n",
        "\n",
        "# Initialize a ModifiedLightNNRegressor\n",
        "torch.manual_seed(42)\n",
        "modified_nn_light_reg = ModifiedLightNNRegressor(num_classes=10).to(device)\n",
        "modified_nn_light_reg2 = ModifiedLightNNRegressor2(num_classes=10).to(device)\n",
        "modified_nn_light_reg3 = ModifiedLightNNRegressor3(num_classes=10).to(device)\n",
        "\n",
        "# We do not have to train the modified deep network from scratch of course, we just load its weights from the trained instance\n",
        "modified_nn_deep_reg = DeepNN(num_classes=10).to(device)\n",
        "modified_nn_deep_reg.load_state_dict(nn_deep.state_dict())\n",
        "modified_nn_deep_reg2 = DeepNN2(num_classes=10).to(device)\n",
        "modified_nn_deep_reg2.load_state_dict(nn_deep.state_dict())\n",
        "modified_nn_deep_reg3 = DeepNN3(num_classes=10).to(device)\n",
        "modified_nn_deep_reg3.load_state_dict(nn_deep.state_dict())\n",
        "\n",
        "\n",
        "\n",
        "#train(modified_nn_deep_reg, train_loader, epochs=10, learning_rate=0.001, device=device)\n",
        "#test_accuracy_deep = test(modified_nn_deep_reg, test_loader, device)\n",
        "\n",
        "\n",
        "#Freeze params after convolutional layers, train up until classifier\n",
        "for param in modified_nn_light_reg.classifier.parameters():\n",
        "  param.requires_grad = False\n",
        "for param in modified_nn_light_reg2.classifier.parameters():\n",
        "  param.requires_grad = False\n",
        "for param in modified_nn_light_reg3.classifier.parameters():\n",
        "  param.requires_grad = False\n",
        "\n",
        "# Train and test once again\n",
        "train_mse_loss(teacher=modified_nn_deep_reg, student=modified_nn_light_reg, train_loader=train_loader, epochs=10, learning_rate=0.001, feature_map_weight=0.25, ce_loss_weight=0.75, device=device)\n",
        "train_mse_loss(teacher=modified_nn_deep_reg2, student=modified_nn_light_reg2, train_loader=train_loader, epochs=10, learning_rate=0.001, feature_map_weight=0.25, ce_loss_weight=0.75, device=device)\n",
        "train_mse_loss(teacher=modified_nn_deep_reg3, student=modified_nn_light_reg3, train_loader=train_loader, epochs=10, learning_rate=0.001, feature_map_weight=0.25, ce_loss_weight=0.75, device=device)"
      ]
    },
    {
      "cell_type": "code",
      "source": [
        "#unfreeze parameters and train finally with knowledge distillation for stage 2\n",
        "\n",
        "for param in modified_nn_light_reg.classifier.parameters():\n",
        "  param.requires_grad = True\n",
        "for param in modified_nn_light_reg2.classifier.parameters():\n",
        "  param.requires_grad = True\n",
        "for param in modified_nn_light_reg3.classifier.parameters():\n",
        "  param.requires_grad = True\n",
        "\n",
        "def train_knowledge_distillation1(teacher, student, train_loader, epochs, learning_rate, T, soft_target_loss_weight, ce_loss_weight, device):\n",
        "    ce_loss = nn.CrossEntropyLoss()\n",
        "    optimizer = optim.Adam(student.parameters(), lr=learning_rate)\n",
        "\n",
        "    teacher.eval()  # Teacher set to evaluation mode\n",
        "    student.train() # Student to train mode\n",
        "\n",
        "    for epoch in range(epochs):\n",
        "        running_loss = 0.0\n",
        "        for inputs, labels in train_loader:\n",
        "            inputs, labels = inputs.to(device), labels.to(device)\n",
        "\n",
        "            optimizer.zero_grad()\n",
        "\n",
        "            # Forward pass with the teacher model - do not save gradients here as we do not change the teacher's weights\n",
        "            with torch.no_grad():\n",
        "                teacher_logits, _ = teacher(inputs)\n",
        "\n",
        "            # Forward pass with the student model\n",
        "            student_logits, _  = student(inputs)\n",
        "\n",
        "            #Soften the student logits by applying softmax first and log() second\n",
        "            soft_targets = nn.functional.softmax(teacher_logits / T, dim=-1)\n",
        "            soft_prob = nn.functional.log_softmax(student_logits / T, dim=-1)\n",
        "\n",
        "            # Calculate the soft targets loss. Scaled by T**2 as suggested by the authors of the paper \"Distilling the knowledge in a neural network\"\n",
        "            soft_targets_loss = -torch.sum(soft_targets * soft_prob) / soft_prob.size()[0] * (T**2)\n",
        "\n",
        "            # Calculate the true label loss\n",
        "            label_loss = ce_loss(student_logits, labels)\n",
        "\n",
        "            # Weighted sum of the two losses\n",
        "            loss = soft_target_loss_weight * soft_targets_loss + ce_loss_weight * label_loss\n",
        "\n",
        "            loss.backward()\n",
        "            optimizer.step()\n",
        "\n",
        "            running_loss += loss.item()\n",
        "\n",
        "        print(f\"Epoch {epoch+1}/{epochs}, Loss: {running_loss / len(train_loader)}\")\n",
        "\n"
      ],
      "metadata": {
        "id": "m_IedJq24ZMP"
      },
      "execution_count": 20,
      "outputs": []
    },
    {
      "cell_type": "code",
      "source": [
        "train_knowledge_distillation1(teacher=modified_nn_deep_reg, student=modified_nn_light_reg, train_loader=train_loader, epochs=10, learning_rate=0.001, T=2, soft_target_loss_weight=0.25, ce_loss_weight=0.75, device=device)\n",
        "train_knowledge_distillation1(teacher=modified_nn_deep_reg2, student=modified_nn_light_reg2, train_loader=train_loader, epochs=10, learning_rate=0.001, T=2, soft_target_loss_weight=0.25, ce_loss_weight=0.75, device=device)\n",
        "train_knowledge_distillation1(teacher=modified_nn_deep_reg3, student=modified_nn_light_reg3, train_loader=train_loader, epochs=10, learning_rate=0.001, T=2, soft_target_loss_weight=0.25, ce_loss_weight=0.75, device=device)\n",
        "print(f\"Teacher Accuracy:\")\n",
        "test_accuracy_deep = test(modified_nn_deep_reg, test_loader, device, is_tuple= True)\n",
        "print(f\"Final Student Accuracy (Hint = 1):\")\n",
        "test_accuracy_light_ce_and_mse_loss1 = test_multiple_outputs(modified_nn_light_reg, test_loader, device)\n",
        "print(f\"Final Student Accuracy (Hint = 2):\")\n",
        "test_accuracy_light_ce_and_mse_loss2 = test_multiple_outputs(modified_nn_light_reg2, test_loader, device)\n",
        "print(f\"Final Student Accuracy (Hint = 3):\")\n",
        "test_accuracy_light_ce_and_mse_loss3 = test_multiple_outputs(modified_nn_light_reg3, test_loader, device)"
      ],
      "metadata": {
        "colab": {
          "base_uri": "https://localhost:8080/"
        },
        "id": "L9s7cZC52NW8",
        "outputId": "ababe06c-b5f4-45dc-fb03-0d8fed388c52"
      },
      "execution_count": 21,
      "outputs": [
        {
          "output_type": "stream",
          "name": "stdout",
          "text": [
            "Epoch 1/10, Loss: 1.6636662882612185\n",
            "Epoch 2/10, Loss: 1.5187497803622194\n",
            "Epoch 3/10, Loss: 1.4281714770495129\n",
            "Epoch 4/10, Loss: 1.351959081866857\n",
            "Epoch 5/10, Loss: 1.2860061791546815\n",
            "Epoch 6/10, Loss: 1.2245834632907682\n",
            "Epoch 7/10, Loss: 1.1704592335864406\n",
            "Epoch 8/10, Loss: 1.135043044376861\n",
            "Epoch 9/10, Loss: 1.0854161517394474\n",
            "Epoch 10/10, Loss: 1.068695957246034\n",
            "Epoch 1/10, Loss: 1.7640529642324618\n",
            "Epoch 2/10, Loss: 1.626938057067754\n",
            "Epoch 3/10, Loss: 1.5341035414229878\n",
            "Epoch 4/10, Loss: 1.4719279841388888\n",
            "Epoch 5/10, Loss: 1.4043076294462393\n",
            "Epoch 6/10, Loss: 1.3539477021188078\n",
            "Epoch 7/10, Loss: 1.3061789658368397\n",
            "Epoch 8/10, Loss: 1.2564769089984162\n",
            "Epoch 9/10, Loss: 1.2021003133805512\n",
            "Epoch 10/10, Loss: 1.1746260920144103\n",
            "Epoch 1/10, Loss: 1.6988924763086812\n",
            "Epoch 2/10, Loss: 1.5742417817835308\n",
            "Epoch 3/10, Loss: 1.4906383219277461\n",
            "Epoch 4/10, Loss: 1.4271146677948934\n",
            "Epoch 5/10, Loss: 1.3723106914773926\n",
            "Epoch 6/10, Loss: 1.312894817203512\n",
            "Epoch 7/10, Loss: 1.2773472601190552\n",
            "Epoch 8/10, Loss: 1.2300627579164627\n",
            "Epoch 9/10, Loss: 1.2013131524900647\n",
            "Epoch 10/10, Loss: 1.1624906520404474\n",
            "Teacher Accuracy:\n",
            "Test Accuracy: 77.22%\n",
            "Final Student Accuracy (Hint = 1):\n",
            "Test Accuracy: 74.45%\n",
            "Final Student Accuracy (Hint = 2):\n",
            "Test Accuracy: 72.47%\n",
            "Final Student Accuracy (Hint = 3):\n",
            "Test Accuracy: 74.31%\n"
          ]
        }
      ]
    },
    {
      "cell_type": "markdown",
      "source": [
        "# Final Model Accuracies\n",
        "As we can see, the student's accuracy is much improved with the 2-stage training following similar methodology in Romero et. al."
      ],
      "metadata": {
        "id": "eudQqGFqYr9J"
      }
    },
    {
      "cell_type": "code",
      "execution_count": 22,
      "metadata": {
        "colab": {
          "base_uri": "https://localhost:8080/"
        },
        "id": "8PjO9MkK3mB8",
        "outputId": "191348e1-71d9-456f-a7de-adb705686ed5"
      },
      "outputs": [
        {
          "output_type": "stream",
          "name": "stdout",
          "text": [
            "Teacher accuracy: 77.22%\n",
            "Student accuracy without teacher: 74.77%\n",
            "Student accuracy with CE + KD: 73.89%\n",
            "Student accuracy (hint=1 and guided = Beginning) and Stage 1(RegressorMSE) + Stage 2(CE + KD): 74.45%\n",
            "Student accuracy (hint=2 and guided = Middle) and Stage 1(RegressorMSE) + Stage 2(CE + KD): 72.47%\n",
            "Student accuracy (hint=3 and guided = End) and Stage 1(RegressorMSE) + Stage 2(CE + KD): 74.31%\n"
          ]
        }
      ],
      "source": [
        "print(f\"Teacher accuracy: {test_accuracy_deep:.2f}%\")\n",
        "print(f\"Student accuracy without teacher: {test_accuracy_light_ce:.2f}%\")\n",
        "print(f\"Student accuracy with CE + KD: {test_accuracy_light_ce_and_kd:.2f}%\")\n",
        "print(f\"Student accuracy (hint=1 and guided = Beginning) and Stage 1(RegressorMSE) + Stage 2(CE + KD): {test_accuracy_light_ce_and_mse_loss1:.2f}%\")\n",
        "print(f\"Student accuracy (hint=2 and guided = Middle) and Stage 1(RegressorMSE) + Stage 2(CE + KD): {test_accuracy_light_ce_and_mse_loss2:.2f}%\")\n",
        "print(f\"Student accuracy (hint=3 and guided = End) and Stage 1(RegressorMSE) + Stage 2(CE + KD): {test_accuracy_light_ce_and_mse_loss3:.2f}%\")"
      ]
    },
    {
      "cell_type": "code",
      "source": [
        "nn_light = LightNN(num_classes=100).to(device)\n",
        "total_params_deep = \"{:,}\".format(sum(p.numel() for p in nn_deep.parameters()))\n",
        "print(f\"DeepNN parameters: {total_params_deep}\")\n",
        "total_params_light = \"{:,}\".format(sum(p.numel() for p in nn_light.parameters()))\n",
        "print(f\"LightNN parameters: {total_params_light}\")\n",
        "total_params_light = \"{:,}\".format(sum(p.numel() for p in modified_nn_light_reg.parameters()))\n",
        "print(f\"LightNN parameters: {total_params_light}\")\n",
        "total_params_light = \"{:,}\".format(sum(p.numel() for p in modified_nn_light_reg2.parameters()))\n",
        "print(f\"LightNN parameters: {total_params_light}\")\n",
        "total_params_light = \"{:,}\".format(sum(p.numel() for p in modified_nn_light_reg3.parameters()))\n",
        "print(f\"LightNN parameters: {total_params_light}\")"
      ],
      "metadata": {
        "colab": {
          "base_uri": "https://localhost:8080/"
        },
        "id": "pmEbi0RnJ8dU",
        "outputId": "d13f01e4-0c4e-4813-df32-46be8bf201f8"
      },
      "execution_count": 23,
      "outputs": [
        {
          "output_type": "stream",
          "name": "stdout",
          "text": [
            "DeepNN parameters: 3,201,122\n",
            "LightNN parameters: 151,988\n",
            "LightNN parameters: 158,938\n",
            "LightNN parameters: 243,262\n",
            "LightNN parameters: 294,526\n"
          ]
        }
      ]
    }
  ],
  "metadata": {
    "accelerator": "GPU",
    "colab": {
      "provenance": [],
      "gpuType": "T4"
    },
    "kernelspec": {
      "display_name": "Python 3",
      "name": "python3"
    },
    "language_info": {
      "name": "python"
    }
  },
  "nbformat": 4,
  "nbformat_minor": 0
}