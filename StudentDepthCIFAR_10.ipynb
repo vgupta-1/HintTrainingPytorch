{
  "cells": [
    {
      "cell_type": "markdown",
      "source": [
        "# Knowledge Distillation with Hint Training: Experiment 2\n",
        "\n",
        "Depth Experiment, 3, 6, 9, 12 convolutional layers in student.\n"
      ],
      "metadata": {
        "id": "K9VBTCDfwlVu"
      }
    },
    {
      "cell_type": "code",
      "execution_count": 21,
      "metadata": {
        "id": "6kq6e0HJTtqH"
      },
      "outputs": [],
      "source": [
        "import torch\n",
        "import torch.nn as nn\n",
        "import torch.optim as optim\n",
        "import torchvision.transforms as transforms\n",
        "import torchvision.datasets as datasets\n",
        "# Check if GPU is available, and if not, use the CPU\n",
        "device = torch.device(\"cuda\" if torch.cuda.is_available() else \"cpu\")\n"
      ]
    },
    {
      "cell_type": "code",
      "execution_count": 22,
      "metadata": {
        "colab": {
          "base_uri": "https://localhost:8080/"
        },
        "id": "DnsQXEYXNfWe",
        "outputId": "86cfe5b8-2b74-4800-f50b-0a97b2ab3838"
      },
      "outputs": [
        {
          "output_type": "stream",
          "name": "stdout",
          "text": [
            "Files already downloaded and verified\n",
            "Files already downloaded and verified\n"
          ]
        }
      ],
      "source": [
        "# Below we are preprocessing data for CIFAR-10. We use an arbitrary batch size of 128.\n",
        "transforms_cifar = transforms.Compose([\n",
        "    transforms.ToTensor(),\n",
        "    transforms.Normalize(mean=[0.485, 0.456, 0.406], std=[0.229, 0.224, 0.225]),\n",
        "])\n",
        "\n",
        "# Loading the CIFAR-10 dataset:\n",
        "train_dataset = datasets.CIFAR10(root='./data', train=True, download=True, transform=transforms_cifar)\n",
        "test_dataset = datasets.CIFAR10(root='./data', train=False, download=True, transform=transforms_cifar)"
      ]
    },
    {
      "cell_type": "code",
      "execution_count": 23,
      "metadata": {
        "id": "GoSunRORUXj8"
      },
      "outputs": [],
      "source": [
        "#Dataloaders\n",
        "train_loader = torch.utils.data.DataLoader(train_dataset, batch_size=128, shuffle=True, num_workers=2)\n",
        "test_loader = torch.utils.data.DataLoader(test_dataset, batch_size=128, shuffle=False, num_workers=2)"
      ]
    },
    {
      "cell_type": "markdown",
      "source": [
        "DeepNN(Not actually Deep): Shallow Neural Network but very wide with 3 Convolutional Layers and over 3 million parameters.\n",
        "LightNN: much deeper network with 9 convolutional layers but much thinner with over 140,000 parameters."
      ],
      "metadata": {
        "id": "Jxwv218pNwJ4"
      }
    },
    {
      "cell_type": "code",
      "execution_count": 24,
      "metadata": {
        "id": "JPpZxkpuUXj9"
      },
      "outputs": [],
      "source": [
        "# Wide Shallow neural network class to be used as teacher:\n",
        "# 3 different instantiations where the hint layer parameters are returned, either first, second, or third convolutional layer\n",
        "\n",
        "class DeepNN(nn.Module):\n",
        "    def __init__(self, num_classes=10):\n",
        "        super(DeepNN, self).__init__()\n",
        "        self.features1 = nn.Sequential(\n",
        "            nn.Conv2d(3, 128, kernel_size=3, padding=1),\n",
        "            nn.ReLU(),\n",
        "            nn.MaxPool2d(kernel_size=2, stride=2),\n",
        "        )\n",
        "        self.features2 = nn.Sequential(\n",
        "            nn.Conv2d(128, 356, kernel_size=3, padding=1),\n",
        "            nn.ReLU(),\n",
        "            nn.MaxPool2d(kernel_size=2, stride=2),\n",
        "        )\n",
        "        self.features3 = nn.Sequential(\n",
        "            nn.Conv2d(356, 356, kernel_size=3, padding=1),\n",
        "            nn.ReLU(),\n",
        "            nn.MaxPool2d(kernel_size=4, stride=2),\n",
        "        )\n",
        "        self.classifier = nn.Sequential(\n",
        "            nn.Linear(3204, 512),\n",
        "            nn.ReLU(),\n",
        "            nn.Dropout(0.1),\n",
        "            nn.Linear(512, num_classes)\n",
        "        )\n",
        "\n",
        "    def forward(self, x):\n",
        "        x = self.features1(x)\n",
        "        conv_feature_map = x\n",
        "        x = self.features2(x)\n",
        "        x = self.features3(x)\n",
        "        x = torch.flatten(x, 1)\n",
        "        x = self.classifier(x)\n",
        "        return x, conv_feature_map"
      ]
    },
    {
      "cell_type": "code",
      "execution_count": 25,
      "metadata": {
        "colab": {
          "base_uri": "https://localhost:8080/"
        },
        "id": "7MAd3uGoaZay",
        "outputId": "e2fef728-edad-40a9-bb10-0c48704ed305"
      },
      "outputs": [
        {
          "output_type": "stream",
          "name": "stdout",
          "text": [
            "torch.Size([128, 3, 32, 32])\n",
            "torch.Size([128, 3, 32, 32])\n"
          ]
        }
      ],
      "source": [
        "#checking shape of data\n",
        "for x, y in train_loader:\n",
        "    print(x.shape)\n",
        "    break\n",
        "\n",
        "#checking shape of data\n",
        "for x, y in test_loader:\n",
        "    print(x.shape)\n",
        "    break"
      ]
    },
    {
      "cell_type": "code",
      "execution_count": 26,
      "metadata": {
        "id": "ONtyoauMUXj-"
      },
      "outputs": [],
      "source": [
        "def train(model, train_loader, epochs, learning_rate, device, is_tuple):\n",
        "    criterion = nn.CrossEntropyLoss()\n",
        "    optimizer = optim.Adam(model.parameters(), lr=learning_rate)\n",
        "\n",
        "    model.train()\n",
        "\n",
        "    for epoch in range(epochs):\n",
        "        running_loss = 0.0\n",
        "        for inputs, labels in train_loader:\n",
        "            # inputs: A collection of batch_size images\n",
        "            # labels: A vector of dimensionality batch_size with integers denoting class of each image\n",
        "            inputs, labels = inputs.to(device), labels.to(device)\n",
        "\n",
        "            optimizer.zero_grad()\n",
        "            if is_tuple == True:\n",
        "              outputs, map = model(inputs)\n",
        "            if is_tuple == False:\n",
        "              outputs = model(inputs)\n",
        "\n",
        "            # outputs: Output of the network for the collection of images. A tensor of dimensionality batch_size x num_classes\n",
        "            # labels: The actual labels of the images. Vector of dimensionality batch_size\n",
        "            loss = criterion(outputs, labels)\n",
        "            loss.backward()\n",
        "            optimizer.step()\n",
        "\n",
        "            running_loss += loss.item()\n",
        "\n",
        "        print(f\"Epoch {epoch+1}/{epochs}, Loss: {running_loss / len(train_loader)}\")\n",
        "\n",
        "def test(model, test_loader, device, is_tuple):\n",
        "    model.to(device)\n",
        "    model.eval()\n",
        "\n",
        "    correct = 0\n",
        "    total = 0\n",
        "\n",
        "    with torch.no_grad():\n",
        "        for inputs, labels in test_loader:\n",
        "            inputs, labels = inputs.to(device), labels.to(device)\n",
        "\n",
        "            if is_tuple == True:\n",
        "              outputs, map = model(inputs)\n",
        "            if is_tuple == False:\n",
        "              outputs = model(inputs)\n",
        "\n",
        "            #outputs = model(inputs)\n",
        "            _, predicted = torch.max(outputs.data, 1)\n",
        "\n",
        "            total += labels.size(0)\n",
        "            correct += (predicted == labels).sum().item()\n",
        "\n",
        "    accuracy = 100 * correct / total\n",
        "    print(f\"Test Accuracy: {accuracy:.2f}%\")\n",
        "    return accuracy"
      ]
    },
    {
      "cell_type": "markdown",
      "source": [
        "# Train Teacher Network"
      ],
      "metadata": {
        "id": "9z3H4Aie20Qx"
      }
    },
    {
      "cell_type": "code",
      "execution_count": 27,
      "metadata": {
        "colab": {
          "base_uri": "https://localhost:8080/"
        },
        "id": "jHe-UPD3UXj-",
        "outputId": "2db77e8f-6311-43ea-f635-c766ab8c0a2d"
      },
      "outputs": [
        {
          "output_type": "stream",
          "name": "stdout",
          "text": [
            "Epoch 1/15, Loss: 1.4520263959989523\n",
            "Epoch 2/15, Loss: 0.9534348714382143\n",
            "Epoch 3/15, Loss: 0.7547467898987138\n",
            "Epoch 4/15, Loss: 0.6344018812527132\n",
            "Epoch 5/15, Loss: 0.5438377241344403\n",
            "Epoch 6/15, Loss: 0.4661091280257915\n",
            "Epoch 7/15, Loss: 0.40139796339032596\n",
            "Epoch 8/15, Loss: 0.3346936466443874\n",
            "Epoch 9/15, Loss: 0.2862583933888799\n",
            "Epoch 10/15, Loss: 0.24660988885652074\n",
            "Epoch 11/15, Loss: 0.21071514782622036\n",
            "Epoch 12/15, Loss: 0.17448605391223107\n",
            "Epoch 13/15, Loss: 0.16270225264532182\n",
            "Epoch 14/15, Loss: 0.13989289174489963\n",
            "Epoch 15/15, Loss: 0.12728366112846243\n",
            "Test Accuracy: 77.22%\n"
          ]
        },
        {
          "output_type": "execute_result",
          "data": {
            "text/plain": [
              "<torch._C.Generator at 0x7a96e1553c90>"
            ]
          },
          "metadata": {},
          "execution_count": 27
        }
      ],
      "source": [
        "torch.manual_seed(42)\n",
        "nn_deep = DeepNN(num_classes=10).to(device)\n",
        "train(nn_deep, train_loader, epochs=15, learning_rate=0.001, device=device, is_tuple=True)\n",
        "test_accuracy_deep = test(nn_deep, test_loader, device, is_tuple=True)\n",
        "\n",
        "# Instantiate the lightweight network:\n",
        "torch.manual_seed(42)"
      ]
    },
    {
      "cell_type": "code",
      "execution_count": 28,
      "metadata": {
        "id": "47xuD42KLnV5"
      },
      "outputs": [],
      "source": [
        "sample_input = torch.randn(128, 3, 32, 32).to(device)"
      ]
    },
    {
      "cell_type": "code",
      "execution_count": 29,
      "metadata": {
        "colab": {
          "base_uri": "https://localhost:8080/"
        },
        "id": "leDhmDLoMgpA",
        "outputId": "0e5ab96b-5d1b-4f3f-bfe5-56016f6a9a21"
      },
      "outputs": [
        {
          "output_type": "stream",
          "name": "stdout",
          "text": [
            "Teacher's feature extractor output shape:  torch.Size([128, 128, 16, 16])\n"
          ]
        }
      ],
      "source": [
        "convolutional_fe_output_teacher = nn_deep.features1(sample_input)\n",
        "# Print their shapes\n",
        "#print(\"Student's feature extractor output shape: \", convolutional_fe_output_student.shape)\n",
        "print(\"Teacher's feature extractor output shape: \", convolutional_fe_output_teacher.shape)"
      ]
    },
    {
      "cell_type": "markdown",
      "source": [
        "# Modified Networks: Teacher stays the same. Student requires convolutional regressor on top of the Guided Layer. This increases the number of parameters to over 294,000 parameters."
      ],
      "metadata": {
        "id": "kBxRMQ7xU8kU"
      }
    },
    {
      "cell_type": "code",
      "source": [
        "class LightNNRegressor4(nn.Module):\n",
        "    def __init__(self, num_classes=10):\n",
        "        super(LightNNRegressor4, self).__init__()\n",
        "        self.features1 = nn.Sequential(\n",
        "            nn.Conv2d(3, 16, kernel_size=3, padding=1),\n",
        "            nn.ReLU(),\n",
        "            nn.Conv2d(16, 16, kernel_size=3, padding=1),\n",
        "            nn.ReLU(),\n",
        "            nn.Conv2d(16, 16, kernel_size=3, padding=1),\n",
        "            nn.ReLU(),\n",
        "            nn.Conv2d(16, 16, kernel_size=3, padding=1),\n",
        "            nn.ReLU(),\n",
        "            nn.MaxPool2d(kernel_size=2, stride=2),\n",
        "        )\n",
        "\n",
        "        self.features2 = nn.Sequential(\n",
        "            nn.Conv2d(16, 32, kernel_size=3, padding=1),\n",
        "            nn.ReLU(),\n",
        "            nn.Conv2d(32, 32, kernel_size=3, padding=1),\n",
        "            nn.ReLU(),\n",
        "            nn.Conv2d(32, 32, kernel_size=3, padding=1),\n",
        "            nn.ReLU(),\n",
        "            nn.Conv2d(32, 32, kernel_size=3, padding=1),\n",
        "            nn.ReLU(),\n",
        "            nn.MaxPool2d(kernel_size=2, stride=2),\n",
        "        )\n",
        "        self.features3= nn.Sequential(\n",
        "            nn.Conv2d(32, 48, kernel_size=3, padding=1),\n",
        "            nn.ReLU(),\n",
        "            nn.Conv2d(48, 48, kernel_size=3, padding=1),\n",
        "            nn.ReLU(),\n",
        "            nn.Conv2d(48, 48, kernel_size=3, padding=1),\n",
        "            nn.ReLU(),\n",
        "            nn.Conv2d(48, 48, kernel_size=3, padding=1),\n",
        "            nn.ReLU(),\n",
        "            nn.MaxPool2d(kernel_size=4, stride=2),\n",
        "        )\n",
        "\n",
        "        self.regressor = nn.Sequential(\n",
        "            nn.Conv2d(16, 128, kernel_size=3, padding=1)\n",
        "        )\n",
        "\n",
        "        self.classifier = nn.Sequential(\n",
        "            nn.Linear(432, 128),\n",
        "            nn.ReLU(),\n",
        "            nn.Dropout(0.1),\n",
        "            nn.Linear(128, num_classes)\n",
        "        )\n",
        "\n",
        "    def forward(self, x):\n",
        "        x = self.features1(x)\n",
        "        regressor_output = self.regressor(x)\n",
        "        x = self.features2(x)\n",
        "        x = self.features3(x)\n",
        "        x = torch.flatten(x, 1)\n",
        "        x = self.classifier(x)\n",
        "        return x, regressor_output\n",
        "\n",
        "\n",
        "class LightNNRegressor3(nn.Module):\n",
        "    def __init__(self, num_classes=10):\n",
        "        super(LightNNRegressor3, self).__init__()\n",
        "        self.features1 = nn.Sequential(\n",
        "            nn.Conv2d(3, 16, kernel_size=3, padding=1),\n",
        "            nn.ReLU(),\n",
        "            nn.Conv2d(16, 16, kernel_size=3, padding=1),\n",
        "            nn.ReLU(),\n",
        "            nn.Conv2d(16, 16, kernel_size=3, padding=1),\n",
        "            nn.ReLU(),\n",
        "            nn.MaxPool2d(kernel_size=2, stride=2),\n",
        "        )\n",
        "\n",
        "        self.features2 = nn.Sequential(\n",
        "            nn.Conv2d(16, 32, kernel_size=3, padding=1),\n",
        "            nn.ReLU(),\n",
        "            nn.Conv2d(32, 32, kernel_size=3, padding=1),\n",
        "            nn.ReLU(),\n",
        "            nn.Conv2d(32, 32, kernel_size=3, padding=1),\n",
        "            nn.ReLU(),\n",
        "            nn.MaxPool2d(kernel_size=2, stride=2),\n",
        "        )\n",
        "        self.features3= nn.Sequential(\n",
        "            nn.Conv2d(32, 48, kernel_size=3, padding=1),\n",
        "            nn.ReLU(),\n",
        "            nn.Conv2d(48, 48, kernel_size=3, padding=1),\n",
        "            nn.ReLU(),\n",
        "            nn.Conv2d(48, 48, kernel_size=3, padding=1),\n",
        "            nn.ReLU(),\n",
        "            nn.MaxPool2d(kernel_size=4, stride=2),\n",
        "        )\n",
        "\n",
        "        self.regressor = nn.Sequential(\n",
        "            nn.Conv2d(16, 128, kernel_size=3, padding=1)\n",
        "        )\n",
        "\n",
        "        self.classifier = nn.Sequential(\n",
        "            nn.Linear(432, 128),\n",
        "            nn.ReLU(),\n",
        "            nn.Dropout(0.1),\n",
        "            nn.Linear(128, num_classes)\n",
        "        )\n",
        "\n",
        "    def forward(self, x):\n",
        "        x = self.features1(x)\n",
        "        regressor_output = self.regressor(x)\n",
        "        x = self.features2(x)\n",
        "        x = self.features3(x)\n",
        "        x = torch.flatten(x, 1)\n",
        "        x = self.classifier(x)\n",
        "        return x, regressor_output\n",
        "\n",
        "\n",
        "\n",
        "\n",
        "class LightNNRegressor2(nn.Module):\n",
        "    def __init__(self, num_classes=10):\n",
        "        super(LightNNRegressor2, self).__init__()\n",
        "        self.features1 = nn.Sequential(\n",
        "            nn.Conv2d(3, 16, kernel_size=3, padding=1),\n",
        "            nn.ReLU(),\n",
        "            nn.Conv2d(16, 16, kernel_size=3, padding=1),\n",
        "            nn.ReLU(),\n",
        "            nn.MaxPool2d(kernel_size=2, stride=2),\n",
        "        )\n",
        "\n",
        "        self.features2 = nn.Sequential(\n",
        "            nn.Conv2d(16, 32, kernel_size=3, padding=1),\n",
        "            nn.ReLU(),\n",
        "            nn.Conv2d(32, 32, kernel_size=3, padding=1),\n",
        "            nn.ReLU(),\n",
        "            nn.MaxPool2d(kernel_size=2, stride=2),\n",
        "        )\n",
        "        self.features3= nn.Sequential(\n",
        "            nn.Conv2d(32, 48, kernel_size=3, padding=1),\n",
        "            nn.ReLU(),\n",
        "            nn.Conv2d(48, 48, kernel_size=3, padding=1),\n",
        "            nn.ReLU(),\n",
        "            nn.MaxPool2d(kernel_size=4, stride=2),\n",
        "        )\n",
        "\n",
        "        self.regressor = nn.Sequential(\n",
        "            nn.Conv2d(16, 128, kernel_size=3, padding=1)\n",
        "        )\n",
        "\n",
        "        self.classifier = nn.Sequential(\n",
        "            nn.Linear(432, 128),\n",
        "            nn.ReLU(),\n",
        "            nn.Dropout(0.1),\n",
        "            nn.Linear(128, num_classes)\n",
        "        )\n",
        "\n",
        "    def forward(self, x):\n",
        "        x = self.features1(x)\n",
        "        regressor_output = self.regressor(x)\n",
        "        x = self.features2(x)\n",
        "        x = self.features3(x)\n",
        "        x = torch.flatten(x, 1)\n",
        "        x = self.classifier(x)\n",
        "        return x, regressor_output\n",
        "\n",
        "\n",
        "class LightNNRegressor1(nn.Module):\n",
        "    def __init__(self, num_classes=10):\n",
        "        super(LightNNRegressor1, self).__init__()\n",
        "        self.features1 = nn.Sequential(\n",
        "            nn.Conv2d(3, 16, kernel_size=3, padding=1),\n",
        "            nn.ReLU(),\n",
        "            nn.MaxPool2d(kernel_size=2, stride=2),\n",
        "        )\n",
        "\n",
        "        self.features2 = nn.Sequential(\n",
        "            nn.Conv2d(16, 32, kernel_size=3, padding=1),\n",
        "            nn.ReLU(),\n",
        "            nn.MaxPool2d(kernel_size=2, stride=2),\n",
        "        )\n",
        "        self.features3= nn.Sequential(\n",
        "            nn.Conv2d(32, 48, kernel_size=3, padding=1),\n",
        "            nn.ReLU(),\n",
        "            nn.MaxPool2d(kernel_size=4, stride=2),\n",
        "        )\n",
        "\n",
        "        self.regressor = nn.Sequential(\n",
        "            nn.Conv2d(16, 128, kernel_size=3, padding=1)\n",
        "        )\n",
        "\n",
        "        self.classifier = nn.Sequential(\n",
        "            nn.Linear(432, 128),\n",
        "            nn.ReLU(),\n",
        "            nn.Dropout(0.1),\n",
        "            nn.Linear(128, num_classes)\n",
        "        )\n",
        "\n",
        "    def forward(self, x):\n",
        "        x = self.features1(x)\n",
        "        regressor_output = self.regressor(x)\n",
        "        x = self.features2(x)\n",
        "        x = self.features3(x)\n",
        "        x = torch.flatten(x, 1)\n",
        "        x = self.classifier(x)\n",
        "        return x, regressor_output\n",
        "\n"
      ],
      "metadata": {
        "id": "yc8TaCSUaPn2"
      },
      "execution_count": 30,
      "outputs": []
    },
    {
      "cell_type": "code",
      "execution_count": 31,
      "metadata": {
        "colab": {
          "base_uri": "https://localhost:8080/"
        },
        "id": "HwleECOhR4f2",
        "outputId": "9d741a1b-91f5-4bdc-b0fd-1927d04f0348"
      },
      "outputs": [
        {
          "output_type": "stream",
          "name": "stdout",
          "text": [
            "Student's feature extractor output shape:  torch.Size([128, 16, 16, 16])\n",
            "Teacher's feature extractor output shape:  torch.Size([128, 128, 16, 16])\n"
          ]
        }
      ],
      "source": [
        "mod_nn_light4 = LightNNRegressor4(num_classes=10).to(device)\n",
        "mod_nn_light3 = LightNNRegressor3(num_classes=10).to(device)\n",
        "mod_nn_light2 = LightNNRegressor2(num_classes=10).to(device)\n",
        "mod_nn_light1 = LightNNRegressor1(num_classes=10).to(device)\n",
        "convolutional_fe_output_student = mod_nn_light1.features1(sample_input)\n",
        "convolutional_fe_output_teacher = nn_deep.features1(sample_input)\n",
        "# Print their shapes\n",
        "print(\"Student's feature extractor output shape: \", convolutional_fe_output_student.shape)\n",
        "print(\"Teacher's feature extractor output shape: \", convolutional_fe_output_teacher.shape)"
      ]
    },
    {
      "cell_type": "code",
      "execution_count": 32,
      "metadata": {
        "colab": {
          "base_uri": "https://localhost:8080/"
        },
        "id": "TozGrH4wmh8Y",
        "outputId": "41cc0cf1-83f7-4bdc-df75-d7bb310bb39d"
      },
      "outputs": [
        {
          "output_type": "stream",
          "name": "stdout",
          "text": [
            "DeepNN parameters: 3,201,122\n",
            "LightNN1 parameters: 94,234\n",
            "LightNN2 parameters: 126,586\n",
            "LightNN3 parameters: 158,938\n",
            "LightNN4 parameters: 191,290\n"
          ]
        }
      ],
      "source": [
        "total_params_deep = \"{:,}\".format(sum(p.numel() for p in nn_deep.parameters()))\n",
        "print(f\"DeepNN parameters: {total_params_deep}\")\n",
        "total_params_light = \"{:,}\".format(sum(p.numel() for p in mod_nn_light1.parameters()))\n",
        "print(f\"LightNN1 parameters: {total_params_light}\")\n",
        "total_params_light = \"{:,}\".format(sum(p.numel() for p in mod_nn_light2.parameters()))\n",
        "print(f\"LightNN2 parameters: {total_params_light}\")\n",
        "total_params_light = \"{:,}\".format(sum(p.numel() for p in mod_nn_light3.parameters()))\n",
        "print(f\"LightNN3 parameters: {total_params_light}\")\n",
        "total_params_light = \"{:,}\".format(sum(p.numel() for p in mod_nn_light4.parameters()))\n",
        "print(f\"LightNN4 parameters: {total_params_light}\")"
      ]
    },
    {
      "cell_type": "code",
      "execution_count": 33,
      "metadata": {
        "id": "LC9GhxKx4PL_"
      },
      "outputs": [],
      "source": [
        "def test_multiple_outputs(model, test_loader, device):\n",
        "    model.to(device)\n",
        "    model.eval()\n",
        "\n",
        "    correct = 0\n",
        "    total = 0\n",
        "\n",
        "    with torch.no_grad():\n",
        "        for inputs, labels in test_loader:\n",
        "            inputs, labels = inputs.to(device), labels.to(device)\n",
        "\n",
        "            outputs, _ = model(inputs) # Disregard the second tensor of the tuple\n",
        "            _, predicted = torch.max(outputs.data, 1)\n",
        "\n",
        "            total += labels.size(0)\n",
        "            correct += (predicted == labels).sum().item()\n",
        "\n",
        "    accuracy = 100 * correct / total\n",
        "    print(f\"Test Accuracy: {accuracy:.2f}%\")\n",
        "    return accuracy"
      ]
    },
    {
      "cell_type": "code",
      "execution_count": 34,
      "metadata": {
        "id": "s-EwlFwl9saJ"
      },
      "outputs": [],
      "source": [
        "import torch.nn as nn\n",
        "import torch\n",
        "\n",
        "class CustomLoss(nn.Module):\n",
        "    def __init__(self):\n",
        "        super(CustomLoss, self).__init__()\n",
        "\n",
        "    def forward(self, inputs, targets):\n",
        "        loss = (torch.norm(inputs - targets)**2)*0.5\n",
        "        #loss = -1 * (targets * torch.log(inputs) + (1 - targets) * torch.log(1 - inputs))\n",
        "        return loss.mean()"
      ]
    },
    {
      "cell_type": "markdown",
      "source": [
        "# Start 2-Stage Training:\n",
        "1. MSE Loss between Hint and Guided Layers minimized for 10 epochs.\n",
        "2. Knowledge distillation run where CE loss in combination with KD loss function are weighted and minimized.  "
      ],
      "metadata": {
        "id": "slomhKXfVhTu"
      }
    },
    {
      "cell_type": "code",
      "execution_count": 35,
      "metadata": {
        "colab": {
          "base_uri": "https://localhost:8080/"
        },
        "id": "et5g4-fz3k24",
        "outputId": "6c77aaa3-40f5-46ab-ef07-430aa6458cf2"
      },
      "outputs": [
        {
          "output_type": "stream",
          "name": "stdout",
          "text": [
            "Epoch 1/10, Loss: 1.4746694958118527\n",
            "Epoch 2/10, Loss: 1.2946411944411296\n",
            "Epoch 3/10, Loss: 1.201988443084385\n",
            "Epoch 4/10, Loss: 1.140748247466124\n",
            "Epoch 5/10, Loss: 1.095071877055156\n",
            "Epoch 6/10, Loss: 1.059741404507776\n",
            "Epoch 7/10, Loss: 1.0299462112014557\n",
            "Epoch 8/10, Loss: 0.9978775151855196\n",
            "Epoch 9/10, Loss: 0.9738185888970904\n",
            "Epoch 10/10, Loss: 0.9545365385997021\n",
            "Epoch 1/10, Loss: 1.466101734839437\n",
            "Epoch 2/10, Loss: 1.2510292716038502\n",
            "Epoch 3/10, Loss: 1.1537352742441476\n",
            "Epoch 4/10, Loss: 1.0719080177109566\n",
            "Epoch 5/10, Loss: 1.0093657601519923\n",
            "Epoch 6/10, Loss: 0.9586536443751791\n",
            "Epoch 7/10, Loss: 0.9154184890525116\n",
            "Epoch 8/10, Loss: 0.866740804346626\n",
            "Epoch 9/10, Loss: 0.832519513414339\n",
            "Epoch 10/10, Loss: 0.805047000613054\n",
            "Epoch 1/10, Loss: 1.4883876249308476\n",
            "Epoch 2/10, Loss: 1.2383327179247765\n",
            "Epoch 3/10, Loss: 1.0935420822304533\n",
            "Epoch 4/10, Loss: 0.9977743640885024\n",
            "Epoch 5/10, Loss: 0.9280431887987629\n",
            "Epoch 6/10, Loss: 0.8772450482753842\n",
            "Epoch 7/10, Loss: 0.8300635217095885\n",
            "Epoch 8/10, Loss: 0.7936336425564173\n",
            "Epoch 9/10, Loss: 0.759427443184816\n",
            "Epoch 10/10, Loss: 0.7272155258204321\n",
            "Epoch 1/10, Loss: 1.5164948387828934\n",
            "Epoch 2/10, Loss: 1.249543544276596\n",
            "Epoch 3/10, Loss: 1.0896244684753515\n",
            "Epoch 4/10, Loss: 0.9680757066782784\n",
            "Epoch 5/10, Loss: 0.8897302469329151\n",
            "Epoch 6/10, Loss: 0.8313329227440193\n",
            "Epoch 7/10, Loss: 0.7739905875052333\n",
            "Epoch 8/10, Loss: 0.7434919116747044\n",
            "Epoch 9/10, Loss: 0.7011061231498523\n",
            "Epoch 10/10, Loss: 0.6717301107123684\n"
          ]
        }
      ],
      "source": [
        "def train_mse_loss(teacher, student, train_loader, epochs, learning_rate, feature_map_weight, ce_loss_weight, device):\n",
        "    ce_loss = nn.CrossEntropyLoss()\n",
        "    #mse_loss = CustomLoss()\n",
        "    mse_loss = nn.MSELoss()\n",
        "    optimizer = optim.Adam(student.parameters(), lr=learning_rate)\n",
        "\n",
        "    teacher.to(device)\n",
        "    student.to(device)\n",
        "    teacher.eval()  # Teacher set to evaluation mode\n",
        "    student.train() # Student to train mode\n",
        "\n",
        "    for epoch in range(epochs):\n",
        "        running_loss = 0.0\n",
        "        for inputs, labels in train_loader:\n",
        "            inputs, labels = inputs.to(device), labels.to(device)\n",
        "\n",
        "            optimizer.zero_grad()\n",
        "\n",
        "            # Again ignore teacher logits\n",
        "            with torch.no_grad():\n",
        "                _, teacher_feature_map = teacher(inputs)\n",
        "\n",
        "            # Forward pass with the student model\n",
        "            student_logits, regressor_feature_map = student(inputs)\n",
        "\n",
        "            # Calculate the loss\n",
        "            hidden_rep_loss = mse_loss(regressor_feature_map, teacher_feature_map)\n",
        "\n",
        "            # Calculate the true label loss\n",
        "            label_loss = ce_loss(student_logits, labels)\n",
        "\n",
        "            # Only minimize mse loss of teacher and regressor feature maps\n",
        "            loss = 0.25 * hidden_rep_loss + 0.75 * label_loss\n",
        "\n",
        "            loss.backward()\n",
        "            optimizer.step()\n",
        "\n",
        "            running_loss += loss.item()\n",
        "\n",
        "        print(f\"Epoch {epoch+1}/{epochs}, Loss: {running_loss / len(train_loader)}\")\n",
        "\n",
        "# Notice how our test function remains the same here with the one we used in our previous case. We only care about the actual outputs because we measure accuracy.\n",
        "\n",
        "# Initialize a ModifiedLightNNRegressor\n",
        "torch.manual_seed(42)\n",
        "modified_nn_light_reg = LightNNRegressor1(num_classes=10).to(device)\n",
        "modified_nn_light_reg2 = LightNNRegressor2(num_classes=10).to(device)\n",
        "modified_nn_light_reg3 = LightNNRegressor3(num_classes=10).to(device)\n",
        "modified_nn_light_reg4 = LightNNRegressor4(num_classes=10).to(device)\n",
        "\n",
        "# We do not have to train the modified deep network from scratch of course, we just load its weights from the trained instance\n",
        "modified_nn_deep_reg = DeepNN(num_classes=10).to(device)\n",
        "modified_nn_deep_reg.load_state_dict(nn_deep.state_dict())\n",
        "modified_nn_deep_reg2 = DeepNN(num_classes=10).to(device)\n",
        "modified_nn_deep_reg2.load_state_dict(nn_deep.state_dict())\n",
        "modified_nn_deep_reg3 = DeepNN(num_classes=10).to(device)\n",
        "modified_nn_deep_reg3.load_state_dict(nn_deep.state_dict())\n",
        "modified_nn_deep_reg4 = DeepNN(num_classes=10).to(device)\n",
        "modified_nn_deep_reg4.load_state_dict(nn_deep.state_dict())\n",
        "\n",
        "\n",
        "\n",
        "#train(modified_nn_deep_reg, train_loader, epochs=10, learning_rate=0.001, device=device)\n",
        "#test_accuracy_deep = test(modified_nn_deep_reg, test_loader, device)\n",
        "\n",
        "\n",
        "#Freeze params after convolutional layers, train up until classifier\n",
        "for param in modified_nn_light_reg.classifier.parameters():\n",
        "  param.requires_grad = False\n",
        "for param in modified_nn_light_reg2.classifier.parameters():\n",
        "  param.requires_grad = False\n",
        "for param in modified_nn_light_reg3.classifier.parameters():\n",
        "  param.requires_grad = False\n",
        "for param in modified_nn_light_reg4.classifier.parameters():\n",
        "  param.requires_grad = False\n",
        "\n",
        "# Train and test once again\n",
        "train_mse_loss(teacher=modified_nn_deep_reg, student=modified_nn_light_reg, train_loader=train_loader, epochs=10, learning_rate=0.001, feature_map_weight=0.25, ce_loss_weight=0.75, device=device)\n",
        "train_mse_loss(teacher=modified_nn_deep_reg2, student=modified_nn_light_reg2, train_loader=train_loader, epochs=10, learning_rate=0.001, feature_map_weight=0.25, ce_loss_weight=0.75, device=device)\n",
        "train_mse_loss(teacher=modified_nn_deep_reg3, student=modified_nn_light_reg3, train_loader=train_loader, epochs=10, learning_rate=0.001, feature_map_weight=0.25, ce_loss_weight=0.75, device=device)\n",
        "train_mse_loss(teacher=modified_nn_deep_reg4, student=modified_nn_light_reg4, train_loader=train_loader, epochs=10, learning_rate=0.001, feature_map_weight=0.25, ce_loss_weight=0.75, device=device)"
      ]
    },
    {
      "cell_type": "code",
      "source": [
        "#unfreeze parameters and train finally with knowledge distillation for stage 2\n",
        "\n",
        "for param in modified_nn_light_reg.classifier.parameters():\n",
        "  param.requires_grad = True\n",
        "for param in modified_nn_light_reg2.classifier.parameters():\n",
        "  param.requires_grad = True\n",
        "for param in modified_nn_light_reg3.classifier.parameters():\n",
        "  param.requires_grad = True\n",
        "for param in modified_nn_light_reg4.classifier.parameters():\n",
        "  param.requires_grad = True\n",
        "\n",
        "def train_knowledge_distillation1(teacher, student, train_loader, epochs, learning_rate, T, soft_target_loss_weight, ce_loss_weight, device):\n",
        "    ce_loss = nn.CrossEntropyLoss()\n",
        "    optimizer = optim.Adam(student.parameters(), lr=learning_rate)\n",
        "\n",
        "    teacher.eval()  # Teacher set to evaluation mode\n",
        "    student.train() # Student to train mode\n",
        "\n",
        "    for epoch in range(epochs):\n",
        "        running_loss = 0.0\n",
        "        for inputs, labels in train_loader:\n",
        "            inputs, labels = inputs.to(device), labels.to(device)\n",
        "\n",
        "            optimizer.zero_grad()\n",
        "\n",
        "            # Forward pass with the teacher model - do not save gradients here as we do not change the teacher's weights\n",
        "            with torch.no_grad():\n",
        "                teacher_logits, _ = teacher(inputs)\n",
        "\n",
        "            # Forward pass with the student model\n",
        "            student_logits, _  = student(inputs)\n",
        "\n",
        "            #Soften the student logits by applying softmax first and log() second\n",
        "            soft_targets = nn.functional.softmax(teacher_logits / T, dim=-1)\n",
        "            soft_prob = nn.functional.log_softmax(student_logits / T, dim=-1)\n",
        "\n",
        "            # Calculate the soft targets loss. Scaled by T**2 as suggested by the authors of the paper \"Distilling the knowledge in a neural network\"\n",
        "            soft_targets_loss = -torch.sum(soft_targets * soft_prob) / soft_prob.size()[0] * (T**2)\n",
        "\n",
        "            # Calculate the true label loss\n",
        "            label_loss = ce_loss(student_logits, labels)\n",
        "\n",
        "            # Weighted sum of the two losses\n",
        "            loss = soft_target_loss_weight * soft_targets_loss + ce_loss_weight * label_loss\n",
        "\n",
        "            loss.backward()\n",
        "            optimizer.step()\n",
        "\n",
        "            running_loss += loss.item()\n",
        "\n",
        "        print(f\"Epoch {epoch+1}/{epochs}, Loss: {running_loss / len(train_loader)}\")\n",
        "\n"
      ],
      "metadata": {
        "id": "m_IedJq24ZMP"
      },
      "execution_count": 36,
      "outputs": []
    },
    {
      "cell_type": "code",
      "source": [
        "train_knowledge_distillation1(teacher=modified_nn_deep_reg, student=modified_nn_light_reg, train_loader=train_loader, epochs=10, learning_rate=0.001, T=2, soft_target_loss_weight=0.25, ce_loss_weight=0.75, device=device)\n",
        "train_knowledge_distillation1(teacher=modified_nn_deep_reg2, student=modified_nn_light_reg2, train_loader=train_loader, epochs=10, learning_rate=0.001, T=2, soft_target_loss_weight=0.25, ce_loss_weight=0.75, device=device)\n",
        "train_knowledge_distillation1(teacher=modified_nn_deep_reg3, student=modified_nn_light_reg3, train_loader=train_loader, epochs=10, learning_rate=0.001, T=2, soft_target_loss_weight=0.25, ce_loss_weight=0.75, device=device)\n",
        "train_knowledge_distillation1(teacher=modified_nn_deep_reg4, student=modified_nn_light_reg4, train_loader=train_loader, epochs=10, learning_rate=0.001, T=2, soft_target_loss_weight=0.25, ce_loss_weight=0.75, device=device)"
      ],
      "metadata": {
        "colab": {
          "base_uri": "https://localhost:8080/"
        },
        "id": "L9s7cZC52NW8",
        "outputId": "a954ca0d-6f1c-456a-c68d-d09524b86202"
      },
      "execution_count": 37,
      "outputs": [
        {
          "output_type": "stream",
          "name": "stdout",
          "text": [
            "Epoch 1/10, Loss: 2.055845944472896\n",
            "Epoch 2/10, Loss: 1.8335507644716735\n",
            "Epoch 3/10, Loss: 1.720101745537175\n",
            "Epoch 4/10, Loss: 1.6413570118072394\n",
            "Epoch 5/10, Loss: 1.5800259991375076\n",
            "Epoch 6/10, Loss: 1.5146334299346065\n",
            "Epoch 7/10, Loss: 1.4667835534381135\n",
            "Epoch 8/10, Loss: 1.420478705250089\n",
            "Epoch 9/10, Loss: 1.379581145618273\n",
            "Epoch 10/10, Loss: 1.3473859129049588\n",
            "Epoch 1/10, Loss: 1.8611842195701112\n",
            "Epoch 2/10, Loss: 1.6552513093899583\n",
            "Epoch 3/10, Loss: 1.5559272122809955\n",
            "Epoch 4/10, Loss: 1.4756778692040602\n",
            "Epoch 5/10, Loss: 1.408248235959836\n",
            "Epoch 6/10, Loss: 1.3441572777755426\n",
            "Epoch 7/10, Loss: 1.2910918977559376\n",
            "Epoch 8/10, Loss: 1.2540225584793578\n",
            "Epoch 9/10, Loss: 1.2058789716352283\n",
            "Epoch 10/10, Loss: 1.1697957576693172\n",
            "Epoch 1/10, Loss: 1.7665880939844625\n",
            "Epoch 2/10, Loss: 1.6206640197188042\n",
            "Epoch 3/10, Loss: 1.5447924719442188\n",
            "Epoch 4/10, Loss: 1.4765410886701111\n",
            "Epoch 5/10, Loss: 1.425373747068293\n",
            "Epoch 6/10, Loss: 1.3724705804034572\n",
            "Epoch 7/10, Loss: 1.316212609600838\n",
            "Epoch 8/10, Loss: 1.2832793815971335\n",
            "Epoch 9/10, Loss: 1.246207683287618\n",
            "Epoch 10/10, Loss: 1.2084154751904481\n",
            "Epoch 1/10, Loss: 1.6843866896446404\n",
            "Epoch 2/10, Loss: 1.5455454008658525\n",
            "Epoch 3/10, Loss: 1.4935158527720616\n",
            "Epoch 4/10, Loss: 1.4180824505093763\n",
            "Epoch 5/10, Loss: 1.3764189442100427\n",
            "Epoch 6/10, Loss: 1.3394345974983157\n",
            "Epoch 7/10, Loss: 1.2935103028631576\n",
            "Epoch 8/10, Loss: 1.2577856141892845\n",
            "Epoch 9/10, Loss: 1.2223033609292697\n",
            "Epoch 10/10, Loss: 1.1888287890597682\n"
          ]
        }
      ]
    },
    {
      "cell_type": "code",
      "source": [
        "print(f\"Teacher Accuracy:\")\n",
        "test_accuracy_deep = test(modified_nn_deep_reg, test_loader, device, is_tuple= True)\n",
        "print(f\"Final Student Accuracy (3 Conv Layers):\")\n",
        "test_accuracy_light_ce_and_mse_loss1 = test_multiple_outputs(modified_nn_light_reg, test_loader, device)\n",
        "print(f\"Final Student Accuracy (6 Conv Layers):\")\n",
        "test_accuracy_light_ce_and_mse_loss2 = test_multiple_outputs(modified_nn_light_reg2, test_loader, device)\n",
        "print(f\"Final Student Accuracy (9 Conv Layers):\")\n",
        "test_accuracy_light_ce_and_mse_loss3 = test_multiple_outputs(modified_nn_light_reg3, test_loader, device)\n",
        "print(f\"Final Student Accuracy (12 Conv Layers):\")\n",
        "test_accuracy_light_ce_and_mse_loss4 = test_multiple_outputs(modified_nn_light_reg4, test_loader, device)"
      ],
      "metadata": {
        "colab": {
          "base_uri": "https://localhost:8080/"
        },
        "id": "OYivdEi9jQLa",
        "outputId": "7c6c0a75-1d50-4bd6-a17e-88febd966bf6"
      },
      "execution_count": 38,
      "outputs": [
        {
          "output_type": "stream",
          "name": "stdout",
          "text": [
            "Teacher Accuracy:\n",
            "Test Accuracy: 77.22%\n",
            "Final Student Accuracy (3 Conv Layers):\n",
            "Test Accuracy: 71.28%\n",
            "Final Student Accuracy (6 Conv Layers):\n",
            "Test Accuracy: 74.45%\n",
            "Final Student Accuracy (9 Conv Layers):\n",
            "Test Accuracy: 73.68%\n",
            "Final Student Accuracy (12 Conv Layers):\n",
            "Test Accuracy: 74.54%\n"
          ]
        }
      ]
    },
    {
      "cell_type": "code",
      "source": [
        "#n_light = LightNN(num_classes=100).to(device)\n",
        "total_params_deep = \"{:,}\".format(sum(p.numel() for p in nn_deep.parameters()))\n",
        "print(f\"DeepNN parameters: {total_params_deep}\")\n",
        "total_params_light = \"{:,}\".format(sum(p.numel() for p in modified_nn_light_reg.parameters()))\n",
        "print(f\"LightNN 3 conv layers parameters: {total_params_light}\")\n",
        "total_params_light = \"{:,}\".format(sum(p.numel() for p in modified_nn_light_reg2.parameters()))\n",
        "print(f\"LightNN 6 conv layers parameters: {total_params_light}\")\n",
        "total_params_light = \"{:,}\".format(sum(p.numel() for p in modified_nn_light_reg3.parameters()))\n",
        "print(f\"LightNN 9 conv layers parameters: {total_params_light}\")\n",
        "total_params_light = \"{:,}\".format(sum(p.numel() for p in modified_nn_light_reg4.parameters()))\n",
        "print(f\"LightNN 12 conv layers parameters: {total_params_light}\")"
      ],
      "metadata": {
        "colab": {
          "base_uri": "https://localhost:8080/"
        },
        "id": "7ulgLNOeF5vY",
        "outputId": "d75680ac-4792-43f7-b466-9cd6acb2e791"
      },
      "execution_count": 39,
      "outputs": [
        {
          "output_type": "stream",
          "name": "stdout",
          "text": [
            "DeepNN parameters: 3,201,122\n",
            "LightNN 3 conv layers parameters: 94,234\n",
            "LightNN 6 conv layers parameters: 126,586\n",
            "LightNN 9 conv layers parameters: 158,938\n",
            "LightNN 12 conv layers parameters: 191,290\n"
          ]
        }
      ]
    },
    {
      "cell_type": "code",
      "source": [
        "import matplotlib.pyplot as plt\n",
        "\n",
        "# x axis values\n",
        "x = [3,6,9,12]\n",
        "# corresponding y axis values\n",
        "y = [test_accuracy_light_ce_and_mse_loss1,test_accuracy_light_ce_and_mse_loss2,test_accuracy_light_ce_and_mse_loss3,test_accuracy_light_ce_and_mse_loss4]\n",
        "\n",
        "# plotting the points\n",
        "plt.plot(x, y)\n",
        "\n",
        "# naming the x axis\n",
        "plt.xlabel('Convolutional Layers')\n",
        "# naming the y axis\n",
        "plt.ylabel('Percent Accuracy')\n",
        "\n",
        "# giving a title to my graph\n",
        "plt.title('Student Depth vs. Accuracy')\n",
        "\n",
        "# function to show the plot\n",
        "plt.show()"
      ],
      "metadata": {
        "colab": {
          "base_uri": "https://localhost:8080/",
          "height": 472
        },
        "id": "ycHYznP2SZ2L",
        "outputId": "96d71b3c-9367-4b27-fcf2-3409b20e0820"
      },
      "execution_count": 40,
      "outputs": [
        {
          "output_type": "display_data",
          "data": {
            "text/plain": [
              "<Figure size 640x480 with 1 Axes>"
            ],
            "image/png": "[encoded data removed]"
          },
          "metadata": {}
        }
      ]
    }
  ],
  "metadata": {
    "accelerator": "GPU",
    "colab": {
      "provenance": [],
      "gpuType": "T4"
    },
    "kernelspec": {
      "display_name": "Python 3",
      "name": "python3"
    },
    "language_info": {
      "name": "python"
    }
  },
  "nbformat": 4,
  "nbformat_minor": 0
}