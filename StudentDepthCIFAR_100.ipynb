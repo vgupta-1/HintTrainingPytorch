{
  "nbformat": 4,
  "nbformat_minor": 0,
  "metadata": {
    "colab": {
      "provenance": [],
      "gpuType": "T4"
    },
    "kernelspec": {
      "name": "python3",
      "display_name": "Python 3"
    },
    "language_info": {
      "name": "python"
    },
    "accelerator": "GPU"
  },
  "cells": [
    {
      "cell_type": "markdown",
      "source": [
        "# Knowledge Distillation with Hint Training: Experiment 2\n",
        "\n",
        "Hint and Guided layer in beginning, middle and end.\n"
      ],
      "metadata": {
        "id": "IWgolZ-tdkau"
      }
    },
    {
      "cell_type": "code",
      "execution_count": 1,
      "metadata": {
        "id": "UvlphObFDDi1"
      },
      "outputs": [],
      "source": [
        "import torch\n",
        "import torch.nn as nn\n",
        "import torch.optim as optim\n",
        "import torchvision.transforms as transforms\n",
        "import torchvision.datasets as datasets\n",
        "device = torch.device(\"cuda\" if torch.cuda.is_available() else \"cpu\")"
      ]
    },
    {
      "cell_type": "code",
      "source": [
        "batch_size = 128\n",
        "\n",
        "mean = torch.tensor([0.4914, 0.4822, 0.4465])\n",
        "std = torch.tensor([0.2009, 0.2009, 0.2009])\n",
        "transform = transforms.Compose([\n",
        "    transforms.ToTensor(),\n",
        "    transforms.Normalize(mean = mean, std = std)])\n",
        "cifar_train_data = datasets.CIFAR100('./data', train=True, download=True, transform=transform)\n",
        "cifar_test_data = datasets.CIFAR100('./data', train=False, download=True, transform=transform)\n",
        "\n",
        "train_loader = torch.utils.data.DataLoader(cifar_train_data, batch_size=batch_size, shuffle=True)\n",
        "test_loader = torch.utils.data.DataLoader(cifar_test_data, batch_size=batch_size)"
      ],
      "metadata": {
        "colab": {
          "base_uri": "https://localhost:8080/"
        },
        "id": "v4y2M7k_yyyM",
        "outputId": "49017232-a4d9-4f38-e946-249748ab63c0"
      },
      "execution_count": 2,
      "outputs": [
        {
          "output_type": "stream",
          "name": "stdout",
          "text": [
            "Downloading https://www.cs.toronto.edu/~kriz/cifar-100-python.tar.gz to ./data/cifar-100-python.tar.gz\n"
          ]
        },
        {
          "output_type": "stream",
          "name": "stderr",
          "text": [
            "100%|██████████| 169001437/169001437 [00:03<00:00, 43749897.20it/s]\n"
          ]
        },
        {
          "output_type": "stream",
          "name": "stdout",
          "text": [
            "Extracting ./data/cifar-100-python.tar.gz to ./data\n",
            "Files already downloaded and verified\n"
          ]
        }
      ]
    },
    {
      "cell_type": "code",
      "source": [
        "for x, y in train_loader:\n",
        "    print(x.shape)\n",
        "    break"
      ],
      "metadata": {
        "colab": {
          "base_uri": "https://localhost:8080/"
        },
        "id": "VIc_TCekDs2w",
        "outputId": "92d55d72-52cd-4b17-94f7-d0b6451b3358"
      },
      "execution_count": 3,
      "outputs": [
        {
          "output_type": "stream",
          "name": "stdout",
          "text": [
            "torch.Size([128, 3, 32, 32])\n"
          ]
        }
      ]
    },
    {
      "cell_type": "markdown",
      "source": [
        "Network initializations"
      ],
      "metadata": {
        "id": "ZkoqqrFedp3W"
      }
    },
    {
      "cell_type": "code",
      "execution_count": 4,
      "metadata": {
        "id": "JPpZxkpuUXj9"
      },
      "outputs": [],
      "source": [
        "# Wide Shallow neural network class to be used as teacher:\n",
        "# 3 different instantiations where the hint layer parameters are returned, either first, second, or third convolutional layer\n",
        "\n",
        "class DeepNN(nn.Module):\n",
        "    def __init__(self, num_classes=100):\n",
        "        super(DeepNN, self).__init__()\n",
        "        self.features1 = nn.Sequential(\n",
        "            nn.Conv2d(3, 128, kernel_size=3, padding=1),\n",
        "            nn.ReLU(),\n",
        "            nn.MaxPool2d(kernel_size=2, stride=2),\n",
        "        )\n",
        "        self.features2 = nn.Sequential(\n",
        "            nn.Conv2d(128, 356, kernel_size=3, padding=1),\n",
        "            nn.ReLU(),\n",
        "            nn.MaxPool2d(kernel_size=2, stride=2),\n",
        "        )\n",
        "        self.features3 = nn.Sequential(\n",
        "            nn.Conv2d(356, 356, kernel_size=3, padding=1),\n",
        "            nn.ReLU(),\n",
        "            nn.MaxPool2d(kernel_size=4, stride=2),\n",
        "        )\n",
        "        self.classifier = nn.Sequential(\n",
        "            nn.Linear(3204, 512),\n",
        "            nn.ReLU(),\n",
        "            nn.Dropout(0.1),\n",
        "            nn.Linear(512, num_classes)\n",
        "        )\n",
        "\n",
        "    def forward(self, x):\n",
        "        x = self.features1(x)\n",
        "        conv_feature_map = x\n",
        "        x = self.features2(x)\n",
        "        x = self.features3(x)\n",
        "        x = torch.flatten(x, 1)\n",
        "        x = self.classifier(x)\n",
        "        return x, conv_feature_map"
      ]
    },
    {
      "cell_type": "code",
      "source": [
        "#Training and testing loop normal\n",
        "def test(model, test_dl):\n",
        "    device = torch.device(\"cuda\" if torch.cuda.is_available() else \"cpu\")\n",
        "    model.to(device)\n",
        "    model.eval()\n",
        "    correct = 0\n",
        "    num = 0\n",
        "    with torch.no_grad():\n",
        "        for (X, y) in test_dl:\n",
        "            X, y = X.to(device), y.to(device)\n",
        "            y_pred , _ = model(X)\n",
        "            y_pred = torch.argmax(y_pred, dim=1)\n",
        "            correct += torch.eq(y, y_pred).sum()\n",
        "            num += X.shape[0]\n",
        "\n",
        "    accuracy = correct / num\n",
        "    return accuracy.item()\n",
        "\n",
        "def train(model, lr, num_epochs, train_dl, test_dl):\n",
        "    device = torch.device(\"cuda\" if torch.cuda.is_available() else \"cpu\")\n",
        "    model.to(device)\n",
        "    opt = torch.optim.Adam(model.parameters(), lr=lr)\n",
        "    loss_fn = nn.CrossEntropyLoss()\n",
        "\n",
        "    test_accuracy_list = []\n",
        "    for epoch in range(1, num_epochs + 1):\n",
        "        model.train()\n",
        "        for X, y in train_dl:\n",
        "            X, y = X.to(device), y.to(device)\n",
        "            opt.zero_grad()\n",
        "            y_pred, _ = model(X)\n",
        "            loss = loss_fn(y_pred, y)\n",
        "            loss.backward()\n",
        "            opt.step()\n",
        "\n",
        "        test_accuracy = test(model, test_dl)\n",
        "        print(f\"Test accuracy at epoch {epoch}: {test_accuracy:.4f}\")\n",
        "        test_accuracy_list.append(test_accuracy)\n",
        "    return test_accuracy_list"
      ],
      "metadata": {
        "id": "unhyppwizpwd"
      },
      "execution_count": 5,
      "outputs": []
    },
    {
      "cell_type": "code",
      "source": [
        "#training teacher for 15 epochs\n",
        "lr =  0.001\n",
        "num_epochs = 15\n",
        "teacher = DeepNN()\n",
        "\n",
        "x = train(teacher, lr, num_epochs, train_loader, test_loader)\n",
        "test_accuracy = test(teacher, test_loader)\n",
        "print(f\"Final teacher test accuracy on CIFAR-100: {test_accuracy:.4f}\")"
      ],
      "metadata": {
        "colab": {
          "base_uri": "https://localhost:8080/"
        },
        "id": "AtBLNNkizyxS",
        "outputId": "b18507cd-762b-4aea-9203-36a0efeacdde"
      },
      "execution_count": 6,
      "outputs": [
        {
          "output_type": "stream",
          "name": "stdout",
          "text": [
            "Test accuracy at epoch 1: 0.2287\n",
            "Test accuracy at epoch 2: 0.3235\n",
            "Test accuracy at epoch 3: 0.3659\n",
            "Test accuracy at epoch 4: 0.3925\n",
            "Test accuracy at epoch 5: 0.4160\n",
            "Test accuracy at epoch 6: 0.4336\n",
            "Test accuracy at epoch 7: 0.4471\n",
            "Test accuracy at epoch 8: 0.4510\n",
            "Test accuracy at epoch 9: 0.4566\n",
            "Test accuracy at epoch 10: 0.4546\n",
            "Test accuracy at epoch 11: 0.4566\n",
            "Test accuracy at epoch 12: 0.4596\n",
            "Test accuracy at epoch 13: 0.4515\n",
            "Test accuracy at epoch 14: 0.4533\n",
            "Test accuracy at epoch 15: 0.4578\n",
            "Final teacher test accuracy on CIFAR-100: 0.4578\n"
          ]
        }
      ]
    },
    {
      "cell_type": "code",
      "source": [
        "class LightNNRegressor4(nn.Module):\n",
        "    def __init__(self, num_classes=100):\n",
        "        super(LightNNRegressor4, self).__init__()\n",
        "        self.features1 = nn.Sequential(\n",
        "            nn.Conv2d(3, 16, kernel_size=3, padding=1),\n",
        "            nn.ReLU(),\n",
        "            nn.Conv2d(16, 16, kernel_size=3, padding=1),\n",
        "            nn.ReLU(),\n",
        "            nn.Conv2d(16, 16, kernel_size=3, padding=1),\n",
        "            nn.ReLU(),\n",
        "            nn.Conv2d(16, 16, kernel_size=3, padding=1),\n",
        "            nn.ReLU(),\n",
        "            nn.MaxPool2d(kernel_size=2, stride=2),\n",
        "        )\n",
        "\n",
        "        self.features2 = nn.Sequential(\n",
        "            nn.Conv2d(16, 32, kernel_size=3, padding=1),\n",
        "            nn.ReLU(),\n",
        "            nn.Conv2d(32, 32, kernel_size=3, padding=1),\n",
        "            nn.ReLU(),\n",
        "            nn.Conv2d(32, 32, kernel_size=3, padding=1),\n",
        "            nn.ReLU(),\n",
        "            nn.Conv2d(32, 32, kernel_size=3, padding=1),\n",
        "            nn.ReLU(),\n",
        "            nn.MaxPool2d(kernel_size=2, stride=2),\n",
        "        )\n",
        "        self.features3= nn.Sequential(\n",
        "            nn.Conv2d(32, 48, kernel_size=3, padding=1),\n",
        "            nn.ReLU(),\n",
        "            nn.Conv2d(48, 48, kernel_size=3, padding=1),\n",
        "            nn.ReLU(),\n",
        "            nn.Conv2d(48, 48, kernel_size=3, padding=1),\n",
        "            nn.ReLU(),\n",
        "            nn.Conv2d(48, 48, kernel_size=3, padding=1),\n",
        "            nn.ReLU(),\n",
        "            nn.MaxPool2d(kernel_size=4, stride=2),\n",
        "        )\n",
        "\n",
        "        self.regressor = nn.Sequential(\n",
        "            nn.Conv2d(16, 128, kernel_size=3, padding=1)\n",
        "        )\n",
        "\n",
        "        self.classifier = nn.Sequential(\n",
        "            nn.Linear(432, 128),\n",
        "            nn.ReLU(),\n",
        "            nn.Dropout(0.1),\n",
        "            nn.Linear(128, num_classes)\n",
        "        )\n",
        "\n",
        "    def forward(self, x):\n",
        "        x = self.features1(x)\n",
        "        regressor_output = self.regressor(x)\n",
        "        x = self.features2(x)\n",
        "        x = self.features3(x)\n",
        "        x = torch.flatten(x, 1)\n",
        "        x = self.classifier(x)\n",
        "        return x, regressor_output\n",
        "\n",
        "\n",
        "class LightNNRegressor3(nn.Module):\n",
        "    def __init__(self, num_classes=100):\n",
        "        super(LightNNRegressor3, self).__init__()\n",
        "        self.features1 = nn.Sequential(\n",
        "            nn.Conv2d(3, 16, kernel_size=3, padding=1),\n",
        "            nn.ReLU(),\n",
        "            nn.Conv2d(16, 16, kernel_size=3, padding=1),\n",
        "            nn.ReLU(),\n",
        "            nn.Conv2d(16, 16, kernel_size=3, padding=1),\n",
        "            nn.ReLU(),\n",
        "            nn.MaxPool2d(kernel_size=2, stride=2),\n",
        "        )\n",
        "\n",
        "        self.features2 = nn.Sequential(\n",
        "            nn.Conv2d(16, 32, kernel_size=3, padding=1),\n",
        "            nn.ReLU(),\n",
        "            nn.Conv2d(32, 32, kernel_size=3, padding=1),\n",
        "            nn.ReLU(),\n",
        "            nn.Conv2d(32, 32, kernel_size=3, padding=1),\n",
        "            nn.ReLU(),\n",
        "            nn.MaxPool2d(kernel_size=2, stride=2),\n",
        "        )\n",
        "        self.features3= nn.Sequential(\n",
        "            nn.Conv2d(32, 48, kernel_size=3, padding=1),\n",
        "            nn.ReLU(),\n",
        "            nn.Conv2d(48, 48, kernel_size=3, padding=1),\n",
        "            nn.ReLU(),\n",
        "            nn.Conv2d(48, 48, kernel_size=3, padding=1),\n",
        "            nn.ReLU(),\n",
        "            nn.MaxPool2d(kernel_size=4, stride=2),\n",
        "        )\n",
        "\n",
        "        self.regressor = nn.Sequential(\n",
        "            nn.Conv2d(16, 128, kernel_size=3, padding=1)\n",
        "        )\n",
        "\n",
        "        self.classifier = nn.Sequential(\n",
        "            nn.Linear(432, 128),\n",
        "            nn.ReLU(),\n",
        "            nn.Dropout(0.1),\n",
        "            nn.Linear(128, num_classes)\n",
        "        )\n",
        "\n",
        "    def forward(self, x):\n",
        "        x = self.features1(x)\n",
        "        regressor_output = self.regressor(x)\n",
        "        x = self.features2(x)\n",
        "        x = self.features3(x)\n",
        "        x = torch.flatten(x, 1)\n",
        "        x = self.classifier(x)\n",
        "        return x, regressor_output\n",
        "\n",
        "\n",
        "\n",
        "\n",
        "class LightNNRegressor2(nn.Module):\n",
        "    def __init__(self, num_classes=100):\n",
        "        super(LightNNRegressor2, self).__init__()\n",
        "        self.features1 = nn.Sequential(\n",
        "            nn.Conv2d(3, 16, kernel_size=3, padding=1),\n",
        "            nn.ReLU(),\n",
        "            nn.Conv2d(16, 16, kernel_size=3, padding=1),\n",
        "            nn.ReLU(),\n",
        "            nn.MaxPool2d(kernel_size=2, stride=2),\n",
        "        )\n",
        "\n",
        "        self.features2 = nn.Sequential(\n",
        "            nn.Conv2d(16, 32, kernel_size=3, padding=1),\n",
        "            nn.ReLU(),\n",
        "            nn.Conv2d(32, 32, kernel_size=3, padding=1),\n",
        "            nn.ReLU(),\n",
        "            nn.MaxPool2d(kernel_size=2, stride=2),\n",
        "        )\n",
        "        self.features3= nn.Sequential(\n",
        "            nn.Conv2d(32, 48, kernel_size=3, padding=1),\n",
        "            nn.ReLU(),\n",
        "            nn.Conv2d(48, 48, kernel_size=3, padding=1),\n",
        "            nn.ReLU(),\n",
        "            nn.MaxPool2d(kernel_size=4, stride=2),\n",
        "        )\n",
        "\n",
        "        self.regressor = nn.Sequential(\n",
        "            nn.Conv2d(16, 128, kernel_size=3, padding=1)\n",
        "        )\n",
        "\n",
        "        self.classifier = nn.Sequential(\n",
        "            nn.Linear(432, 128),\n",
        "            nn.ReLU(),\n",
        "            nn.Dropout(0.1),\n",
        "            nn.Linear(128, num_classes)\n",
        "        )\n",
        "\n",
        "    def forward(self, x):\n",
        "        x = self.features1(x)\n",
        "        regressor_output = self.regressor(x)\n",
        "        x = self.features2(x)\n",
        "        x = self.features3(x)\n",
        "        x = torch.flatten(x, 1)\n",
        "        x = self.classifier(x)\n",
        "        return x, regressor_output\n",
        "\n",
        "\n",
        "class LightNNRegressor1(nn.Module):\n",
        "    def __init__(self, num_classes=100):\n",
        "        super(LightNNRegressor1, self).__init__()\n",
        "        self.features1 = nn.Sequential(\n",
        "            nn.Conv2d(3, 16, kernel_size=3, padding=1),\n",
        "            nn.ReLU(),\n",
        "            nn.MaxPool2d(kernel_size=2, stride=2),\n",
        "        )\n",
        "\n",
        "        self.features2 = nn.Sequential(\n",
        "            nn.Conv2d(16, 32, kernel_size=3, padding=1),\n",
        "            nn.ReLU(),\n",
        "            nn.MaxPool2d(kernel_size=2, stride=2),\n",
        "        )\n",
        "        self.features3= nn.Sequential(\n",
        "            nn.Conv2d(32, 48, kernel_size=3, padding=1),\n",
        "            nn.ReLU(),\n",
        "            nn.MaxPool2d(kernel_size=4, stride=2),\n",
        "        )\n",
        "\n",
        "        self.regressor = nn.Sequential(\n",
        "            nn.Conv2d(16, 128, kernel_size=3, padding=1)\n",
        "        )\n",
        "\n",
        "        self.classifier = nn.Sequential(\n",
        "            nn.Linear(432, 128),\n",
        "            nn.ReLU(),\n",
        "            nn.Dropout(0.1),\n",
        "            nn.Linear(128, num_classes)\n",
        "        )\n",
        "\n",
        "    def forward(self, x):\n",
        "        x = self.features1(x)\n",
        "        regressor_output = self.regressor(x)\n",
        "        x = self.features2(x)\n",
        "        x = self.features3(x)\n",
        "        x = torch.flatten(x, 1)\n",
        "        x = self.classifier(x)\n",
        "        return x, regressor_output\n",
        "\n"
      ],
      "metadata": {
        "id": "yc8TaCSUaPn2"
      },
      "execution_count": 7,
      "outputs": []
    },
    {
      "cell_type": "code",
      "source": [
        "#Distillation loss\n",
        "def test_d(model, test_dl):\n",
        "    device = torch.device(\"cuda\" if torch.cuda.is_available() else \"cpu\")\n",
        "    model.to(device)\n",
        "    model.eval()\n",
        "    correct = 0\n",
        "    num = 0\n",
        "    with torch.no_grad():\n",
        "        for (X, y) in test_dl:\n",
        "            X, y = X.to(device), y.to(device)\n",
        "            y_pred, _ = model(X)\n",
        "            y_pred = torch.argmax(y_pred, dim=1)\n",
        "            correct += torch.eq(y, y_pred).sum()\n",
        "            num += X.shape[0]\n",
        "\n",
        "    accuracy = correct / num\n",
        "    return accuracy.item()\n",
        "\n",
        "def train_d1(teacher, student, lr, num_epochs, temperature, alpha, train_dl, test_dl):\n",
        "    device = torch.device(\"cuda\" if torch.cuda.is_available() else \"cpu\")\n",
        "    teacher.to(device)\n",
        "    student.to(device)\n",
        "    opt = torch.optim.Adam(student.parameters(), lr=lr)\n",
        "    loss_fn = nn.CrossEntropyLoss()\n",
        "    mse_loss = nn.MSELoss()\n",
        "\n",
        "    test_accuracy_list = []\n",
        "    for epoch in range(1, num_epochs + 1):\n",
        "        student.train()\n",
        "        running_loss = 0.0\n",
        "        for X, y in train_dl:\n",
        "            X, y = X.to(device), y.to(device)\n",
        "            opt.zero_grad()\n",
        "            student_logits, regressor_feature_map = student(X)\n",
        "            with torch.no_grad():\n",
        "                teacher_logits, teacher_feature_map = teacher(X)\n",
        "\n",
        "            hidden_rep_loss = mse_loss(regressor_feature_map, teacher_feature_map)\n",
        "            label_loss = loss_fn(student_logits, y)\n",
        "            loss = label_loss\n",
        "            loss = 0.25 * hidden_rep_loss + 0.75 * label_loss\n",
        "\n",
        "\n",
        "            loss.backward()\n",
        "            opt.step()\n",
        "\n",
        "            running_loss += loss.item()\n",
        "\n",
        "        #print(f\"Epoch {epoch+1}/{epochs}, Loss: {running_loss / len(train_loader)}\")\n",
        "\n",
        "        test_accuracy = test(student, test_dl)\n",
        "        print(f\"Test accuracy at epoch {epoch}: {test_accuracy:.4f}\")\n",
        "        test_accuracy_list.append(test_accuracy)\n",
        "    return test_accuracy_list\n",
        "\n",
        "\n",
        "# Initialize a ModifiedLightNNRegressor\n",
        "torch.manual_seed(42)\n",
        "modified_nn_light_reg = LightNNRegressor1(num_classes=100).to(device)\n",
        "modified_nn_light_reg2 = LightNNRegressor2(num_classes=100).to(device)\n",
        "modified_nn_light_reg3 = LightNNRegressor3(num_classes=100).to(device)\n",
        "modified_nn_light_reg4 = LightNNRegressor4(num_classes=100).to(device)\n",
        "\n",
        "# We do not have to train the modified deep network from scratch of course, we just load its weights from the trained instance\n",
        "modified_nn_deep_reg = DeepNN(num_classes=100).to(device)\n",
        "modified_nn_deep_reg.load_state_dict(teacher.state_dict())\n",
        "modified_nn_deep_reg2 = DeepNN(num_classes=100).to(device)\n",
        "modified_nn_deep_reg2.load_state_dict(teacher.state_dict())\n",
        "modified_nn_deep_reg3 = DeepNN(num_classes=100).to(device)\n",
        "modified_nn_deep_reg3.load_state_dict(teacher.state_dict())\n",
        "modified_nn_deep_reg4 = DeepNN(num_classes=100).to(device)\n",
        "modified_nn_deep_reg4.load_state_dict(teacher.state_dict())"
      ],
      "metadata": {
        "colab": {
          "base_uri": "https://localhost:8080/"
        },
        "id": "XiFhoqkyoTcW",
        "outputId": "c218d663-25ff-491d-a6bf-226b729a4715"
      },
      "execution_count": 8,
      "outputs": [
        {
          "output_type": "execute_result",
          "data": {
            "text/plain": [
              "<All keys matched successfully>"
            ]
          },
          "metadata": {},
          "execution_count": 8
        }
      ]
    },
    {
      "cell_type": "code",
      "source": [
        "for param in modified_nn_light_reg.classifier.parameters():\n",
        "  param.requires_grad = False\n",
        "for param in modified_nn_light_reg2.classifier.parameters():\n",
        "  param.requires_grad = False\n",
        "for param in modified_nn_light_reg3.classifier.parameters():\n",
        "  param.requires_grad = False\n",
        "for param in modified_nn_light_reg4.classifier.parameters():\n",
        "  param.requires_grad = False\n",
        "\n",
        "# Train and test once again\n",
        "train_d1(teacher=modified_nn_deep_reg, student=modified_nn_light_reg, lr=0.001, num_epochs=10, temperature=0, alpha = 0, train_dl=train_loader, test_dl=test_loader)\n",
        "train_d1(teacher=modified_nn_deep_reg2, student=modified_nn_light_reg2, lr=0.001, num_epochs=10, temperature=0, alpha = 0, train_dl=train_loader, test_dl=test_loader)\n",
        "train_d1(teacher=modified_nn_deep_reg3, student=modified_nn_light_reg3, lr=0.001, num_epochs=10, temperature=0, alpha = 0, train_dl=train_loader, test_dl=test_loader)\n",
        "train_d1(teacher=modified_nn_deep_reg4, student=modified_nn_light_reg4, lr=0.001, num_epochs=10, temperature=0, alpha = 0, train_dl=train_loader, test_dl=test_loader)"
      ],
      "metadata": {
        "colab": {
          "base_uri": "https://localhost:8080/"
        },
        "id": "SXxePnJdH8SV",
        "outputId": "6a8eefdb-7d1a-416b-b337-9b87df567d6d"
      },
      "execution_count": 9,
      "outputs": [
        {
          "output_type": "stream",
          "name": "stdout",
          "text": [
            "Test accuracy at epoch 1: 0.0514\n",
            "Test accuracy at epoch 2: 0.0645\n",
            "Test accuracy at epoch 3: 0.0759\n",
            "Test accuracy at epoch 4: 0.0859\n",
            "Test accuracy at epoch 5: 0.0880\n",
            "Test accuracy at epoch 6: 0.0953\n",
            "Test accuracy at epoch 7: 0.1010\n",
            "Test accuracy at epoch 8: 0.1040\n",
            "Test accuracy at epoch 9: 0.1115\n",
            "Test accuracy at epoch 10: 0.1129\n",
            "Test accuracy at epoch 1: 0.0372\n",
            "Test accuracy at epoch 2: 0.0670\n",
            "Test accuracy at epoch 3: 0.0898\n",
            "Test accuracy at epoch 4: 0.1021\n",
            "Test accuracy at epoch 5: 0.1170\n",
            "Test accuracy at epoch 6: 0.1240\n",
            "Test accuracy at epoch 7: 0.1320\n",
            "Test accuracy at epoch 8: 0.1471\n",
            "Test accuracy at epoch 9: 0.1493\n",
            "Test accuracy at epoch 10: 0.1629\n",
            "Test accuracy at epoch 1: 0.0277\n",
            "Test accuracy at epoch 2: 0.0731\n",
            "Test accuracy at epoch 3: 0.1008\n",
            "Test accuracy at epoch 4: 0.1186\n",
            "Test accuracy at epoch 5: 0.1274\n",
            "Test accuracy at epoch 6: 0.1457\n",
            "Test accuracy at epoch 7: 0.1623\n",
            "Test accuracy at epoch 8: 0.1680\n",
            "Test accuracy at epoch 9: 0.1749\n",
            "Test accuracy at epoch 10: 0.1786\n",
            "Test accuracy at epoch 1: 0.0100\n",
            "Test accuracy at epoch 2: 0.0411\n",
            "Test accuracy at epoch 3: 0.0695\n",
            "Test accuracy at epoch 4: 0.0912\n",
            "Test accuracy at epoch 5: 0.1073\n",
            "Test accuracy at epoch 6: 0.1254\n",
            "Test accuracy at epoch 7: 0.1402\n",
            "Test accuracy at epoch 8: 0.1432\n",
            "Test accuracy at epoch 9: 0.1618\n",
            "Test accuracy at epoch 10: 0.1688\n"
          ]
        },
        {
          "output_type": "execute_result",
          "data": {
            "text/plain": [
              "[0.009999999776482582,\n",
              " 0.041099999099969864,\n",
              " 0.06949999928474426,\n",
              " 0.09119999408721924,\n",
              " 0.10729999840259552,\n",
              " 0.12539999186992645,\n",
              " 0.14019998908042908,\n",
              " 0.14319999516010284,\n",
              " 0.16179999709129333,\n",
              " 0.1687999963760376]"
            ]
          },
          "metadata": {},
          "execution_count": 9
        }
      ]
    },
    {
      "cell_type": "code",
      "source": [
        "#unfreeze parameters and train finally with knowledge distillation for stage 2\n",
        "\n",
        "for param in modified_nn_light_reg.classifier.parameters():\n",
        "  param.requires_grad = True\n",
        "for param in modified_nn_light_reg2.classifier.parameters():\n",
        "  param.requires_grad = True\n",
        "for param in modified_nn_light_reg3.classifier.parameters():\n",
        "  param.requires_grad = True\n",
        "for param in modified_nn_light_reg4.classifier.parameters():\n",
        "  param.requires_grad = True\n",
        "\n",
        "\n",
        "def test_d(model, test_dl):\n",
        "    device = torch.device(\"cuda\" if torch.cuda.is_available() else \"cpu\")\n",
        "    model.to(device)\n",
        "    model.eval()\n",
        "    correct = 0\n",
        "    num = 0\n",
        "    with torch.no_grad():\n",
        "        for (X, y) in test_dl:\n",
        "            X, y = X.to(device), y.to(device)\n",
        "            y_pred, _ = model(X)\n",
        "            y_pred = torch.argmax(y_pred, dim=1)\n",
        "            correct += torch.eq(y, y_pred).sum()\n",
        "            num += X.shape[0]\n",
        "\n",
        "    accuracy = correct / num\n",
        "    return accuracy.item()\n",
        "\n",
        "def train_d(teacher, student, lr, num_epochs, temperature, alpha, train_dl, test_dl):\n",
        "    device = torch.device(\"cuda\" if torch.cuda.is_available() else \"cpu\")\n",
        "    teacher.to(device)\n",
        "    student.to(device)\n",
        "    opt = torch.optim.Adam(student.parameters(), lr=lr)\n",
        "    loss_fn = nn.CrossEntropyLoss()\n",
        "\n",
        "    test_accuracy_list = []\n",
        "    for epoch in range(1, num_epochs + 1):\n",
        "        student.train()\n",
        "        running_loss = 0.0\n",
        "        for X, y in train_dl:\n",
        "            X, y = X.to(device), y.to(device)\n",
        "            opt.zero_grad()\n",
        "            student_logits, _ = student(X)\n",
        "            with torch.no_grad():\n",
        "                teacher_logits, _ = teacher(X)\n",
        "\n",
        "            student_probs = torch.softmax(student_logits / temperature, dim=1)\n",
        "\n",
        "\n",
        "            soft_targets = nn.functional.softmax(teacher_logits / temperature, dim=-1)\n",
        "            soft_prob = nn.functional.log_softmax(student_logits / temperature, dim=-1)\n",
        "            soft_targets_loss = -torch.sum(soft_targets * soft_prob) / soft_prob.size()[0] * (temperature**2)\n",
        "            label_loss = loss_fn(student_logits, y)\n",
        "            loss = 0.25 * soft_targets_loss + 0.75* label_loss\n",
        "\n",
        "\n",
        "            loss.backward()\n",
        "            opt.step()\n",
        "\n",
        "            running_loss += loss.item()\n",
        "\n",
        "        #print(f\"Epoch {epoch+1}/{epochs}, Loss: {running_loss / len(train_loader)}\")\n",
        "\n",
        "        test_accuracy = test(student, test_dl)\n",
        "        print(f\"Test accuracy at epoch {epoch}: {test_accuracy:.4f}\")\n",
        "        test_accuracy_list.append(test_accuracy)\n",
        "    return test_accuracy_list"
      ],
      "metadata": {
        "id": "pC4lKIqPOfQe"
      },
      "execution_count": 10,
      "outputs": []
    },
    {
      "cell_type": "code",
      "source": [
        "train_d(teacher=modified_nn_deep_reg, student=modified_nn_light_reg, lr=0.001, num_epochs=10, temperature=2, alpha = 0.75, train_dl=train_loader, test_dl=test_loader)\n",
        "train_d(teacher=modified_nn_deep_reg2, student=modified_nn_light_reg2,  lr=0.001, num_epochs=10, temperature=2, alpha = 0.75, train_dl=train_loader, test_dl=test_loader)\n",
        "train_d(teacher=modified_nn_deep_reg3, student=modified_nn_light_reg3,  lr=0.001, num_epochs=10, temperature=2, alpha = 0.75, train_dl=train_loader, test_dl=test_loader)\n",
        "train_d(teacher=modified_nn_deep_reg4, student=modified_nn_light_reg4,  lr=0.001, num_epochs=10, temperature=2, alpha = 0.75, train_dl=train_loader, test_dl=test_loader)"
      ],
      "metadata": {
        "colab": {
          "base_uri": "https://localhost:8080/"
        },
        "id": "qnxFh-JIP__p",
        "outputId": "d9e0f026-27d8-4914-c137-a29c21315a47"
      },
      "execution_count": 11,
      "outputs": [
        {
          "output_type": "stream",
          "name": "stdout",
          "text": [
            "Test accuracy at epoch 1: 0.2703\n",
            "Test accuracy at epoch 2: 0.3143\n",
            "Test accuracy at epoch 3: 0.3333\n",
            "Test accuracy at epoch 4: 0.3508\n",
            "Test accuracy at epoch 5: 0.3585\n",
            "Test accuracy at epoch 6: 0.3667\n",
            "Test accuracy at epoch 7: 0.3727\n",
            "Test accuracy at epoch 8: 0.3822\n",
            "Test accuracy at epoch 9: 0.3786\n",
            "Test accuracy at epoch 10: 0.3791\n",
            "Test accuracy at epoch 1: 0.2662\n",
            "Test accuracy at epoch 2: 0.2988\n",
            "Test accuracy at epoch 3: 0.3131\n",
            "Test accuracy at epoch 4: 0.3312\n",
            "Test accuracy at epoch 5: 0.3421\n",
            "Test accuracy at epoch 6: 0.3560\n",
            "Test accuracy at epoch 7: 0.3650\n",
            "Test accuracy at epoch 8: 0.3686\n",
            "Test accuracy at epoch 9: 0.3750\n",
            "Test accuracy at epoch 10: 0.3784\n",
            "Test accuracy at epoch 1: 0.2403\n",
            "Test accuracy at epoch 2: 0.2686\n",
            "Test accuracy at epoch 3: 0.2975\n",
            "Test accuracy at epoch 4: 0.3135\n",
            "Test accuracy at epoch 5: 0.3280\n",
            "Test accuracy at epoch 6: 0.3443\n",
            "Test accuracy at epoch 7: 0.3512\n",
            "Test accuracy at epoch 8: 0.3541\n",
            "Test accuracy at epoch 9: 0.3544\n",
            "Test accuracy at epoch 10: 0.3602\n",
            "Test accuracy at epoch 1: 0.2179\n",
            "Test accuracy at epoch 2: 0.2415\n",
            "Test accuracy at epoch 3: 0.2694\n",
            "Test accuracy at epoch 4: 0.2903\n",
            "Test accuracy at epoch 5: 0.3094\n",
            "Test accuracy at epoch 6: 0.3127\n",
            "Test accuracy at epoch 7: 0.3333\n",
            "Test accuracy at epoch 8: 0.3283\n",
            "Test accuracy at epoch 9: 0.3406\n",
            "Test accuracy at epoch 10: 0.3511\n"
          ]
        },
        {
          "output_type": "execute_result",
          "data": {
            "text/plain": [
              "[0.21789999306201935,\n",
              " 0.24149999022483826,\n",
              " 0.2694000005722046,\n",
              " 0.2902999818325043,\n",
              " 0.3093999922275543,\n",
              " 0.3127000033855438,\n",
              " 0.33329999446868896,\n",
              " 0.32829999923706055,\n",
              " 0.34059998393058777,\n",
              " 0.35109999775886536]"
            ]
          },
          "metadata": {},
          "execution_count": 11
        }
      ]
    },
    {
      "cell_type": "code",
      "execution_count": 12,
      "metadata": {
        "id": "LC9GhxKx4PL_"
      },
      "outputs": [],
      "source": [
        "def test_multiple_outputs(model, test_loader, device):\n",
        "    model.to(device)\n",
        "    model.eval()\n",
        "\n",
        "    correct = 0\n",
        "    total = 0\n",
        "\n",
        "    with torch.no_grad():\n",
        "        for inputs, labels in test_loader:\n",
        "            inputs, labels = inputs.to(device), labels.to(device)\n",
        "\n",
        "            outputs, _ = model(inputs) # Disregard the second tensor of the tuple\n",
        "            _, predicted = torch.max(outputs.data, 1)\n",
        "\n",
        "            total += labels.size(0)\n",
        "            correct += (predicted == labels).sum().item()\n",
        "\n",
        "    accuracy = 100 * correct / total\n",
        "    print(f\"Test Accuracy: {accuracy:.2f}%\")\n",
        "    return accuracy"
      ]
    },
    {
      "cell_type": "code",
      "source": [
        "print(f\"Teacher Accuracy:\")\n",
        "test_accuracy_deep = test(modified_nn_deep_reg, test_loader)\n",
        "\n",
        "\n",
        "print(f\"{(100*test_accuracy_deep):.2f}%\")\n",
        "print(f\"Final Student Accuracy (3 conv layers):\")\n",
        "test_accuracy_light_ce_and_mse_loss1 = test_multiple_outputs(modified_nn_light_reg, test_loader, device)\n",
        "print(f\"Final Student Accuracy (6 conv layers):\")\n",
        "test_accuracy_light_ce_and_mse_loss2 = test_multiple_outputs(modified_nn_light_reg2, test_loader, device)\n",
        "print(f\"Final Student Accuracy (9 conv layers):\")\n",
        "test_accuracy_light_ce_and_mse_loss3 = test_multiple_outputs(modified_nn_light_reg3, test_loader, device)\n",
        "print(f\"Final Student Accuracy (12 conv layers):\")\n",
        "test_accuracy_light_ce_and_mse_loss4 = test_multiple_outputs(modified_nn_light_reg4, test_loader, device)\n"
      ],
      "metadata": {
        "colab": {
          "base_uri": "https://localhost:8080/"
        },
        "id": "t97x9NPtYgLe",
        "outputId": "caa6ff4b-c404-4d68-f9b9-c78138b6d52e"
      },
      "execution_count": 13,
      "outputs": [
        {
          "output_type": "stream",
          "name": "stdout",
          "text": [
            "Teacher Accuracy:\n",
            "45.78%\n",
            "Final Student Accuracy (3 conv layers):\n",
            "Test Accuracy: 37.91%\n",
            "Final Student Accuracy (6 conv layers):\n",
            "Test Accuracy: 37.84%\n",
            "Final Student Accuracy (9 conv layers):\n",
            "Test Accuracy: 36.02%\n",
            "Final Student Accuracy (12 conv layers):\n",
            "Test Accuracy: 35.11%\n"
          ]
        }
      ]
    },
    {
      "cell_type": "code",
      "source": [
        "nn_light = DeepNN(num_classes=100).to(device)\n",
        "total_params_deep = \"{:,}\".format(sum(p.numel() for p in teacher.parameters()))\n",
        "print(f\"DeepNN parameters: {total_params_deep}\")\n",
        "total_params_light = \"{:,}\".format(sum(p.numel() for p in modified_nn_light_reg.parameters()))\n",
        "print(f\"LightNN1 parameters: {total_params_light}\")\n",
        "total_params_light = \"{:,}\".format(sum(p.numel() for p in modified_nn_light_reg2.parameters()))\n",
        "print(f\"LightNN2 parameters: {total_params_light}\")\n",
        "total_params_light = \"{:,}\".format(sum(p.numel() for p in modified_nn_light_reg3.parameters()))\n",
        "print(f\"LightNN3 parameters: {total_params_light}\")\n",
        "total_params_light = \"{:,}\".format(sum(p.numel() for p in modified_nn_light_reg4.parameters()))\n",
        "print(f\"LightNN4 parameters: {total_params_light}\")"
      ],
      "metadata": {
        "colab": {
          "base_uri": "https://localhost:8080/"
        },
        "id": "6HVR6AyHYsjd",
        "outputId": "c3617541-4cd0-44d3-fb0b-5a4766623046"
      },
      "execution_count": 14,
      "outputs": [
        {
          "output_type": "stream",
          "name": "stdout",
          "text": [
            "DeepNN parameters: 3,247,292\n",
            "LightNN1 parameters: 105,844\n",
            "LightNN2 parameters: 138,196\n",
            "LightNN3 parameters: 170,548\n",
            "LightNN4 parameters: 202,900\n"
          ]
        }
      ]
    },
    {
      "cell_type": "code",
      "source": [
        "import matplotlib.pyplot as plt\n",
        "\n",
        "# x axis values\n",
        "x = [3,6,9,12]\n",
        "# corresponding y axis values\n",
        "y = [test_accuracy_light_ce_and_mse_loss1,test_accuracy_light_ce_and_mse_loss2,test_accuracy_light_ce_and_mse_loss3,test_accuracy_light_ce_and_mse_loss4]\n",
        "\n",
        "# plotting the points\n",
        "plt.plot(x, y)\n",
        "\n",
        "# naming the x axis\n",
        "plt.xlabel('Convolutional Layers')\n",
        "# naming the y axis\n",
        "plt.ylabel('Percent Accuracy')\n",
        "\n",
        "# giving a title to my graph\n",
        "plt.title('Student Depth vs. Accuracy')\n",
        "\n",
        "# function to show the plot\n",
        "plt.show()"
      ],
      "metadata": {
        "colab": {
          "base_uri": "https://localhost:8080/",
          "height": 472
        },
        "id": "_6u4xEmbTNdA",
        "outputId": "0b7c7840-3c0a-4abe-ff31-d07880437388"
      },
      "execution_count": 15,
      "outputs": [
        {
          "output_type": "display_data",
          "data": {
            "text/plain": [
              "<Figure size 640x480 with 1 Axes>"
            ],
            "image/png": "[encoded data removed]"
          },
          "metadata": {}
        }
      ]
    }
  ]
}