{
  "cells": [
    {
      "cell_type": "markdown",
      "source": [
        "# Knowledge Distillation with Hint Training: Experiment 3\n",
        "\n",
        "Multiple hint layers\n"
      ],
      "metadata": {
        "id": "K9VBTCDfwlVu"
      }
    },
    {
      "cell_type": "code",
      "execution_count": 1,
      "metadata": {
        "id": "6kq6e0HJTtqH"
      },
      "outputs": [],
      "source": [
        "import torch\n",
        "import torch.nn as nn\n",
        "import torch.optim as optim\n",
        "import torchvision.transforms as transforms\n",
        "import torchvision.datasets as datasets\n",
        "\n",
        "# Check if GPU is available, and if not, use the CPU\n",
        "device = torch.device(\"cuda\" if torch.cuda.is_available() else \"cpu\")\n"
      ]
    },
    {
      "cell_type": "code",
      "execution_count": 2,
      "metadata": {
        "colab": {
          "base_uri": "https://localhost:8080/"
        },
        "id": "DnsQXEYXNfWe",
        "outputId": "7f3f86c4-5bd0-4cf5-9c76-208a92036dd7"
      },
      "outputs": [
        {
          "output_type": "stream",
          "name": "stdout",
          "text": [
            "Downloading https://www.cs.toronto.edu/~kriz/cifar-10-python.tar.gz to ./data/cifar-10-python.tar.gz\n"
          ]
        },
        {
          "output_type": "stream",
          "name": "stderr",
          "text": [
            "100%|██████████| 170498071/170498071 [00:02<00:00, 71014285.28it/s]\n"
          ]
        },
        {
          "output_type": "stream",
          "name": "stdout",
          "text": [
            "Extracting ./data/cifar-10-python.tar.gz to ./data\n",
            "Files already downloaded and verified\n"
          ]
        }
      ],
      "source": [
        "# Below we are preprocessing data for CIFAR-10. We use an arbitrary batch size of 128.\n",
        "transforms_cifar = transforms.Compose([\n",
        "    transforms.ToTensor(),\n",
        "    transforms.Normalize(mean=[0.485, 0.456, 0.406], std=[0.229, 0.224, 0.225]),\n",
        "])\n",
        "\n",
        "# Loading the CIFAR-10 dataset:\n",
        "train_dataset = datasets.CIFAR10(root='./data', train=True, download=True, transform=transforms_cifar)\n",
        "test_dataset = datasets.CIFAR10(root='./data', train=False, download=True, transform=transforms_cifar)"
      ]
    },
    {
      "cell_type": "code",
      "execution_count": 3,
      "metadata": {
        "id": "GoSunRORUXj8"
      },
      "outputs": [],
      "source": [
        "#Dataloaders\n",
        "train_loader = torch.utils.data.DataLoader(train_dataset, batch_size=128, shuffle=True, num_workers=2)\n",
        "test_loader = torch.utils.data.DataLoader(test_dataset, batch_size=128, shuffle=False, num_workers=2)"
      ]
    },
    {
      "cell_type": "markdown",
      "source": [
        "DeepNN(Not actually Deep): Shallow Neural Network but very wide with 3 Convolutional Layers and over 3 million parameters.\n",
        "LightNN: much deeper network with 9 convolutional layers but much thinner with over 140,000 parameters."
      ],
      "metadata": {
        "id": "Jxwv218pNwJ4"
      }
    },
    {
      "cell_type": "code",
      "execution_count": 5,
      "metadata": {
        "id": "JPpZxkpuUXj9"
      },
      "outputs": [],
      "source": [
        "# Wide Shallow neural network class to be used as teacher:\n",
        "# 3 different instantiations where the hint layer parameters are returned, either first, second, or third convolutional layer\n",
        "\n",
        "class DeepNN(nn.Module):\n",
        "    def __init__(self, num_classes=10):\n",
        "        super(DeepNN, self).__init__()\n",
        "        self.features1 = nn.Sequential(\n",
        "            nn.Conv2d(3, 128, kernel_size=3, padding=1),\n",
        "            nn.ReLU(),\n",
        "            nn.MaxPool2d(kernel_size=2, stride=2),\n",
        "        )\n",
        "        self.features2 = nn.Sequential(\n",
        "            nn.Conv2d(128, 356, kernel_size=3, padding=1),\n",
        "            nn.ReLU(),\n",
        "            nn.MaxPool2d(kernel_size=2, stride=2),\n",
        "        )\n",
        "        self.features3 = nn.Sequential(\n",
        "            nn.Conv2d(356, 356, kernel_size=3, padding=1),\n",
        "            nn.ReLU(),\n",
        "            nn.MaxPool2d(kernel_size=4, stride=2),\n",
        "        )\n",
        "        self.classifier = nn.Sequential(\n",
        "            nn.Linear(3204, 512),\n",
        "            nn.ReLU(),\n",
        "            nn.Dropout(0.1),\n",
        "            nn.Linear(512, num_classes)\n",
        "        )\n",
        "\n",
        "    def forward(self, x):\n",
        "        x = self.features1(x)\n",
        "        conv_feature_map = x\n",
        "        x = self.features2(x)\n",
        "        conv_feature_map2 = x\n",
        "        x = self.features3(x)\n",
        "        x = torch.flatten(x, 1)\n",
        "        x = self.classifier(x)\n",
        "        return x, conv_feature_map, conv_feature_map2\n",
        "\n",
        "class DeepNN2(nn.Module):\n",
        "    def __init__(self, num_classes=10):\n",
        "        super(DeepNN2, self).__init__()\n",
        "        self.features1 = nn.Sequential(\n",
        "            nn.Conv2d(3, 128, kernel_size=3, padding=1),\n",
        "            nn.ReLU(),\n",
        "            nn.MaxPool2d(kernel_size=2, stride=2),\n",
        "        )\n",
        "        self.features2 = nn.Sequential(\n",
        "            nn.Conv2d(128, 356, kernel_size=3, padding=1),\n",
        "            nn.ReLU(),\n",
        "            nn.MaxPool2d(kernel_size=2, stride=2),\n",
        "        )\n",
        "        self.features3 = nn.Sequential(\n",
        "            nn.Conv2d(356, 356, kernel_size=3, padding=1),\n",
        "            nn.ReLU(),\n",
        "            nn.MaxPool2d(kernel_size=4, stride=2),\n",
        "        )\n",
        "        self.classifier = nn.Sequential(\n",
        "            nn.Linear(3204, 512),\n",
        "            nn.ReLU(),\n",
        "            nn.Dropout(0.1),\n",
        "            nn.Linear(512, num_classes)\n",
        "        )\n",
        "\n",
        "\n",
        "    def forward(self, x):\n",
        "        x = self.features1(x)\n",
        "        x = self.features2(x)\n",
        "        conv_feature_map = x\n",
        "        x = self.features3(x)\n",
        "        conv_feature_map2 = x\n",
        "        x = torch.flatten(x, 1)\n",
        "        x = self.classifier(x)\n",
        "        return x, conv_feature_map, conv_feature_map2\n",
        "\n",
        "class DeepNN3(nn.Module):\n",
        "    def __init__(self, num_classes=10):\n",
        "        super(DeepNN3, self).__init__()\n",
        "        self.features1 = nn.Sequential(\n",
        "            nn.Conv2d(3, 128, kernel_size=3, padding=1),\n",
        "            nn.ReLU(),\n",
        "            nn.MaxPool2d(kernel_size=2, stride=2),\n",
        "        )\n",
        "        self.features2 = nn.Sequential(\n",
        "            nn.Conv2d(128, 356, kernel_size=3, padding=1),\n",
        "            nn.ReLU(),\n",
        "            nn.MaxPool2d(kernel_size=2, stride=2),\n",
        "        )\n",
        "        self.features3 = nn.Sequential(\n",
        "            nn.Conv2d(356, 356, kernel_size=3, padding=1),\n",
        "            nn.ReLU(),\n",
        "            nn.MaxPool2d(kernel_size=4, stride=2),\n",
        "        )\n",
        "        self.classifier = nn.Sequential(\n",
        "            nn.Linear(3204, 512),\n",
        "            nn.ReLU(),\n",
        "            nn.Dropout(0.1),\n",
        "            nn.Linear(512, num_classes)\n",
        "        )\n",
        "\n",
        "    def forward(self, x):\n",
        "        x = self.features1(x)\n",
        "        conv_feature_map = x\n",
        "        x = self.features2(x)\n",
        "        x = self.features3(x)\n",
        "        conv_feature_map2 = x\n",
        "        x = torch.flatten(x, 1)\n",
        "        x = self.classifier(x)\n",
        "        return x, conv_feature_map, conv_feature_map2\n",
        "\n",
        "\n",
        "\n",
        "# Lightweight neural network class to be used as student, much deeper but thinner network:\n",
        "class LightNN(nn.Module):\n",
        "    def __init__(self, num_classes=10):\n",
        "        super(LightNN, self).__init__()\n",
        "        self.features = nn.Sequential(\n",
        "            nn.Conv2d(3, 16, kernel_size=3, padding=1),\n",
        "            nn.ReLU(),\n",
        "            nn.Conv2d(16, 16, kernel_size=3, padding=1),\n",
        "            nn.ReLU(),\n",
        "            nn.Conv2d(16, 16, kernel_size=3, padding=1),\n",
        "            nn.ReLU(),\n",
        "            nn.MaxPool2d(kernel_size=2, stride=2),\n",
        "            nn.Conv2d(16, 32, kernel_size=3, padding=1),\n",
        "            nn.ReLU(),\n",
        "            nn.Conv2d(32, 32, kernel_size=3, padding=1),\n",
        "            nn.ReLU(),\n",
        "            nn.Conv2d(32, 32, kernel_size=3, padding=1),\n",
        "            nn.ReLU(),\n",
        "            nn.MaxPool2d(kernel_size=2, stride=2),\n",
        "            nn.Conv2d(32, 48, kernel_size=3, padding=1),\n",
        "            nn.ReLU(),\n",
        "            nn.Conv2d(48, 48, kernel_size=3, padding=1),\n",
        "            nn.ReLU(),\n",
        "            nn.Conv2d(48, 48, kernel_size=3, padding=1),\n",
        "            nn.ReLU(),\n",
        "            nn.MaxPool2d(kernel_size=4, stride=2),\n",
        "        )\n",
        "        self.classifier = nn.Sequential(\n",
        "            nn.Linear(432, 128),\n",
        "            nn.ReLU(),\n",
        "            nn.Dropout(0.1),\n",
        "            nn.Linear(128, num_classes)\n",
        "        )\n",
        "\n",
        "    def forward(self, x):\n",
        "        x = self.features(x)\n",
        "        conv_feature_map = x\n",
        "        conv_feature_map2 = x\n",
        "        x = torch.flatten(x, 1)\n",
        "        x = self.classifier(x)\n",
        "        return x, conv_feature_map, conv_feature_map2"
      ]
    },
    {
      "cell_type": "code",
      "execution_count": 6,
      "metadata": {
        "colab": {
          "base_uri": "https://localhost:8080/"
        },
        "id": "7MAd3uGoaZay",
        "outputId": "21b3f0cc-cf28-4ab4-b58e-fd76fe55bb5a"
      },
      "outputs": [
        {
          "output_type": "stream",
          "name": "stdout",
          "text": [
            "torch.Size([128, 3, 32, 32])\n",
            "torch.Size([128, 3, 32, 32])\n"
          ]
        }
      ],
      "source": [
        "#checking shape of data\n",
        "for x, y in train_loader:\n",
        "    print(x.shape)\n",
        "    break\n",
        "\n",
        "#checking shape of data\n",
        "for x, y in test_loader:\n",
        "    print(x.shape)\n",
        "    break"
      ]
    },
    {
      "cell_type": "code",
      "execution_count": 9,
      "metadata": {
        "id": "ONtyoauMUXj-"
      },
      "outputs": [],
      "source": [
        "def train(model, train_loader, epochs, learning_rate, device, is_tuple):\n",
        "    criterion = nn.CrossEntropyLoss()\n",
        "    optimizer = optim.Adam(model.parameters(), lr=learning_rate)\n",
        "\n",
        "    model.train()\n",
        "\n",
        "    for epoch in range(epochs):\n",
        "        running_loss = 0.0\n",
        "        for inputs, labels in train_loader:\n",
        "            # inputs: A collection of batch_size images\n",
        "            # labels: A vector of dimensionality batch_size with integers denoting class of each image\n",
        "            inputs, labels = inputs.to(device), labels.to(device)\n",
        "\n",
        "            optimizer.zero_grad()\n",
        "            if is_tuple == True:\n",
        "              outputs, map, map1 = model(inputs)\n",
        "            if is_tuple == False:\n",
        "              outputs = model(inputs)\n",
        "\n",
        "            # outputs: Output of the network for the collection of images. A tensor of dimensionality batch_size x num_classes\n",
        "            # labels: The actual labels of the images. Vector of dimensionality batch_size\n",
        "            loss = criterion(outputs, labels)\n",
        "            loss.backward()\n",
        "            optimizer.step()\n",
        "\n",
        "            running_loss += loss.item()\n",
        "\n",
        "        print(f\"Epoch {epoch+1}/{epochs}, Loss: {running_loss / len(train_loader)}\")\n",
        "\n",
        "def test(model, test_loader, device, is_tuple):\n",
        "    model.to(device)\n",
        "    model.eval()\n",
        "\n",
        "    correct = 0\n",
        "    total = 0\n",
        "\n",
        "    with torch.no_grad():\n",
        "        for inputs, labels in test_loader:\n",
        "            inputs, labels = inputs.to(device), labels.to(device)\n",
        "\n",
        "            if is_tuple == True:\n",
        "              outputs, map, _ = model(inputs)\n",
        "            if is_tuple == False:\n",
        "              outputs = model(inputs)\n",
        "\n",
        "            #outputs = model(inputs)\n",
        "            _, predicted = torch.max(outputs.data, 1)\n",
        "\n",
        "            total += labels.size(0)\n",
        "            correct += (predicted == labels).sum().item()\n",
        "\n",
        "    accuracy = 100 * correct / total\n",
        "    print(f\"Test Accuracy: {accuracy:.2f}%\")\n",
        "    return accuracy"
      ]
    },
    {
      "cell_type": "markdown",
      "source": [
        "# Train Teacher Network"
      ],
      "metadata": {
        "id": "9z3H4Aie20Qx"
      }
    },
    {
      "cell_type": "code",
      "execution_count": 14,
      "metadata": {
        "colab": {
          "base_uri": "https://localhost:8080/"
        },
        "id": "jHe-UPD3UXj-",
        "outputId": "47fa1a35-671d-45bd-d428-47b87e56637f"
      },
      "outputs": [
        {
          "output_type": "stream",
          "name": "stdout",
          "text": [
            "Epoch 1/15, Loss: 1.4520263959989523\n",
            "Epoch 2/15, Loss: 0.9534348714382143\n",
            "Epoch 3/15, Loss: 0.7547467898987138\n",
            "Epoch 4/15, Loss: 0.6344018812527132\n",
            "Epoch 5/15, Loss: 0.5438377241344403\n",
            "Epoch 6/15, Loss: 0.4661091280257915\n",
            "Epoch 7/15, Loss: 0.40139796339032596\n",
            "Epoch 8/15, Loss: 0.3346936466443874\n",
            "Epoch 9/15, Loss: 0.2862583933888799\n",
            "Epoch 10/15, Loss: 0.24660988885652074\n",
            "Epoch 11/15, Loss: 0.21071514782622036\n",
            "Epoch 12/15, Loss: 0.17448605391223107\n",
            "Epoch 13/15, Loss: 0.16270225264532182\n",
            "Epoch 14/15, Loss: 0.13989289174489963\n",
            "Epoch 15/15, Loss: 0.12728366112846243\n"
          ]
        },
        {
          "output_type": "execute_result",
          "data": {
            "text/plain": [
              "<torch._C.Generator at 0x7a98101d7e30>"
            ]
          },
          "metadata": {},
          "execution_count": 14
        }
      ],
      "source": [
        "torch.manual_seed(42)\n",
        "nn_deep = DeepNN(num_classes=10).to(device)\n",
        "train(nn_deep, train_loader, epochs=15, learning_rate=0.001, device=device, is_tuple=True)\n",
        "\n",
        "# Instantiate the lightweight network:\n",
        "torch.manual_seed(42)"
      ]
    },
    {
      "cell_type": "code",
      "source": [
        "test_accuracy_deep = test(nn_deep, test_loader, device, is_tuple=True)"
      ],
      "metadata": {
        "colab": {
          "base_uri": "https://localhost:8080/"
        },
        "id": "Rr2BUUcJ8IeS",
        "outputId": "07c07ce7-e3e8-4ee3-8c45-4ed4cee99b6e"
      },
      "execution_count": 15,
      "outputs": [
        {
          "output_type": "stream",
          "name": "stdout",
          "text": [
            "Test Accuracy: 77.22%\n"
          ]
        }
      ]
    },
    {
      "cell_type": "markdown",
      "source": [
        "# Train Student Network"
      ],
      "metadata": {
        "id": "eksGUWG828ht"
      }
    },
    {
      "cell_type": "code",
      "execution_count": 16,
      "metadata": {
        "colab": {
          "base_uri": "https://localhost:8080/"
        },
        "id": "co3GY_DzUXj_",
        "outputId": "38b1858a-87f1-4e21-c84b-e2756608df93"
      },
      "outputs": [
        {
          "output_type": "stream",
          "name": "stdout",
          "text": [
            "DeepNN parameters: 3,201,122\n",
            "LightNN parameters: 140,378\n"
          ]
        }
      ],
      "source": [
        "nn_light = LightNN(num_classes=10).to(device)\n",
        "total_params_deep = \"{:,}\".format(sum(p.numel() for p in nn_deep.parameters()))\n",
        "print(f\"DeepNN parameters: {total_params_deep}\")\n",
        "total_params_light = \"{:,}\".format(sum(p.numel() for p in nn_light.parameters()))\n",
        "print(f\"LightNN parameters: {total_params_light}\")"
      ]
    },
    {
      "cell_type": "code",
      "execution_count": 17,
      "metadata": {
        "colab": {
          "base_uri": "https://localhost:8080/"
        },
        "id": "SFx5z8-23onD",
        "outputId": "d0ba8154-a860-4efd-f047-5e082fb87b7b"
      },
      "outputs": [
        {
          "output_type": "stream",
          "name": "stdout",
          "text": [
            "Epoch 1/15, Loss: 1.8485963030544388\n",
            "Epoch 2/15, Loss: 1.4587232517769269\n",
            "Epoch 3/15, Loss: 1.2620959483144227\n",
            "Epoch 4/15, Loss: 1.140239791187179\n",
            "Epoch 5/15, Loss: 1.0325023027332239\n",
            "Epoch 6/15, Loss: 0.9571028027083258\n",
            "Epoch 7/15, Loss: 0.8828101238936109\n",
            "Epoch 8/15, Loss: 0.8320294876232781\n",
            "Epoch 9/15, Loss: 0.7796697020530701\n",
            "Epoch 10/15, Loss: 0.7351299082988973\n",
            "Epoch 11/15, Loss: 0.697329757692259\n",
            "Epoch 12/15, Loss: 0.6668614166624406\n",
            "Epoch 13/15, Loss: 0.6359554065767762\n",
            "Epoch 14/15, Loss: 0.6117550333595032\n",
            "Epoch 15/15, Loss: 0.5793168609556945\n",
            "Test Accuracy: 72.32%\n"
          ]
        }
      ],
      "source": [
        "train(nn_light, train_loader, epochs=15, learning_rate=0.001, device=device, is_tuple=True)\n",
        "test_accuracy_light_ce = test(nn_light, test_loader, device, is_tuple=True)"
      ]
    },
    {
      "cell_type": "code",
      "execution_count": 22,
      "metadata": {
        "id": "himnu42LyBvL"
      },
      "outputs": [],
      "source": [
        "torch.manual_seed(42)\n",
        "new_nn_light = LightNN(num_classes=10).to(device)"
      ]
    },
    {
      "cell_type": "markdown",
      "source": [
        "# Train Student Network with Knowledge Distillation and Cross Entropy from Hinton et. al."
      ],
      "metadata": {
        "id": "2jmtz-_92_1w"
      }
    },
    {
      "cell_type": "code",
      "execution_count": 23,
      "metadata": {
        "colab": {
          "base_uri": "https://localhost:8080/",
          "height": 548
        },
        "id": "o-qlFc3xUXkA",
        "outputId": "85cb2bca-8a30-440e-9e28-e6191b2f11aa"
      },
      "outputs": [
        {
          "output_type": "stream",
          "name": "stdout",
          "text": [
            "Epoch 1/15, Loss: 3.3155798631555893\n",
            "Epoch 2/15, Loss: 2.658221813723864\n",
            "Epoch 3/15, Loss: 2.303970820763532\n",
            "Epoch 4/15, Loss: 2.04968343915232\n",
            "Epoch 5/15, Loss: 1.856287304092856\n",
            "Epoch 6/15, Loss: 1.728067234349068\n",
            "Epoch 7/15, Loss: 1.6185380202120223\n",
            "Epoch 8/15, Loss: 1.527414279215781\n",
            "Epoch 9/15, Loss: 1.4510936541935366\n",
            "Epoch 10/15, Loss: 1.3917772651023572\n",
            "Epoch 11/15, Loss: 1.3282699612400415\n",
            "Epoch 12/15, Loss: 1.2720586558437104\n",
            "Epoch 13/15, Loss: 1.2197882305935521\n",
            "Epoch 14/15, Loss: 1.186876413157529\n",
            "Epoch 15/15, Loss: 1.1392659639458522\n"
          ]
        },
        {
          "output_type": "error",
          "ename": "NameError",
          "evalue": "ignored",
          "traceback": [
            "\u001b[0;31m---------------------------------------------------------------------------\u001b[0m",
            "\u001b[0;31mNameError\u001b[0m                                 Traceback (most recent call last)",
            "\u001b[0;32m<ipython-input-23-153894e0d72a>\u001b[0m in \u001b[0;36m<cell line: 44>\u001b[0;34m()\u001b[0m\n\u001b[1;32m     42\u001b[0m \u001b[0;31m# Apply ``train_knowledge_distillation`` with a temperature of 2. Arbitrarily set the weights to 0.75 for CE and 0.25 for distillation loss.\u001b[0m\u001b[0;34m\u001b[0m\u001b[0;34m\u001b[0m\u001b[0m\n\u001b[1;32m     43\u001b[0m \u001b[0mtrain_knowledge_distillation\u001b[0m\u001b[0;34m(\u001b[0m\u001b[0mteacher\u001b[0m\u001b[0;34m=\u001b[0m\u001b[0mnn_deep\u001b[0m\u001b[0;34m,\u001b[0m \u001b[0mstudent\u001b[0m\u001b[0;34m=\u001b[0m\u001b[0mnew_nn_light\u001b[0m\u001b[0;34m,\u001b[0m \u001b[0mtrain_loader\u001b[0m\u001b[0;34m=\u001b[0m\u001b[0mtrain_loader\u001b[0m\u001b[0;34m,\u001b[0m \u001b[0mepochs\u001b[0m\u001b[0;34m=\u001b[0m\u001b[0;36m15\u001b[0m\u001b[0;34m,\u001b[0m \u001b[0mlearning_rate\u001b[0m\u001b[0;34m=\u001b[0m\u001b[0;36m0.001\u001b[0m\u001b[0;34m,\u001b[0m \u001b[0mT\u001b[0m\u001b[0;34m=\u001b[0m\u001b[0;36m2\u001b[0m\u001b[0;34m,\u001b[0m \u001b[0msoft_target_loss_weight\u001b[0m\u001b[0;34m=\u001b[0m\u001b[0;36m0.25\u001b[0m\u001b[0;34m,\u001b[0m \u001b[0mce_loss_weight\u001b[0m\u001b[0;34m=\u001b[0m\u001b[0;36m0.75\u001b[0m\u001b[0;34m,\u001b[0m \u001b[0mdevice\u001b[0m\u001b[0;34m=\u001b[0m\u001b[0mdevice\u001b[0m\u001b[0;34m)\u001b[0m\u001b[0;34m\u001b[0m\u001b[0;34m\u001b[0m\u001b[0m\n\u001b[0;32m---> 44\u001b[0;31m \u001b[0mtest_accuracy_light_ce_and_kd\u001b[0m \u001b[0;34m=\u001b[0m \u001b[0mtest\u001b[0m\u001b[0;34m(\u001b[0m\u001b[0mnew_nn_light\u001b[0m\u001b[0;34m,\u001b[0m \u001b[0mtest_loader\u001b[0m\u001b[0;34m,\u001b[0m \u001b[0mdevice\u001b[0m\u001b[0;34m,\u001b[0m \u001b[0mis_tuple\u001b[0m\u001b[0;34m=\u001b[0m\u001b[0mtrue\u001b[0m\u001b[0;34m)\u001b[0m\u001b[0;34m\u001b[0m\u001b[0;34m\u001b[0m\u001b[0m\n\u001b[0m\u001b[1;32m     45\u001b[0m \u001b[0;34m\u001b[0m\u001b[0m\n\u001b[1;32m     46\u001b[0m \u001b[0;31m# Compare the student test accuracy with and without the teacher, after distillation\u001b[0m\u001b[0;34m\u001b[0m\u001b[0;34m\u001b[0m\u001b[0m\n",
            "\u001b[0;31mNameError\u001b[0m: name 'true' is not defined"
          ]
        }
      ],
      "source": [
        "def train_knowledge_distillation(teacher, student, train_loader, epochs, learning_rate, T, soft_target_loss_weight, ce_loss_weight, device):\n",
        "    ce_loss = nn.CrossEntropyLoss()\n",
        "    optimizer = optim.Adam(student.parameters(), lr=learning_rate)\n",
        "\n",
        "    teacher.eval()  # Teacher set to evaluation mode\n",
        "    student.train() # Student to train mode\n",
        "\n",
        "    for epoch in range(epochs):\n",
        "        running_loss = 0.0\n",
        "        for inputs, labels in train_loader:\n",
        "            inputs, labels = inputs.to(device), labels.to(device)\n",
        "\n",
        "            optimizer.zero_grad()\n",
        "\n",
        "            # Forward pass with the teacher model - do not save gradients here as we do not change the teacher's weights\n",
        "            with torch.no_grad():\n",
        "                teacher_logits, _, _ = teacher(inputs)\n",
        "\n",
        "            # Forward pass with the student model\n",
        "            student_logits, _, _ = student(inputs)\n",
        "\n",
        "            #Soften the student logits by applying softmax first and log() second\n",
        "            soft_targets = nn.functional.softmax(teacher_logits / T, dim=-1)\n",
        "            soft_prob = nn.functional.log_softmax(student_logits / T, dim=-1)\n",
        "\n",
        "            # Calculate the soft targets loss. Scaled by T**2 as suggested by the authors of the paper \"Distilling the knowledge in a neural network\"\n",
        "            soft_targets_loss = -torch.sum(soft_targets * soft_prob) / soft_prob.size()[0] * (T**2)\n",
        "\n",
        "            # Calculate the true label loss\n",
        "            label_loss = ce_loss(student_logits, labels)\n",
        "\n",
        "            # Weighted sum of the two losses\n",
        "            loss = soft_target_loss_weight * soft_targets_loss + ce_loss_weight * label_loss\n",
        "\n",
        "            loss.backward()\n",
        "            optimizer.step()\n",
        "\n",
        "            running_loss += loss.item()\n",
        "\n",
        "        print(f\"Epoch {epoch+1}/{epochs}, Loss: {running_loss / len(train_loader)}\")\n",
        "\n",
        "# Apply ``train_knowledge_distillation`` with a temperature of 2. Arbitrarily set the weights to 0.75 for CE and 0.25 for distillation loss.\n",
        "train_knowledge_distillation(teacher=nn_deep, student=new_nn_light, train_loader=train_loader, epochs=15, learning_rate=0.001, T=2, soft_target_loss_weight=0.25, ce_loss_weight=0.75, device=device)"
      ]
    },
    {
      "cell_type": "code",
      "source": [
        "test_accuracy_light_ce_and_kd = test(new_nn_light, test_loader, device, is_tuple=True)\n",
        "\n",
        "# Compare the student test accuracy with and without the teacher, after distillation\n",
        "print(f\"Teacher accuracy: {test_accuracy_deep:.2f}%\")\n",
        "print(f\"Student accuracy without teacher: {test_accuracy_light_ce:.2f}%\")\n",
        "print(f\"Student accuracy with CE + KD: {test_accuracy_light_ce_and_kd:.2f}%\")"
      ],
      "metadata": {
        "colab": {
          "base_uri": "https://localhost:8080/"
        },
        "id": "dvFgrow7Bris",
        "outputId": "a050cbec-4530-430c-e33a-fe7f45c49bb9"
      },
      "execution_count": 24,
      "outputs": [
        {
          "output_type": "stream",
          "name": "stdout",
          "text": [
            "Test Accuracy: 74.85%\n",
            "Teacher accuracy: 77.22%\n",
            "Student accuracy without teacher: 72.32%\n",
            "Student accuracy with CE + KD: 74.85%\n"
          ]
        }
      ]
    },
    {
      "cell_type": "code",
      "execution_count": 25,
      "metadata": {
        "id": "47xuD42KLnV5"
      },
      "outputs": [],
      "source": [
        "sample_input = torch.randn(128, 3, 32, 32).to(device)"
      ]
    },
    {
      "cell_type": "code",
      "execution_count": 26,
      "metadata": {
        "colab": {
          "base_uri": "https://localhost:8080/"
        },
        "id": "leDhmDLoMgpA",
        "outputId": "4c074e2b-044e-4a68-a8b2-2bc783634138"
      },
      "outputs": [
        {
          "output_type": "stream",
          "name": "stdout",
          "text": [
            "Student's feature extractor output shape:  torch.Size([128, 48, 3, 3])\n",
            "Teacher's feature extractor output shape:  torch.Size([128, 128, 16, 16])\n"
          ]
        }
      ],
      "source": [
        "convolutional_fe_output_student = nn_light.features(sample_input)\n",
        "convolutional_fe_output_teacher = nn_deep.features1(sample_input)\n",
        "# Print their shapes\n",
        "print(\"Student's feature extractor output shape: \", convolutional_fe_output_student.shape)\n",
        "print(\"Teacher's feature extractor output shape: \", convolutional_fe_output_teacher.shape)"
      ]
    },
    {
      "cell_type": "markdown",
      "source": [
        "# Modified Networks: Teacher stays the same. Student requires convolutional regressor on top of the Guided Layer. This increases the number of parameters to over 294,000 parameters."
      ],
      "metadata": {
        "id": "kBxRMQ7xU8kU"
      }
    },
    {
      "cell_type": "code",
      "execution_count": 27,
      "metadata": {
        "id": "i3nziVFLUXkD"
      },
      "outputs": [],
      "source": [
        "class ModifiedLightNNRegressor(nn.Module):\n",
        "    def __init__(self, num_classes=10):\n",
        "        super(ModifiedLightNNRegressor, self).__init__()\n",
        "        self.features1 = nn.Sequential(\n",
        "            nn.Conv2d(3, 16, kernel_size=3, padding=1),\n",
        "            nn.ReLU(),\n",
        "            nn.Conv2d(16, 16, kernel_size=3, padding=1),\n",
        "            nn.ReLU(),\n",
        "            nn.Conv2d(16, 16, kernel_size=3, padding=1),\n",
        "            nn.ReLU(),\n",
        "            nn.MaxPool2d(kernel_size=2, stride=2),\n",
        "        )\n",
        "\n",
        "        self.features2 = nn.Sequential(\n",
        "            nn.Conv2d(16, 32, kernel_size=3, padding=1),\n",
        "            nn.ReLU(),\n",
        "            nn.Conv2d(32, 32, kernel_size=3, padding=1),\n",
        "            nn.ReLU(),\n",
        "            nn.Conv2d(32, 32, kernel_size=3, padding=1),\n",
        "            nn.ReLU(),\n",
        "            nn.MaxPool2d(kernel_size=2, stride=2),\n",
        "        )\n",
        "        self.features3= nn.Sequential(\n",
        "            nn.Conv2d(32, 48, kernel_size=3, padding=1),\n",
        "            nn.ReLU(),\n",
        "            nn.Conv2d(48, 48, kernel_size=3, padding=1),\n",
        "            nn.ReLU(),\n",
        "            nn.Conv2d(48, 48, kernel_size=3, padding=1),\n",
        "            nn.ReLU(),\n",
        "            nn.MaxPool2d(kernel_size=4, stride=2),\n",
        "        )\n",
        "\n",
        "        self.regressor = nn.Sequential(\n",
        "            nn.Conv2d(16, 128, kernel_size=3, padding=1)\n",
        "        )\n",
        "\n",
        "        self.regressor1 = nn.Sequential(\n",
        "            nn.Conv2d(32, 356, kernel_size=3, padding=1)\n",
        "        )\n",
        "\n",
        "        self.classifier = nn.Sequential(\n",
        "            nn.Linear(432, 128),\n",
        "            nn.ReLU(),\n",
        "            nn.Dropout(0.1),\n",
        "            nn.Linear(128, num_classes)\n",
        "        )\n",
        "\n",
        "    def forward(self, x):\n",
        "        x = self.features1(x)\n",
        "        regressor_output = self.regressor(x)\n",
        "        x = self.features2(x)\n",
        "        regressor_output1 = self.regressor1(x)\n",
        "        x = self.features3(x)\n",
        "        x = torch.flatten(x, 1)\n",
        "        x = self.classifier(x)\n",
        "        return x, regressor_output, regressor_output1\n",
        "\n",
        "\n",
        "\n",
        "class ModifiedLightNNRegressor2(nn.Module):\n",
        "    def __init__(self, num_classes=10):\n",
        "        super(ModifiedLightNNRegressor2, self).__init__()\n",
        "        self.features1 = nn.Sequential(\n",
        "            nn.Conv2d(3, 16, kernel_size=3, padding=1),\n",
        "            nn.ReLU(),\n",
        "            nn.Conv2d(16, 16, kernel_size=3, padding=1),\n",
        "            nn.ReLU(),\n",
        "            nn.Conv2d(16, 16, kernel_size=3, padding=1),\n",
        "            nn.ReLU(),\n",
        "            nn.MaxPool2d(kernel_size=2, stride=2),\n",
        "        )\n",
        "\n",
        "        self.features2 = nn.Sequential(\n",
        "            nn.Conv2d(16, 32, kernel_size=3, padding=1),\n",
        "            nn.ReLU(),\n",
        "            nn.Conv2d(32, 32, kernel_size=3, padding=1),\n",
        "            nn.ReLU(),\n",
        "            nn.Conv2d(32, 32, kernel_size=3, padding=1),\n",
        "            nn.ReLU(),\n",
        "            nn.MaxPool2d(kernel_size=2, stride=2),\n",
        "        )\n",
        "        self.features3= nn.Sequential(\n",
        "            nn.Conv2d(32, 48, kernel_size=3, padding=1),\n",
        "            nn.ReLU(),\n",
        "            nn.Conv2d(48, 48, kernel_size=3, padding=1),\n",
        "            nn.ReLU(),\n",
        "            nn.Conv2d(48, 48, kernel_size=3, padding=1),\n",
        "            nn.ReLU(),\n",
        "            nn.MaxPool2d(kernel_size=4, stride=2),\n",
        "        )\n",
        "\n",
        "        self.regressor = nn.Sequential(\n",
        "            nn.Conv2d(32, 356, kernel_size=3, padding=1)\n",
        "        )\n",
        "\n",
        "        self.regressor1 = nn.Sequential(\n",
        "            nn.Conv2d(48, 356, kernel_size=3, padding=1)\n",
        "        )\n",
        "\n",
        "        self.classifier = nn.Sequential(\n",
        "            nn.Linear(432, 128),\n",
        "            nn.ReLU(),\n",
        "            nn.Dropout(0.1),\n",
        "            nn.Linear(128, num_classes)\n",
        "        )\n",
        "\n",
        "    def forward(self, x):\n",
        "        x = self.features1(x)\n",
        "        x = self.features2(x)\n",
        "        regressor_output = self.regressor(x)\n",
        "        x = self.features3(x)\n",
        "        regressor_output1 = self.regressor1(x)\n",
        "        x = torch.flatten(x, 1)\n",
        "        x = self.classifier(x)\n",
        "        return x, regressor_output, regressor_output1\n",
        "\n",
        "\n",
        "\n",
        "\n",
        "class ModifiedLightNNRegressor3(nn.Module):\n",
        "    def __init__(self, num_classes=10):\n",
        "        super(ModifiedLightNNRegressor3, self).__init__()\n",
        "        self.features1 = nn.Sequential(\n",
        "            nn.Conv2d(3, 16, kernel_size=3, padding=1),\n",
        "            nn.ReLU(),\n",
        "            nn.Conv2d(16, 16, kernel_size=3, padding=1),\n",
        "            nn.ReLU(),\n",
        "            nn.Conv2d(16, 16, kernel_size=3, padding=1),\n",
        "            nn.ReLU(),\n",
        "            nn.MaxPool2d(kernel_size=2, stride=2),\n",
        "        )\n",
        "\n",
        "        self.features2 = nn.Sequential(\n",
        "            nn.Conv2d(16, 32, kernel_size=3, padding=1),\n",
        "            nn.ReLU(),\n",
        "            nn.Conv2d(32, 32, kernel_size=3, padding=1),\n",
        "            nn.ReLU(),\n",
        "            nn.Conv2d(32, 32, kernel_size=3, padding=1),\n",
        "            nn.ReLU(),\n",
        "            nn.MaxPool2d(kernel_size=2, stride=2),\n",
        "        )\n",
        "        self.features3= nn.Sequential(\n",
        "            nn.Conv2d(32, 48, kernel_size=3, padding=1),\n",
        "            nn.ReLU(),\n",
        "            nn.Conv2d(48, 48, kernel_size=3, padding=1),\n",
        "            nn.ReLU(),\n",
        "            nn.Conv2d(48, 48, kernel_size=3, padding=1),\n",
        "            nn.ReLU(),\n",
        "            nn.MaxPool2d(kernel_size=4, stride=2),\n",
        "        )\n",
        "\n",
        "        self.regressor = nn.Sequential(\n",
        "            nn.Conv2d(16, 128, kernel_size=3, padding=1)\n",
        "        )\n",
        "\n",
        "        self.regressor1 = nn.Sequential(\n",
        "            nn.Conv2d(48, 356, kernel_size=3, padding=1)\n",
        "        )\n",
        "\n",
        "        self.classifier = nn.Sequential(\n",
        "            nn.Linear(432, 128),\n",
        "            nn.ReLU(),\n",
        "            nn.Dropout(0.1),\n",
        "            nn.Linear(128, num_classes)\n",
        "        )\n",
        "\n",
        "    def forward(self, x):\n",
        "        x = self.features1(x)\n",
        "        regressor_output = self.regressor(x)\n",
        "        x = self.features2(x)\n",
        "        x = self.features3(x)\n",
        "        regressor_output1 = self.regressor1(x)\n",
        "        x = torch.flatten(x, 1)\n",
        "        x = self.classifier(x)\n",
        "        return x, regressor_output, regressor_output1"
      ]
    },
    {
      "cell_type": "code",
      "execution_count": 28,
      "metadata": {
        "colab": {
          "base_uri": "https://localhost:8080/"
        },
        "id": "HwleECOhR4f2",
        "outputId": "67963d15-1ecc-414b-8c4b-90cac38964a8"
      },
      "outputs": [
        {
          "output_type": "stream",
          "name": "stdout",
          "text": [
            "Student's feature extractor output shape:  torch.Size([128, 16, 16, 16])\n",
            "Teacher's feature extractor output shape:  torch.Size([128, 128, 16, 16])\n"
          ]
        }
      ],
      "source": [
        "mod_nn_light = ModifiedLightNNRegressor(num_classes=10).to(device)\n",
        "convolutional_fe_output_student = mod_nn_light.features1(sample_input)\n",
        "convolutional_fe_output_teacher = nn_deep.features1(sample_input)\n",
        "# Print their shapes\n",
        "print(\"Student's feature extractor output shape: \", convolutional_fe_output_student.shape)\n",
        "print(\"Teacher's feature extractor output shape: \", convolutional_fe_output_teacher.shape)"
      ]
    },
    {
      "cell_type": "code",
      "execution_count": 29,
      "metadata": {
        "colab": {
          "base_uri": "https://localhost:8080/"
        },
        "id": "TozGrH4wmh8Y",
        "outputId": "372f1237-89bb-40af-c95d-ea3d86c43bf9"
      },
      "outputs": [
        {
          "output_type": "stream",
          "name": "stdout",
          "text": [
            "DeepNN parameters: 3,201,122\n",
            "LightNN parameters: 261,822\n"
          ]
        }
      ],
      "source": [
        "total_params_deep = \"{:,}\".format(sum(p.numel() for p in nn_deep.parameters()))\n",
        "print(f\"DeepNN parameters: {total_params_deep}\")\n",
        "total_params_light = \"{:,}\".format(sum(p.numel() for p in mod_nn_light.parameters()))\n",
        "print(f\"LightNN parameters: {total_params_light}\")"
      ]
    },
    {
      "cell_type": "code",
      "execution_count": 36,
      "metadata": {
        "id": "LC9GhxKx4PL_"
      },
      "outputs": [],
      "source": [
        "def test_multiple_outputs(model, test_loader, device):\n",
        "    model.to(device)\n",
        "    model.eval()\n",
        "\n",
        "    correct = 0\n",
        "    total = 0\n",
        "\n",
        "    with torch.no_grad():\n",
        "        for inputs, labels in test_loader:\n",
        "            inputs, labels = inputs.to(device), labels.to(device)\n",
        "\n",
        "            outputs, _, _ = model(inputs) # Disregard the second tensor of the tuple\n",
        "            _, predicted = torch.max(outputs.data, 1)\n",
        "\n",
        "            total += labels.size(0)\n",
        "            correct += (predicted == labels).sum().item()\n",
        "\n",
        "    accuracy = 100 * correct / total\n",
        "    print(f\"Test Accuracy: {accuracy:.2f}%\")\n",
        "    return accuracy"
      ]
    },
    {
      "cell_type": "code",
      "execution_count": null,
      "metadata": {
        "id": "s-EwlFwl9saJ"
      },
      "outputs": [],
      "source": [
        "import torch.nn as nn\n",
        "import torch\n",
        "\n",
        "class CustomLoss(nn.Module):\n",
        "    def __init__(self):\n",
        "        super(CustomLoss, self).__init__()\n",
        "\n",
        "    def forward(self, inputs, targets):\n",
        "        loss = (torch.norm(inputs - targets)**2)*0.5\n",
        "        #loss = -1 * (targets * torch.log(inputs) + (1 - targets) * torch.log(1 - inputs))\n",
        "        return loss.mean()"
      ]
    },
    {
      "cell_type": "markdown",
      "source": [
        "# Start 2-Stage Training:\n",
        "1. MSE Loss between Hint and Guided Layers minimized for 10 epochs.\n",
        "2. Knowledge distillation run where CE loss in combination with KD loss function are weighted and minimized.  "
      ],
      "metadata": {
        "id": "slomhKXfVhTu"
      }
    },
    {
      "cell_type": "code",
      "execution_count": 31,
      "metadata": {
        "colab": {
          "base_uri": "https://localhost:8080/"
        },
        "id": "et5g4-fz3k24",
        "outputId": "14ad6bcc-a9d4-498a-fecb-63ecf9431105"
      },
      "outputs": [
        {
          "output_type": "stream",
          "name": "stdout",
          "text": [
            "Epoch 1/10, Loss: 1.4984829212393602\n",
            "Epoch 2/10, Loss: 1.249401466468411\n",
            "Epoch 3/10, Loss: 1.1174374798984479\n",
            "Epoch 4/10, Loss: 1.0247597636469186\n",
            "Epoch 5/10, Loss: 0.955969703471874\n",
            "Epoch 6/10, Loss: 0.8872274105506175\n",
            "Epoch 7/10, Loss: 0.8298273592653787\n",
            "Epoch 8/10, Loss: 0.7902315162941623\n",
            "Epoch 9/10, Loss: 0.7494779393800994\n",
            "Epoch 10/10, Loss: 0.7178159351544002\n",
            "Epoch 1/10, Loss: 1.5687385715182176\n",
            "Epoch 2/10, Loss: 1.3227761654597718\n",
            "Epoch 3/10, Loss: 1.1910338270694703\n",
            "Epoch 4/10, Loss: 1.0946518448002809\n",
            "Epoch 5/10, Loss: 1.0182523457595454\n",
            "Epoch 6/10, Loss: 0.961217195329154\n",
            "Epoch 7/10, Loss: 0.9122144968613334\n",
            "Epoch 8/10, Loss: 0.8700367410469543\n",
            "Epoch 9/10, Loss: 0.831103858892875\n",
            "Epoch 10/10, Loss: 0.7895143320188498\n",
            "Epoch 1/10, Loss: 1.5489999019276455\n",
            "Epoch 2/10, Loss: 1.268882025233315\n",
            "Epoch 3/10, Loss: 1.137671595034392\n",
            "Epoch 4/10, Loss: 1.0455766849200745\n",
            "Epoch 5/10, Loss: 0.9690823065655311\n",
            "Epoch 6/10, Loss: 0.9038617126167278\n",
            "Epoch 7/10, Loss: 0.8537990528604259\n",
            "Epoch 8/10, Loss: 0.8140572585413218\n",
            "Epoch 9/10, Loss: 0.7832234466777128\n",
            "Epoch 10/10, Loss: 0.7557255000714451\n"
          ]
        }
      ],
      "source": [
        "def train_mse_loss(teacher, student, train_loader, epochs, learning_rate, feature_map_weight, ce_loss_weight, device):\n",
        "    ce_loss = nn.CrossEntropyLoss()\n",
        "    #mse_loss = CustomLoss()\n",
        "    mse_loss = nn.MSELoss()\n",
        "    optimizer = optim.Adam(student.parameters(), lr=learning_rate)\n",
        "\n",
        "    teacher.to(device)\n",
        "    student.to(device)\n",
        "    teacher.eval()  # Teacher set to evaluation mode\n",
        "    student.train() # Student to train mode\n",
        "\n",
        "    for epoch in range(epochs):\n",
        "        running_loss = 0.0\n",
        "        for inputs, labels in train_loader:\n",
        "            inputs, labels = inputs.to(device), labels.to(device)\n",
        "\n",
        "            optimizer.zero_grad()\n",
        "\n",
        "            # Again ignore teacher logits\n",
        "            with torch.no_grad():\n",
        "                _, teacher_feature_map, teacher_feature_map1 = teacher(inputs)\n",
        "\n",
        "            # Forward pass with the student model\n",
        "            student_logits, regressor_feature_map, regressor_feature_map1 = student(inputs)\n",
        "\n",
        "            # Calculate the loss\n",
        "            hidden_rep_loss = mse_loss(regressor_feature_map, teacher_feature_map)\n",
        "            hidden_rep_loss1 = mse_loss(regressor_feature_map1, teacher_feature_map1)\n",
        "\n",
        "            # Calculate the true label loss\n",
        "            label_loss = ce_loss(student_logits, labels)\n",
        "\n",
        "            # Only minimize mse loss of teacher and regressor feature maps\n",
        "            loss = (feature_map_weight*.5) * hidden_rep_loss + (feature_map_weight*.5) * hidden_rep_loss1 + ce_loss_weight * label_loss\n",
        "\n",
        "            loss.backward()\n",
        "            optimizer.step()\n",
        "\n",
        "            running_loss += loss.item()\n",
        "\n",
        "        print(f\"Epoch {epoch+1}/{epochs}, Loss: {running_loss / len(train_loader)}\")\n",
        "\n",
        "# Notice how our test function remains the same here with the one we used in our previous case. We only care about the actual outputs because we measure accuracy.\n",
        "\n",
        "# Initialize a ModifiedLightNNRegressor\n",
        "torch.manual_seed(42)\n",
        "modified_nn_light_reg = ModifiedLightNNRegressor(num_classes=10).to(device)\n",
        "modified_nn_light_reg2 = ModifiedLightNNRegressor2(num_classes=10).to(device)\n",
        "modified_nn_light_reg3 = ModifiedLightNNRegressor3(num_classes=10).to(device)\n",
        "\n",
        "# We do not have to train the modified deep network from scratch of course, we just load its weights from the trained instance\n",
        "modified_nn_deep_reg = DeepNN(num_classes=10).to(device)\n",
        "modified_nn_deep_reg.load_state_dict(nn_deep.state_dict())\n",
        "modified_nn_deep_reg2 = DeepNN2(num_classes=10).to(device)\n",
        "modified_nn_deep_reg2.load_state_dict(nn_deep.state_dict())\n",
        "modified_nn_deep_reg3 = DeepNN3(num_classes=10).to(device)\n",
        "modified_nn_deep_reg3.load_state_dict(nn_deep.state_dict())\n",
        "\n",
        "\n",
        "\n",
        "#train(modified_nn_deep_reg, train_loader, epochs=10, learning_rate=0.001, device=device)\n",
        "#test_accuracy_deep = test(modified_nn_deep_reg, test_loader, device)\n",
        "\n",
        "\n",
        "#Freeze params after convolutional layers, train up until classifier\n",
        "for param in modified_nn_light_reg.classifier.parameters():\n",
        "  param.requires_grad = False\n",
        "for param in modified_nn_light_reg2.classifier.parameters():\n",
        "  param.requires_grad = False\n",
        "for param in modified_nn_light_reg3.classifier.parameters():\n",
        "  param.requires_grad = False\n",
        "\n",
        "# Train and test once again\n",
        "train_mse_loss(teacher=modified_nn_deep_reg, student=modified_nn_light_reg, train_loader=train_loader, epochs=10, learning_rate=0.001, feature_map_weight=0.25, ce_loss_weight=0.75, device=device)\n",
        "train_mse_loss(teacher=modified_nn_deep_reg2, student=modified_nn_light_reg2, train_loader=train_loader, epochs=10, learning_rate=0.001, feature_map_weight=0.25, ce_loss_weight=0.75, device=device)\n",
        "train_mse_loss(teacher=modified_nn_deep_reg3, student=modified_nn_light_reg3, train_loader=train_loader, epochs=10, learning_rate=0.001, feature_map_weight=0.25, ce_loss_weight=0.75, device=device)"
      ]
    },
    {
      "cell_type": "code",
      "source": [
        "#unfreeze parameters and train finally with knowledge distillation for stage 2\n",
        "\n",
        "for param in modified_nn_light_reg.classifier.parameters():\n",
        "  param.requires_grad = True\n",
        "for param in modified_nn_light_reg2.classifier.parameters():\n",
        "  param.requires_grad = True\n",
        "for param in modified_nn_light_reg3.classifier.parameters():\n",
        "  param.requires_grad = True\n",
        "\n",
        "def train_knowledge_distillation1(teacher, student, train_loader, epochs, learning_rate, T, soft_target_loss_weight, ce_loss_weight, device):\n",
        "    ce_loss = nn.CrossEntropyLoss()\n",
        "    optimizer = optim.Adam(student.parameters(), lr=learning_rate)\n",
        "\n",
        "    teacher.eval()  # Teacher set to evaluation mode\n",
        "    student.train() # Student to train mode\n",
        "\n",
        "    for epoch in range(epochs):\n",
        "        running_loss = 0.0\n",
        "        for inputs, labels in train_loader:\n",
        "            inputs, labels = inputs.to(device), labels.to(device)\n",
        "\n",
        "            optimizer.zero_grad()\n",
        "\n",
        "            # Forward pass with the teacher model - do not save gradients here as we do not change the teacher's weights\n",
        "            with torch.no_grad():\n",
        "                teacher_logits, _, _ = teacher(inputs)\n",
        "\n",
        "            # Forward pass with the student model\n",
        "            student_logits, _, _  = student(inputs)\n",
        "\n",
        "            #Soften the student logits by applying softmax first and log() second\n",
        "            soft_targets = nn.functional.softmax(teacher_logits / T, dim=-1)\n",
        "            soft_prob = nn.functional.log_softmax(student_logits / T, dim=-1)\n",
        "\n",
        "            # Calculate the soft targets loss. Scaled by T**2 as suggested by the authors of the paper \"Distilling the knowledge in a neural network\"\n",
        "            soft_targets_loss = -torch.sum(soft_targets * soft_prob) / soft_prob.size()[0] * (T**2)\n",
        "\n",
        "            # Calculate the true label loss\n",
        "            label_loss = ce_loss(student_logits, labels)\n",
        "\n",
        "            # Weighted sum of the two losses\n",
        "            loss = soft_target_loss_weight * soft_targets_loss + ce_loss_weight * label_loss\n",
        "\n",
        "            loss.backward()\n",
        "            optimizer.step()\n",
        "\n",
        "            running_loss += loss.item()\n",
        "\n",
        "        print(f\"Epoch {epoch+1}/{epochs}, Loss: {running_loss / len(train_loader)}\")\n",
        "\n"
      ],
      "metadata": {
        "id": "m_IedJq24ZMP"
      },
      "execution_count": 34,
      "outputs": []
    },
    {
      "cell_type": "code",
      "source": [
        "train_knowledge_distillation1(teacher=modified_nn_deep_reg, student=modified_nn_light_reg, train_loader=train_loader, epochs=10, learning_rate=0.001, T=2, soft_target_loss_weight=0.25, ce_loss_weight=0.75, device=device)\n",
        "train_knowledge_distillation1(teacher=modified_nn_deep_reg2, student=modified_nn_light_reg2, train_loader=train_loader, epochs=10, learning_rate=0.001, T=2, soft_target_loss_weight=0.25, ce_loss_weight=0.75, device=device)\n",
        "train_knowledge_distillation1(teacher=modified_nn_deep_reg3, student=modified_nn_light_reg3, train_loader=train_loader, epochs=10, learning_rate=0.001, T=2, soft_target_loss_weight=0.25, ce_loss_weight=0.75, device=device)"
      ],
      "metadata": {
        "colab": {
          "base_uri": "https://localhost:8080/",
          "height": 989
        },
        "id": "L9s7cZC52NW8",
        "outputId": "d573a1a6-263d-4d2d-fe55-707c0cac65e6"
      },
      "execution_count": 35,
      "outputs": [
        {
          "output_type": "stream",
          "name": "stdout",
          "text": [
            "Epoch 1/10, Loss: 1.7286391529585698\n",
            "Epoch 2/10, Loss: 1.5791609884832827\n",
            "Epoch 3/10, Loss: 1.4970128106339204\n",
            "Epoch 4/10, Loss: 1.4377644885226588\n",
            "Epoch 5/10, Loss: 1.3722594235559253\n",
            "Epoch 6/10, Loss: 1.3299927423372293\n",
            "Epoch 7/10, Loss: 1.2806868484562925\n",
            "Epoch 8/10, Loss: 1.2346410397678385\n",
            "Epoch 9/10, Loss: 1.2128590767645775\n",
            "Epoch 10/10, Loss: 1.1707141903965064\n",
            "Epoch 1/10, Loss: 1.757028256840718\n",
            "Epoch 2/10, Loss: 1.6169207227199585\n",
            "Epoch 3/10, Loss: 1.5284026120324878\n",
            "Epoch 4/10, Loss: 1.4749924974978124\n",
            "Epoch 5/10, Loss: 1.404397677277665\n",
            "Epoch 6/10, Loss: 1.3571709455431575\n",
            "Epoch 7/10, Loss: 1.3039591742293608\n",
            "Epoch 8/10, Loss: 1.2618243357409602\n",
            "Epoch 9/10, Loss: 1.2214463194617835\n",
            "Epoch 10/10, Loss: 1.1825790301613186\n",
            "Epoch 1/10, Loss: 1.7280333490322923\n",
            "Epoch 2/10, Loss: 1.5871878648962816\n",
            "Epoch 3/10, Loss: 1.5129780281535194\n",
            "Epoch 4/10, Loss: 1.4528244907593788\n",
            "Epoch 5/10, Loss: 1.4099713743800093\n",
            "Epoch 6/10, Loss: 1.3571288241144945\n",
            "Epoch 7/10, Loss: 1.3109316275552716\n",
            "Epoch 8/10, Loss: 1.2631115623752174\n",
            "Epoch 9/10, Loss: 1.2353026676360908\n",
            "Epoch 10/10, Loss: 1.1945269295321705\n",
            "Teacher Accuracy:\n",
            "Test Accuracy: 77.22%\n",
            "Final Student Accuracy (Hint = 1,2):\n"
          ]
        },
        {
          "output_type": "error",
          "ename": "ValueError",
          "evalue": "ignored",
          "traceback": [
            "\u001b[0;31m---------------------------------------------------------------------------\u001b[0m",
            "\u001b[0;31mValueError\u001b[0m                                Traceback (most recent call last)",
            "\u001b[0;32m<ipython-input-35-f668f31b24c4>\u001b[0m in \u001b[0;36m<cell line: 7>\u001b[0;34m()\u001b[0m\n\u001b[1;32m      5\u001b[0m \u001b[0mtest_accuracy_deep\u001b[0m \u001b[0;34m=\u001b[0m \u001b[0mtest\u001b[0m\u001b[0;34m(\u001b[0m\u001b[0mmodified_nn_deep_reg\u001b[0m\u001b[0;34m,\u001b[0m \u001b[0mtest_loader\u001b[0m\u001b[0;34m,\u001b[0m \u001b[0mdevice\u001b[0m\u001b[0;34m,\u001b[0m \u001b[0mis_tuple\u001b[0m\u001b[0;34m=\u001b[0m \u001b[0;32mTrue\u001b[0m\u001b[0;34m)\u001b[0m\u001b[0;34m\u001b[0m\u001b[0;34m\u001b[0m\u001b[0m\n\u001b[1;32m      6\u001b[0m \u001b[0mprint\u001b[0m\u001b[0;34m(\u001b[0m\u001b[0;34mf\"Final Student Accuracy (Hint = 1,2):\"\u001b[0m\u001b[0;34m)\u001b[0m\u001b[0;34m\u001b[0m\u001b[0;34m\u001b[0m\u001b[0m\n\u001b[0;32m----> 7\u001b[0;31m \u001b[0mtest_accuracy_light_ce_and_mse_loss1\u001b[0m \u001b[0;34m=\u001b[0m \u001b[0mtest_multiple_outputs\u001b[0m\u001b[0;34m(\u001b[0m\u001b[0mmodified_nn_light_reg\u001b[0m\u001b[0;34m,\u001b[0m \u001b[0mtest_loader\u001b[0m\u001b[0;34m,\u001b[0m \u001b[0mdevice\u001b[0m\u001b[0;34m)\u001b[0m\u001b[0;34m\u001b[0m\u001b[0;34m\u001b[0m\u001b[0m\n\u001b[0m\u001b[1;32m      8\u001b[0m \u001b[0mprint\u001b[0m\u001b[0;34m(\u001b[0m\u001b[0;34mf\"Final Student Accuracy (Hint = 2,3):\"\u001b[0m\u001b[0;34m)\u001b[0m\u001b[0;34m\u001b[0m\u001b[0;34m\u001b[0m\u001b[0m\n\u001b[1;32m      9\u001b[0m \u001b[0mtest_accuracy_light_ce_and_mse_loss2\u001b[0m \u001b[0;34m=\u001b[0m \u001b[0mtest_multiple_outputs\u001b[0m\u001b[0;34m(\u001b[0m\u001b[0mmodified_nn_light_reg2\u001b[0m\u001b[0;34m,\u001b[0m \u001b[0mtest_loader\u001b[0m\u001b[0;34m,\u001b[0m \u001b[0mdevice\u001b[0m\u001b[0;34m)\u001b[0m\u001b[0;34m\u001b[0m\u001b[0;34m\u001b[0m\u001b[0m\n",
            "\u001b[0;32m<ipython-input-30-6980018fba0c>\u001b[0m in \u001b[0;36mtest_multiple_outputs\u001b[0;34m(model, test_loader, device)\u001b[0m\n\u001b[1;32m     10\u001b[0m             \u001b[0minputs\u001b[0m\u001b[0;34m,\u001b[0m \u001b[0mlabels\u001b[0m \u001b[0;34m=\u001b[0m \u001b[0minputs\u001b[0m\u001b[0;34m.\u001b[0m\u001b[0mto\u001b[0m\u001b[0;34m(\u001b[0m\u001b[0mdevice\u001b[0m\u001b[0;34m)\u001b[0m\u001b[0;34m,\u001b[0m \u001b[0mlabels\u001b[0m\u001b[0;34m.\u001b[0m\u001b[0mto\u001b[0m\u001b[0;34m(\u001b[0m\u001b[0mdevice\u001b[0m\u001b[0;34m)\u001b[0m\u001b[0;34m\u001b[0m\u001b[0;34m\u001b[0m\u001b[0m\n\u001b[1;32m     11\u001b[0m \u001b[0;34m\u001b[0m\u001b[0m\n\u001b[0;32m---> 12\u001b[0;31m             \u001b[0moutputs\u001b[0m\u001b[0;34m,\u001b[0m \u001b[0m_\u001b[0m \u001b[0;34m=\u001b[0m \u001b[0mmodel\u001b[0m\u001b[0;34m(\u001b[0m\u001b[0minputs\u001b[0m\u001b[0;34m)\u001b[0m \u001b[0;31m# Disregard the second tensor of the tuple\u001b[0m\u001b[0;34m\u001b[0m\u001b[0;34m\u001b[0m\u001b[0m\n\u001b[0m\u001b[1;32m     13\u001b[0m             \u001b[0m_\u001b[0m\u001b[0;34m,\u001b[0m \u001b[0mpredicted\u001b[0m \u001b[0;34m=\u001b[0m \u001b[0mtorch\u001b[0m\u001b[0;34m.\u001b[0m\u001b[0mmax\u001b[0m\u001b[0;34m(\u001b[0m\u001b[0moutputs\u001b[0m\u001b[0;34m.\u001b[0m\u001b[0mdata\u001b[0m\u001b[0;34m,\u001b[0m \u001b[0;36m1\u001b[0m\u001b[0;34m)\u001b[0m\u001b[0;34m\u001b[0m\u001b[0;34m\u001b[0m\u001b[0m\n\u001b[1;32m     14\u001b[0m \u001b[0;34m\u001b[0m\u001b[0m\n",
            "\u001b[0;31mValueError\u001b[0m: too many values to unpack (expected 2)"
          ]
        }
      ]
    },
    {
      "cell_type": "code",
      "source": [
        "print(f\"Teacher Accuracy:\")\n",
        "test_accuracy_deep = test(modified_nn_deep_reg, test_loader, device, is_tuple= True)\n",
        "print(f\"Final Student Accuracy (Hint = 1,2):\")\n",
        "test_accuracy_light_ce_and_mse_loss1 = test_multiple_outputs(modified_nn_light_reg, test_loader, device)\n",
        "print(f\"Final Student Accuracy (Hint = 2,3):\")\n",
        "test_accuracy_light_ce_and_mse_loss2 = test_multiple_outputs(modified_nn_light_reg2, test_loader, device)\n",
        "print(f\"Final Student Accuracy (Hint = 1,3):\")\n",
        "test_accuracy_light_ce_and_mse_loss3 = test_multiple_outputs(modified_nn_light_reg3, test_loader, device)"
      ],
      "metadata": {
        "colab": {
          "base_uri": "https://localhost:8080/"
        },
        "id": "feXMl8EXG2Yo",
        "outputId": "97acfc17-bd80-411f-92ff-41518084bafa"
      },
      "execution_count": 37,
      "outputs": [
        {
          "output_type": "stream",
          "name": "stdout",
          "text": [
            "Teacher Accuracy:\n",
            "Test Accuracy: 77.22%\n",
            "Final Student Accuracy (Hint = 1,2):\n",
            "Test Accuracy: 75.07%\n",
            "Final Student Accuracy (Hint = 2,3):\n",
            "Test Accuracy: 72.99%\n",
            "Final Student Accuracy (Hint = 1,3):\n",
            "Test Accuracy: 74.08%\n"
          ]
        }
      ]
    },
    {
      "cell_type": "markdown",
      "source": [
        "# Final Model Accuracies\n",
        "As we can see, the student's accuracy is much improved with the 2-stage training following similar methodology in Romero et. al."
      ],
      "metadata": {
        "id": "eudQqGFqYr9J"
      }
    },
    {
      "cell_type": "code",
      "execution_count": 38,
      "metadata": {
        "colab": {
          "base_uri": "https://localhost:8080/"
        },
        "id": "8PjO9MkK3mB8",
        "outputId": "4a6aad20-ea35-4b62-a6f1-c20d35a8a3df"
      },
      "outputs": [
        {
          "output_type": "stream",
          "name": "stdout",
          "text": [
            "Teacher accuracy: 77.22%\n",
            "Student accuracy without teacher: 72.32%\n",
            "Student accuracy with CE + KD: 74.85%\n",
            "Student accuracy (hint=1,2 and guided = Beginning, middle) and Stage 1(RegressorMSE) + Stage 2(CE + KD): 75.07%\n",
            "Student accuracy (hint=2,3 and guided = Middle, end) and Stage 1(RegressorMSE) + Stage 2(CE + KD): 72.99%\n",
            "Student accuracy (hint=1,3 and guided = beginning, End) and Stage 1(RegressorMSE) + Stage 2(CE + KD): 74.08%\n"
          ]
        }
      ],
      "source": [
        "print(f\"Teacher accuracy: {test_accuracy_deep:.2f}%\")\n",
        "print(f\"Student accuracy without teacher: {test_accuracy_light_ce:.2f}%\")\n",
        "print(f\"Student accuracy with CE + KD: {test_accuracy_light_ce_and_kd:.2f}%\")\n",
        "print(f\"Student accuracy (hint=1,2 and guided = Beginning, middle) and Stage 1(RegressorMSE) + Stage 2(CE + KD): {test_accuracy_light_ce_and_mse_loss1:.2f}%\")\n",
        "print(f\"Student accuracy (hint=2,3 and guided = Middle, end) and Stage 1(RegressorMSE) + Stage 2(CE + KD): {test_accuracy_light_ce_and_mse_loss2:.2f}%\")\n",
        "print(f\"Student accuracy (hint=1,3 and guided = beginning, End) and Stage 1(RegressorMSE) + Stage 2(CE + KD): {test_accuracy_light_ce_and_mse_loss3:.2f}%\")"
      ]
    },
    {
      "cell_type": "code",
      "source": [
        "nn_light = LightNN(num_classes=100).to(device)\n",
        "total_params_deep = \"{:,}\".format(sum(p.numel() for p in nn_deep.parameters()))\n",
        "print(f\"DeepNN parameters: {total_params_deep}\")\n",
        "total_params_light = \"{:,}\".format(sum(p.numel() for p in nn_light.parameters()))\n",
        "print(f\"LightNN parameters: {total_params_light}\")\n",
        "total_params_light = \"{:,}\".format(sum(p.numel() for p in modified_nn_light_reg.parameters()))\n",
        "print(f\"LightNN parameters: {total_params_light}\")\n",
        "total_params_light = \"{:,}\".format(sum(p.numel() for p in modified_nn_light_reg2.parameters()))\n",
        "print(f\"LightNN parameters: {total_params_light}\")\n",
        "total_params_light = \"{:,}\".format(sum(p.numel() for p in modified_nn_light_reg3.parameters()))\n",
        "print(f\"LightNN parameters: {total_params_light}\")"
      ],
      "metadata": {
        "colab": {
          "base_uri": "https://localhost:8080/"
        },
        "id": "pmEbi0RnJ8dU",
        "outputId": "9f375ee1-9737-40bb-b9c5-731e3d8f9f15"
      },
      "execution_count": 39,
      "outputs": [
        {
          "output_type": "stream",
          "name": "stdout",
          "text": [
            "DeepNN parameters: 3,201,122\n",
            "LightNN parameters: 151,988\n",
            "LightNN parameters: 261,822\n",
            "LightNN parameters: 397,410\n",
            "LightNN parameters: 313,086\n"
          ]
        }
      ]
    }
  ],
  "metadata": {
    "accelerator": "GPU",
    "colab": {
      "provenance": [],
      "gpuType": "T4"
    },
    "kernelspec": {
      "display_name": "Python 3",
      "name": "python3"
    },
    "language_info": {
      "name": "python"
    }
  },
  "nbformat": 4,
  "nbformat_minor": 0
}